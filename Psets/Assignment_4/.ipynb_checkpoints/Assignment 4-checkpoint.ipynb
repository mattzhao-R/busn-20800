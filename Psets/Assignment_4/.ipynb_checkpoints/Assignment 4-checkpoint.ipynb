{
 "cells": [
  {
   "cell_type": "markdown",
   "metadata": {},
   "source": [
    "# Assignment 4: Classification\n",
    "## BUS 20800: Big Data\n",
    "## Due: 11:59 am on Apr 29, 2022\n"
   ]
  },
  {
   "cell_type": "markdown",
   "metadata": {},
   "source": [
    "---"
   ]
  },
  {
   "cell_type": "markdown",
   "metadata": {},
   "source": [
    "# Part I"
   ]
  },
  {
   "cell_type": "code",
   "execution_count": 1,
   "metadata": {},
   "outputs": [],
   "source": [
    "# Set up codes\n",
    "import numpy as np\n",
    "import pandas as pd\n",
    "import matplotlib.pyplot as plt\n",
    "plt.rc('font', size=14)\n",
    "import seaborn as sns\n",
    "sns.set(style='white')\n",
    "sns.set(style='whitegrid', color_codes=True)\n",
    "import random\n",
    "\n",
    "import math\n",
    "\n",
    "import warnings\n",
    "warnings.filterwarnings('ignore')"
   ]
  },
  {
   "cell_type": "markdown",
   "metadata": {},
   "source": [
    "## Problem 1. Curse of Dimensionality"
   ]
  },
  {
   "cell_type": "markdown",
   "metadata": {},
   "source": [
    "### Problem 1.1 Understanding distance in high dimension"
   ]
  },
  {
   "cell_type": "markdown",
   "metadata": {},
   "source": [
    "K-nn breaks down in high dimensions, and the phenomenon is commonly referred to as the curse of dimensionality (Bellman, 1961).\n",
    "\n",
    "In this example, we will do some calculation and simulation experiment to help you understand the intuition.\n",
    "\n",
    "Consider the nearest-neighbor procedure for inputs uniformly distributed\n",
    "in a p-dimensional unit hypercube. Suppose we use a hypercubical neighborhood about a target point to capture a fraction r of the observations. \n",
    "\n",
    "Since this corresponds to a fraction r of the unit volume, what will the length of \n",
    "the expected edge $e_p \\ (r)$ will be ? \n",
    "\n",
    "<img src=\"knn.png\" alt=\"Drawing\" style=\"width: 300px;\" align=\"center\"/>\n",
    "\n",
    "\n"
   ]
  },
  {
   "cell_type": "markdown",
   "metadata": {},
   "source": [
    "**Answer**:\n"
   ]
  },
  {
   "cell_type": "code",
   "execution_count": null,
   "metadata": {},
   "outputs": [],
   "source": []
  },
  {
   "cell_type": "markdown",
   "metadata": {},
   "source": [
    "Now let's fix r at 0.1, and set p =[1,2,3,5,10,100] calculate $e_p\\ (r)$ numerically, respectively. What conclusions can you make?"
   ]
  },
  {
   "cell_type": "markdown",
   "metadata": {},
   "source": [
    "**Answer**:"
   ]
  },
  {
   "cell_type": "code",
   "execution_count": null,
   "metadata": {},
   "outputs": [],
   "source": []
  },
  {
   "cell_type": "markdown",
   "metadata": {},
   "source": [
    "Now let's fix p at 10, and set r = [0.1,0.2,...,0.6], calculate $e_p \\ (r)$ numerically, respectively. What conclusions can you draw?"
   ]
  },
  {
   "cell_type": "markdown",
   "metadata": {},
   "source": [
    "**Answer**:"
   ]
  },
  {
   "cell_type": "code",
   "execution_count": null,
   "metadata": {},
   "outputs": [],
   "source": []
  },
  {
   "cell_type": "markdown",
   "metadata": {},
   "source": [
    "Now let's formalize the above findings and run the following simulation experiment. \n",
    "Save your results in a dataframe called \"Distance\" below.\n",
    "\n",
    "Set the index as the sequence of r and columns the sequence of p."
   ]
  },
  {
   "cell_type": "code",
   "execution_count": null,
   "metadata": {},
   "outputs": [],
   "source": [
    "# Simulation experiment\n",
    "p_seq = [1,2,3,5,10,100]\n",
    "r = np.linspace(0,0.6,1000)"
   ]
  },
  {
   "cell_type": "code",
   "execution_count": null,
   "metadata": {},
   "outputs": [],
   "source": [
    "##############################################################################\n",
    "### TODO: Calculate the expected edge e_p(r)                              ###\n",
    "##############################################################################\n",
    "Distance = \n",
    "##############################################################################\n",
    "#                               END OF YOUR CODE                             #\n",
    "##############################################################################"
   ]
  },
  {
   "cell_type": "code",
   "execution_count": null,
   "metadata": {},
   "outputs": [],
   "source": [
    "# Visualize your results\n",
    "Distance.plot(figsize = (10,6))\n",
    "plt.ylabel('Distance')\n",
    "plt.xlabel('Fraction of Volume')\n",
    "plt.show()"
   ]
  },
  {
   "cell_type": "markdown",
   "metadata": {},
   "source": [
    "## Problem 1.2 K-nn in high dimension"
   ]
  },
  {
   "cell_type": "markdown",
   "metadata": {},
   "source": [
    "Recall the essence of K-nn:\n",
    "\n",
    "1. We assume the point's label is similar to its neighbours.\n",
    "2. We need to have a good measure of distance.\n",
    "\n",
    "From Problem 1.1, we can see that in a unit hypercube, even though we want to cover a small fraction of its volume, the expected edge $e_r \\ (p)$ is no longer small. Hence, the points we need to cover are no longer 'local'. This might result in the failure of K-nn. \n",
    "\n",
    "Let's see this in the following simulation experiment.\n"
   ]
  },
  {
   "cell_type": "markdown",
   "metadata": {},
   "source": [
    "### Experiment Setup"
   ]
  },
  {
   "cell_type": "markdown",
   "metadata": {},
   "source": [
    "Suppose we have 1000 training examples $X_i$ generated uniformly on $[−1, 1]^p$. Assume that the true relationship between $X$ and $Y$ is\n",
    "\n",
    "$$\n",
    "Y = f(X) = e^{−8||X||^{2}}\n",
    "$$\n",
    "\n",
    "without any measurement error.\n",
    "\n",
    "We use the 1-nn rule to predict $y_0$ at the test-point $X_{0} = 0$, and the true value of Y should be 1."
   ]
  },
  {
   "cell_type": "code",
   "execution_count": null,
   "metadata": {},
   "outputs": [],
   "source": [
    "##############################################################################\n",
    "### TODO: Calculate Y based on x input.                                    ###\n",
    "##############################################################################\n",
    "def f(x):\n",
    "    return \n",
    "##############################################################################\n",
    "#                               END OF YOUR CODE                             #\n",
    "##############################################################################"
   ]
  },
  {
   "cell_type": "markdown",
   "metadata": {},
   "source": [
    "### DGP"
   ]
  },
  {
   "cell_type": "markdown",
   "metadata": {},
   "source": [
    "Run the following cell to generate the simulated data. You don't need to modify any codes here."
   ]
  },
  {
   "cell_type": "code",
   "execution_count": null,
   "metadata": {},
   "outputs": [],
   "source": [
    "def Generate_data(p):\n",
    "    n_sample = 1000\n",
    "    X = np.random.uniform(-1,1,(n_sample,p)).squeeze()\n",
    "    \n",
    "    return [f(x) for x in X]"
   ]
  },
  {
   "cell_type": "markdown",
   "metadata": {},
   "source": [
    "Let's first visualize the results in 1-dimension and 2-dimension. After you finish the above codes, you can directly run the following codes. You don't need to modify any codes here."
   ]
  },
  {
   "cell_type": "markdown",
   "metadata": {},
   "source": [
    "### 2D Visualization for 1-dimensional X"
   ]
  },
  {
   "cell_type": "code",
   "execution_count": null,
   "metadata": {},
   "outputs": [],
   "source": [
    "p = 1\n",
    "n_sample = 1000\n",
    "X = np.random.uniform(-1,1,(n_sample,p)).squeeze()\n",
    "y = [f(x) for x in X]\n",
    "\n",
    "plt.figure(figsize = (8,6))\n",
    "plt.plot(X,y,'o')"
   ]
  },
  {
   "cell_type": "markdown",
   "metadata": {},
   "source": [
    "### 3D Visualization for 2-dimensional X"
   ]
  },
  {
   "cell_type": "code",
   "execution_count": null,
   "metadata": {},
   "outputs": [],
   "source": [
    "from mpl_toolkits.mplot3d import Axes3D\n",
    "\n",
    "p = 2\n",
    "X = np.random.uniform(-1,1,(n_sample,p)).squeeze()\n",
    "\n",
    "fig = plt.figure(figsize = (12,12))\n",
    "ax1 = plt.axes(projection='3d')\n",
    "\n",
    "z = [f(x) for x in X]\n",
    "x = X[:,0]\n",
    "y = X[:,1]\n",
    "\n",
    "ax1.scatter3D(x,y,z, cmap='Blues') \n",
    "plt.show()"
   ]
  },
  {
   "cell_type": "markdown",
   "metadata": {},
   "source": [
    "### K-nn and MSE"
   ]
  },
  {
   "cell_type": "markdown",
   "metadata": {},
   "source": [
    "Now set the dimension $p = [1,2,...,20]$, run this DGP 500 times and claculate the MSE $\\frac{1}{500}\\sum_{i=1}^{500} (1 - \\widehat{f}(x_i))^2$ for 1-nn for each $p$, where $x_i$ is the closest point to the origin in each simulation. Visulize the MSE with respect to dimension $p$, and make comments on this graph. What did you find?"
   ]
  },
  {
   "cell_type": "code",
   "execution_count": null,
   "metadata": {},
   "outputs": [],
   "source": [
    "result = []\n",
    "error = []\n",
    "\n",
    "for p in range(20):\n",
    "\n",
    "    for iter in range(500):\n",
    "##############################################################################\n",
    "### TODO: Calculate MSE for 1-nn, with different ps.                       ###\n",
    "##############################################################################\n",
    "        \n",
    "    \n",
    "        pass   \n",
    "##############################################################################\n",
    "#                               END OF YOUR CODE                             #\n",
    "##############################################################################"
   ]
  },
  {
   "cell_type": "markdown",
   "metadata": {},
   "source": [
    "**Answer**:"
   ]
  },
  {
   "cell_type": "code",
   "execution_count": null,
   "metadata": {},
   "outputs": [],
   "source": []
  },
  {
   "attachments": {
    "Screen%20Shot%202022-04-19%20at%2010.27.12%20AM.png": {
     "image/png": "[encoded data removed]"
    }
   },
   "cell_type": "markdown",
   "metadata": {},
   "source": [
    "## Problem 2. K-nn\n",
    "\n",
    "## Problem 2.1: K-nn in classification: \n",
    "\n",
    "\n",
    "### Problem 2.1.0 : Play with this demo\n",
    "http://vision.stanford.edu/teaching/cs231n-demos/knn/\n",
    "\n",
    "This interactive demo is from Stanford, CS231-n. Play with it to build your intuition on K-nn.\n",
    "\n",
    "![Screen%20Shot%202022-04-19%20at%2010.27.12%20AM.png](attachment:Screen%20Shot%202022-04-19%20at%2010.27.12%20AM.png)"
   ]
  },
  {
   "cell_type": "markdown",
   "metadata": {},
   "source": [
    "## Problem 2.1.1 : K-nn with simulated data"
   ]
  },
  {
   "cell_type": "markdown",
   "metadata": {},
   "source": [
    "In this exercise, we will use the moon shape, circle shape and the balanced linearly seperable data in Assignment 2. And then realize K-nn algoritgm to visualize the decision boundary."
   ]
  },
  {
   "cell_type": "markdown",
   "metadata": {},
   "source": [
    "### DGP\n",
    "\n",
    "Run the following codes to get the simualted data, you don't need to modify any codes here."
   ]
  },
  {
   "cell_type": "code",
   "execution_count": null,
   "metadata": {},
   "outputs": [],
   "source": [
    "# DGP\n",
    "\n",
    "from sklearn.datasets import make_moons, make_circles, make_blobs\n",
    "from sklearn import neighbors\n",
    "\n",
    "from matplotlib.colors import ListedColormap\n",
    "\n",
    "from sklearn.preprocessing import StandardScaler\n",
    "from sklearn.model_selection import train_test_split\n",
    "\n",
    "np.random.seed(0)\n",
    "\n",
    "n_samples = 1500\n",
    "\n",
    "# Generate data    \n",
    "noisy_circles = make_circles(n_samples=n_samples, factor=0.5, noise=0.05)\n",
    "noisy_moons = make_moons(n_samples=n_samples, noise=0.05)\n",
    "balanced = make_blobs(n_samples=n_samples, random_state=8,centers=2,center_box = (-10,10))\n",
    "\n"
   ]
  },
  {
   "cell_type": "markdown",
   "metadata": {},
   "source": [
    "### Circle shape data"
   ]
  },
  {
   "cell_type": "markdown",
   "metadata": {},
   "source": [
    "Seperate the data into training sample and testing sample. \n",
    "\n",
    "(use variable name 'X_train', 'X_test', 'y_train', 'y_test', respectively)\n",
    "\n",
    "And then fit a K-nn model (named 'clf') on your training set, predict the label in the testing set."
   ]
  },
  {
   "cell_type": "code",
   "execution_count": null,
   "metadata": {},
   "outputs": [],
   "source": [
    "# Circle shape dataset\n",
    "X,y = noisy_circles\n",
    "\n",
    "##############################################################################\n",
    "### TODO: Realize k-nn in classification task.                             ###\n",
    "##############################################################################\n",
    "\n",
    "# Train test split\n",
    "X_train, X_test, y_train, y_test =\n",
    "\n",
    "\n",
    "# Fit the K-nn model\n",
    "clf =\n",
    "    \n",
    "##############################################################################\n",
    "#                               END OF YOUR CODE                             #\n",
    "##############################################################################\n"
   ]
  },
  {
   "cell_type": "markdown",
   "metadata": {},
   "source": [
    "Visualize the results, run the following cells and you don't need to modify any codes here.\n",
    "\n",
    "Please make sure you name the defined variables, model as above."
   ]
  },
  {
   "cell_type": "code",
   "execution_count": null,
   "metadata": {},
   "outputs": [],
   "source": [
    "h = .02  # step size in the mesh\n",
    "\n",
    "\n",
    "# Create color maps\n",
    "cmap_light = ListedColormap(['#FFAAAA', '#AAFFAA'])\n",
    "cmap_bold = ListedColormap(['#FF0000', '#00FF00'])\n",
    "\n",
    "\n",
    "# Plot the decision boundary. For that, we will assign a color to each\n",
    "# point in the mesh [x_min, x_max]x[y_min, y_max].\n",
    "x_min, x_max = X[:, 0].min() - 1, X[:, 0].max() + 1\n",
    "y_min, y_max = X[:, 1].min() - 1, X[:, 1].max() + 1\n",
    "xx, yy = np.meshgrid(np.arange(x_min, x_max, h),                         \n",
    "                     np.arange(y_min, y_max, h))\n",
    "\n",
    "\n",
    "# Put the result into a color plot\n",
    "Z = clf.predict(np.c_[xx.ravel(), yy.ravel()])\n",
    "Z = Z.reshape(xx.shape)\n",
    "plt.figure(figsize = (8,8))\n",
    "plt.pcolormesh(xx, yy, Z, cmap=cmap_light)\n",
    "\n",
    "# Plot also the training and testing points\n",
    "plt.scatter(X_train[:, 0], X_train[:, 1], c=y_train, cmap=cmap_bold,\n",
    "            edgecolor='k', s=20)\n",
    "plt.scatter(X_test[:, 0], X_test[:, 1], c=y_test, cmap=cmap_bold,\n",
    "            edgecolor='k', s=20, marker='^')\n",
    "plt.xlim(xx.min(), xx.max())\n",
    "plt.ylim(yy.min(), yy.max())\n",
    "plt.title(\"2-Class classification (k = %i)\"\n",
    "          % (n_neighbors))\n",
    "print(\"{:<40} {:.4f}\".format(\"Train Score:\", clf.score(X_train, y_train)))\n",
    "print(\"{:<40} {:.4f}\".format(\"Test Score:\", clf.score(X_test, y_test)))\n",
    "\n",
    "plt.show()\n"
   ]
  },
  {
   "cell_type": "markdown",
   "metadata": {},
   "source": [
    "### Moon shape dataset"
   ]
  },
  {
   "cell_type": "markdown",
   "metadata": {},
   "source": [
    "Seperate the data into training sample and testing sample. \n",
    "\n",
    "(use variable name 'X_train', 'X_test', 'y_train', 'y_test', respectively)\n",
    "\n",
    "And then fit a K-nn model (named 'clf') on your training set, predict the label in the testing set."
   ]
  },
  {
   "cell_type": "code",
   "execution_count": null,
   "metadata": {},
   "outputs": [],
   "source": [
    "# Moon shape dataset\n",
    "X,y = noisy_moons\n",
    "\n",
    "##############################################################################\n",
    "### TODO: Realize k-nn in classification task.                             ###\n",
    "##############################################################################\n",
    "\n",
    "# Train test split\n",
    "X_train, X_test, y_train, y_test =\n",
    "\n",
    "\n",
    "# Fit the K-nn model\n",
    "clf =\n",
    "\n",
    "##############################################################################\n",
    "#                               END OF YOUR CODE                             #\n",
    "##############################################################################"
   ]
  },
  {
   "cell_type": "markdown",
   "metadata": {},
   "source": [
    "Visualize the results, run the following cells and you don't need to modify any codes here.\n",
    "\n",
    "Please make sure you name the defined variables, model as above."
   ]
  },
  {
   "cell_type": "code",
   "execution_count": null,
   "metadata": {},
   "outputs": [],
   "source": [
    "h = .02  # step size in the mesh\n",
    "\n",
    "\n",
    "# Create color maps\n",
    "cmap_light = ListedColormap(['#FFAAAA', '#AAFFAA'])\n",
    "cmap_bold = ListedColormap(['#FF0000', '#00FF00'])\n",
    "\n",
    "\n",
    "# Plot the decision boundary. For that, we will assign a color to each\n",
    "# point in the mesh [x_min, x_max]x[y_min, y_max].\n",
    "x_min, x_max = X[:, 0].min() - 1, X[:, 0].max() + 1\n",
    "y_min, y_max = X[:, 1].min() - 1, X[:, 1].max() + 1\n",
    "xx, yy = np.meshgrid(np.arange(x_min, x_max, h),                         \n",
    "                     np.arange(y_min, y_max, h))\n",
    "\n",
    "\n",
    "# Put the result into a color plot\n",
    "Z = clf.predict(np.c_[xx.ravel(), yy.ravel()])\n",
    "Z = Z.reshape(xx.shape)\n",
    "plt.figure(figsize = (8,8))\n",
    "plt.pcolormesh(xx, yy, Z, cmap=cmap_light)\n",
    "\n",
    "# Plot also the training and testing points\n",
    "plt.scatter(X_train[:, 0], X_train[:, 1], c=y_train, cmap=cmap_bold,\n",
    "            edgecolor='k', s=20)\n",
    "plt.scatter(X_test[:, 0], X_test[:, 1], c=y_test, cmap=cmap_bold,\n",
    "            edgecolor='k', s=20, marker='^')\n",
    "plt.xlim(xx.min(), xx.max())\n",
    "plt.ylim(yy.min(), yy.max())\n",
    "plt.title(\"2-Class classification (k = %i)\"\n",
    "          % (n_neighbors))\n",
    "print(\"{:<40} {:.4f}\".format(\"Train Score:\", clf.score(X_train, y_train)))\n",
    "print(\"{:<40} {:.4f}\".format(\"Test Score:\", clf.score(X_test, y_test)))\n",
    "\n",
    "plt.show()\n"
   ]
  },
  {
   "cell_type": "markdown",
   "metadata": {},
   "source": [
    "### Linear seperatable dataset"
   ]
  },
  {
   "cell_type": "markdown",
   "metadata": {},
   "source": [
    "Seperate the data into training sample and testing sample. \n",
    "\n",
    "(use variable name 'X_train', 'X_test', 'y_train', 'y_test', respectively)\n",
    "\n",
    "And then fit a K-nn model (named 'clf') on your training set, predict the label in the testing set."
   ]
  },
  {
   "cell_type": "code",
   "execution_count": null,
   "metadata": {},
   "outputs": [],
   "source": [
    "# Linear seperatable dataset\n",
    "X,y = balanced\n",
    "\n",
    "##############################################################################\n",
    "### TODO: Realize k-nn in classification task.                             ###\n",
    "##############################################################################\n",
    "\n",
    "# Train test split\n",
    "X_train, X_test, y_train, y_test =\n",
    "\n",
    "\n",
    "# Fit the K-nn model\n",
    "clf =\n",
    "\n",
    "##############################################################################\n",
    "#                               END OF YOUR CODE                             #\n",
    "##############################################################################"
   ]
  },
  {
   "cell_type": "markdown",
   "metadata": {},
   "source": [
    "Visualize the results, run the following cells and you don't need to modify any codes here.\n",
    "\n",
    "Please make sure you do not change the name of the variable so that the code below can run."
   ]
  },
  {
   "cell_type": "code",
   "execution_count": null,
   "metadata": {},
   "outputs": [],
   "source": [
    "h = .02  # step size in the mesh\n",
    "\n",
    "\n",
    "# Create color maps\n",
    "cmap_light = ListedColormap(['#FFAAAA', '#AAFFAA'])\n",
    "cmap_bold = ListedColormap(['#FF0000', '#00FF00'])\n",
    "\n",
    "\n",
    "# Plot the decision boundary. For that, we will assign a color to each\n",
    "# point in the mesh [x_min, x_max]x[y_min, y_max].\n",
    "x_min, x_max = X[:, 0].min() - 1, X[:, 0].max() + 1\n",
    "y_min, y_max = X[:, 1].min() - 1, X[:, 1].max() + 1\n",
    "xx, yy = np.meshgrid(np.arange(x_min, x_max, h),                         \n",
    "                     np.arange(y_min, y_max, h))\n",
    "\n",
    "\n",
    "# Put the result into a color plot\n",
    "Z = clf.predict(np.c_[xx.ravel(), yy.ravel()])\n",
    "Z = Z.reshape(xx.shape)\n",
    "plt.figure(figsize = (8,8))\n",
    "plt.pcolormesh(xx, yy, Z, cmap=cmap_light)\n",
    "\n",
    "# Plot also the training and testing points\n",
    "plt.scatter(X_train[:, 0], X_train[:, 1], c=y_train, cmap=cmap_bold,\n",
    "            edgecolor='k', s=20)\n",
    "plt.scatter(X_test[:, 0], X_test[:, 1], c=y_test, cmap=cmap_bold,\n",
    "            edgecolor='k', s=20, marker='^')\n",
    "plt.xlim(xx.min(), xx.max())\n",
    "plt.ylim(yy.min(), yy.max())\n",
    "plt.title(\"2-Class classification (k = %i)\"\n",
    "          % (n_neighbors))\n",
    "print(\"{:<40} {:.4f}\".format(\"Train Score:\", clf.score(X_train, y_train)))\n",
    "print(\"{:<40} {:.4f}\".format(\"Test Score:\", clf.score(X_test, y_test)))\n",
    "\n",
    "plt.show()\n",
    "\n"
   ]
  },
  {
   "cell_type": "markdown",
   "metadata": {},
   "source": [
    "## K-nn in regression:"
   ]
  },
  {
   "cell_type": "markdown",
   "metadata": {},
   "source": [
    "K-nn can also be used in regression. See the following explaination.\n",
    "\n",
    "**What we want in theory**:\n",
    "\n",
    "Recall in the regression setting (not necessarily linear) with square loss, the optimal f that minimize:\n",
    "$$\n",
    "L(Y,f(X)) = [Y-f(X)]^2\n",
    "$$\n",
    "\n",
    "is $f_{opt} = \\mathbb{E}(Y|X=x)$.\n",
    "\n",
    "**What we do in practice:**\n",
    "\n",
    "Unfortunately, we can't in general use this formula. And in linear setting, we have this assumption:\n",
    "\n",
    "$$\n",
    "\\mathbb{E}(Y|X=x) = x'\\beta \n",
    "$$\n",
    "\n",
    "\n",
    "This is so-called a *parametric* method. \n",
    "\n",
    "\n",
    "As for k-NN regression, it estimates $\\mathbb{E}(Y|X=x)$ based on local averaging, it's a *non-parametric* method.\n",
    "\n",
    "$$\n",
    "\\hat{Y}(x) = \\hat{E}(Y | X = x) = \\frac{1}{k}\\sum_{i = 1}^ky(X_{N_i{(x)}})\n",
    "$$\n",
    "\n"
   ]
  },
  {
   "cell_type": "markdown",
   "metadata": {},
   "source": [
    "### Part 2.2.1 Data Generating Process (DGP)\n",
    "\n",
    "\n",
    "Condiser the following DGP: $y = sin(x) + 0.2 \\times \\varepsilon$ where $\\varepsilon$ is the standard Gaussian noise. Run the following cell and you don't need to modify any codes here."
   ]
  },
  {
   "cell_type": "code",
   "execution_count": null,
   "metadata": {},
   "outputs": [],
   "source": [
    "# DPG \n",
    "np.random.seed(42)\n",
    "\n",
    "N = 100\n",
    "noise = 0.2\n",
    "\n",
    "# Generate y = sin(x)\n",
    "x = np.linspace(0, N, N, endpoint=True) / 10\n",
    "y = np.sin(x) \n",
    "\n",
    "# Add noise term\n",
    "y += noise * np.random.normal(0, 1, N)\n",
    "\n",
    "plt.figure(figsize = (8,6))\n",
    "plt.plot(x, y, 'o')\n",
    "plt.plot(x, np.sin(x))\n",
    "plt.show()"
   ]
  },
  {
   "cell_type": "markdown",
   "metadata": {},
   "source": [
    "### Part 2.2.2 Fit the K-nn regression"
   ]
  },
  {
   "cell_type": "markdown",
   "metadata": {},
   "source": [
    "Please fit a K-nn estimator to this dataset and visualize the fitted regression line with different Ks. Finish the codes in Knn_experiment.py and run the folllowing cells."
   ]
  },
  {
   "cell_type": "code",
   "execution_count": null,
   "metadata": {},
   "outputs": [],
   "source": [
    "# Perform K-nn regression\n",
    "from Knn_regression import *\n",
    "\n",
    "\n",
    "# Try to play with different K\n",
    "k = \n",
    "\n",
    "Knn_visualize(x,y,k)"
   ]
  },
  {
   "cell_type": "markdown",
   "metadata": {},
   "source": [
    "Based on the visualization results, can you answer the following questions?\n",
    "\n",
    "+ Is K-nn regression linear?\n",
    "+ As K increases, does the fitted regression line become smoother or not?"
   ]
  },
  {
   "cell_type": "markdown",
   "metadata": {},
   "source": [
    "## Problem 3: Face completion"
   ]
  },
  {
   "cell_type": "markdown",
   "metadata": {},
   "source": [
    "In this exerceise, we compare different methods on the task of face completion. The goal is to predict the lower half of a face given its upper half using different algorithm."
   ]
  },
  {
   "cell_type": "markdown",
   "metadata": {},
   "source": [
    "### Part 3.1 Data preprocessing"
   ]
  },
  {
   "cell_type": "markdown",
   "metadata": {},
   "source": [
    "In this dataset, we have 40 people each with 10 different facial photographs (400 graphs in total). And each graph's pixels are in 64 $\\times$ 64 dimension.\n",
    "\n",
    "\n",
    "Run the following cells and load the face dataset. You can see the data descriprion as below, and you don't need to modify any codes here.\n",
    "\n"
   ]
  },
  {
   "cell_type": "markdown",
   "metadata": {},
   "source": [
    "+ data   : flattened vector of these images, dimension 400 $\\times$ 4096.\n",
    "+ target : label of each person, from 0-39, 40 classes in total."
   ]
  },
  {
   "cell_type": "code",
   "execution_count": 2,
   "metadata": {},
   "outputs": [],
   "source": [
    "# Load the faces datasets\n",
    "\n",
    "from sklearn.datasets import fetch_olivetti_faces\n",
    "from sklearn.utils.validation import check_random_state\n",
    "\n",
    "data, targets = fetch_olivetti_faces(return_X_y=True)"
   ]
  },
  {
   "cell_type": "code",
   "execution_count": 3,
   "metadata": {},
   "outputs": [],
   "source": [
    "# Train test set split\n",
    "# Use the first 30 people as our training set, and the last 10 as ouur testing data.\n",
    "\n",
    "train = data[targets < 30]\n",
    "test = data[targets >= 30]  "
   ]
  },
  {
   "cell_type": "code",
   "execution_count": 4,
   "metadata": {},
   "outputs": [],
   "source": [
    "# Choose 5 graphs from the total test set for visualization purpose. These are five full faces.\n",
    "\n",
    "n_faces = 5\n",
    "rng = check_random_state(4)\n",
    "face_ids = rng.randint(test.shape[0], size=(n_faces,))\n",
    "test = test[face_ids, :]"
   ]
  },
  {
   "cell_type": "markdown",
   "metadata": {},
   "source": [
    "Run the following cells to visualize the true face."
   ]
  },
  {
   "cell_type": "code",
   "execution_count": 5,
   "metadata": {},
   "outputs": [],
   "source": [
    "# Seperate each graph into the upper half and lower half.\n",
    "\n",
    "n_pixels = data.shape[1]\n",
    "X_train = train[:, : (n_pixels + 1) // 2]\n",
    "y_train = train[:, n_pixels // 2 :]\n",
    "\n",
    "X_test = test[:, : (n_pixels + 1) // 2]\n",
    "y_test = test[:, n_pixels // 2 :]"
   ]
  },
  {
   "cell_type": "code",
   "execution_count": 6,
   "metadata": {},
   "outputs": [
    {
     "data": {
      "image/png": "[encoded data removed]",
      "text/plain": [
       "<Figure size 864x864 with 1 Axes>"
      ]
     },
     "metadata": {},
     "output_type": "display_data"
    },
    {
     "data": {
      "image/png": "[encoded data removed]",
      "text/plain": [
       "<Figure size 864x864 with 1 Axes>"
      ]
     },
     "metadata": {},
     "output_type": "display_data"
    },
    {
     "data": {
      "image/png": "[encoded data removed]",
      "text/plain": [
       "<Figure size 864x864 with 1 Axes>"
      ]
     },
     "metadata": {},
     "output_type": "display_data"
    },
    {
     "data": {
      "image/png": "[encoded data removed]",
      "text/plain": [
       "<Figure size 864x864 with 1 Axes>"
      ]
     },
     "metadata": {},
     "output_type": "display_data"
    },
    {
     "data": {
      "image/png": "[encoded data removed]",
      "text/plain": [
       "<Figure size 864x864 with 1 Axes>"
      ]
     },
     "metadata": {},
     "output_type": "display_data"
    }
   ],
   "source": [
    "image_shape = (64, 64)\n",
    "for i in range(1,6):\n",
    "    plt.figure(figsize = (12,12))\n",
    "    plt.subplot(5,1,i)\n",
    "    true_face = np.hstack((X_test[i-1], y_test[i-1]))\n",
    "    plt.axis(\"off\")\n",
    "    plt.imshow(\n",
    "        true_face.reshape(image_shape), cmap=plt.cm.gray, interpolation=\"nearest\"\n",
    "    )"
   ]
  },
  {
   "cell_type": "markdown",
   "metadata": {},
   "source": [
    "### Part 3.2 Model training"
   ]
  },
  {
   "cell_type": "markdown",
   "metadata": {},
   "source": [
    "In this section, you will compare the results of K-nn, linear regression, and ridge. Note that this is a multi-dimensional regression problem, where each pixel in the lower half the image is a y variable that you need run regression with. In other words, the y variable is a matrix. "
   ]
  },
  {
   "cell_type": "code",
   "execution_count": null,
   "metadata": {},
   "outputs": [],
   "source": [
    "# Fit estimators and store the information in a dictionary structure dataframe.\n",
    "from sklearn.neighbors import KNeighborsRegressor\n",
    "from sklearn.linear_model import LinearRegression\n",
    "from sklearn.linear_model import RidgeCV\n",
    "\n",
    "ESTIMATORS = {\n",
    "    \"K-nn\": KNeighborsRegressor(),\n",
    "    \"Linear regression\": LinearRegression(),\n",
    "    \"Ridge\": RidgeCV()\n",
    "}\n",
    "\n",
    "y_test_predict = dict()"
   ]
  },
  {
   "cell_type": "markdown",
   "metadata": {},
   "source": [
    "Finish your codes in the following cells. You need to finish the training procedure for K-nn, linear regression and ridge. And use these models to get OOS prediction."
   ]
  },
  {
   "cell_type": "code",
   "execution_count": null,
   "metadata": {},
   "outputs": [],
   "source": [
    "##############################################################################\n",
    "### TODO: Fit K-nn, linear regression and ridge, and get OOS prediction    ###\n",
    "##############################################################################\n",
    "\n",
    "for name, estimator in ESTIMATORS.items():\n",
    "\n",
    "\n",
    "##############################################################################\n",
    "#                               END OF YOUR CODE                             #\n",
    "##############################################################################\n"
   ]
  },
  {
   "cell_type": "markdown",
   "metadata": {},
   "source": [
    "### Part 3.3 Visualization"
   ]
  },
  {
   "cell_type": "markdown",
   "metadata": {},
   "source": [
    "Run the following cells to visualize the facial prediction. You don't need to modify any codes here."
   ]
  },
  {
   "cell_type": "code",
   "execution_count": null,
   "metadata": {},
   "outputs": [],
   "source": [
    "# Plot the completed faces\n",
    "\n",
    "n_cols = 1 + len(ESTIMATORS)\n",
    "plt.figure(figsize=(2.0 * n_cols, 2.26 * n_faces))\n",
    "plt.suptitle(\"Face completion with multi-output estimators\", size=16)\n",
    "\n",
    "for i in range(n_faces):\n",
    "    true_face = np.hstack((X_test[i], y_test[i]))\n",
    "\n",
    "    if i:\n",
    "        sub = plt.subplot(n_faces, n_cols, i * n_cols + 1)\n",
    "    else:\n",
    "        sub = plt.subplot(n_faces, n_cols, i * n_cols + 1, title=\"true faces\")\n",
    "\n",
    "    sub.axis(\"off\")\n",
    "    sub.imshow(\n",
    "        true_face.reshape(image_shape), cmap=plt.cm.gray, interpolation=\"nearest\"\n",
    "    )\n",
    "\n",
    "    for j, est in enumerate(sorted(ESTIMATORS)):\n",
    "        completed_face = np.hstack((X_test[i], y_test_predict[est][i]))\n",
    "\n",
    "        if i:\n",
    "            sub = plt.subplot(n_faces, n_cols, i * n_cols + 2 + j)\n",
    "\n",
    "        else:\n",
    "            sub = plt.subplot(n_faces, n_cols, i * n_cols + 2 + j, title=est)\n",
    "\n",
    "        sub.axis(\"off\")\n",
    "        sub.imshow(\n",
    "            completed_face.reshape(image_shape),\n",
    "            cmap=plt.cm.gray,\n",
    "            interpolation=\"nearest\",\n",
    "        )\n",
    "\n",
    "plt.show()"
   ]
  }
 ],
 "metadata": {
  "kernelspec": {
   "display_name": "Python 3 (ipykernel)",
   "language": "python",
   "name": "python3"
  },
  "language_info": {
   "codemirror_mode": {
    "name": "ipython",
    "version": 3
   },
   "file_extension": ".py",
   "mimetype": "text/x-python",
   "name": "python",
   "nbconvert_exporter": "python",
   "pygments_lexer": "ipython3",
   "version": "3.9.7"
  }
 },
 "nbformat": 4,
 "nbformat_minor": 4
}
