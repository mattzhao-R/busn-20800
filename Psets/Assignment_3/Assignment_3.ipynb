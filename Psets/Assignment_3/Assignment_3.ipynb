{
 "cells": [
  {
   "cell_type": "markdown",
   "metadata": {},
   "source": [
    "# Assignment 3: Model selection and regularization\n",
    "## BUS 20800: Big Data\n",
    "## Due: 11:59 am on Apr 22, 2022"
   ]
  },
  {
   "cell_type": "markdown",
   "metadata": {},
   "source": [
    "----"
   ]
  },
  {
   "cell_type": "markdown",
   "metadata": {},
   "source": [
    "## Part I"
   ]
  },
  {
   "cell_type": "markdown",
   "metadata": {},
   "source": [
    "## Problem 1. **In-Sample and Out-of-Sample Performance**"
   ]
  },
  {
   "cell_type": "markdown",
   "metadata": {},
   "source": [
    "**1. Linear model**\n",
    "\n",
    "Consider a linear regression model with $p$ parameters, fit by least squares to a set of training data $(x_1, y_1), . . . , (x_N, y_N)$ drawn at random from a population. Let $\\hat{\\beta}$ be the least squares estimate. Suppose we have\n",
    "some test data $(\\tilde{x}_1, \\tilde{y}_1), . . . , (\\tilde{x}_M, \\tilde{y}_M)$ drawn at random from the same population as the training data. Set\n",
    "\n",
    "$$L_{train}\\ \\ (\\beta) = \\frac{1}{N}\\sum_{i=1}^N(y_i - \\beta^TX_i)^2\n",
    "$$\n",
    "$$\n",
    "L_{test}\\ \\ (\\beta) = \\frac{1}{M}\\sum_{i = 1}^M(\\tilde{y}_i-\\beta^T\\tilde{X}_i)^2\n",
    "$$\n",
    "\n",
    "Show that\n",
    "$$\n",
    "\\mathbb{E}(L_{train}\\ \\ (\\hat{\\beta})) \\leq \\mathbb{E}(L_{test}\\ \\ (\\hat{\\beta}))\n",
    "$$\n",
    "\n",
    "\n",
    "\n"
   ]
  },
  {
   "cell_type": "markdown",
   "metadata": {},
   "source": [
    "**Answer** :"
   ]
  },
  {
   "cell_type": "code",
   "execution_count": null,
   "metadata": {},
   "outputs": [],
   "source": []
  },
  {
   "cell_type": "markdown",
   "metadata": {},
   "source": [
    "## Problem 2. **Ridge Regression and Correlation Screening**"
   ]
  },
  {
   "cell_type": "markdown",
   "metadata": {},
   "source": [
    "**1. Ridge and OLS**\n",
    "\n",
    "Show that the ridge regression estimates can be obtained by OLS on an augmented data set. We augment the centered matrix $X$ with $p$ additional rows $\\sqrt{\\lambda}I$, and augment $y$ with $p$ zeros. By introducing artificial data with response value being zero, the fitting procedure is forced to shrink the coefficients toward zero. \n",
    "\n",
    "**Answer** :\n",
    "\n"
   ]
  },
  {
   "cell_type": "code",
   "execution_count": null,
   "metadata": {},
   "outputs": [],
   "source": []
  },
  {
   "cell_type": "markdown",
   "metadata": {},
   "source": [
    "\n",
    "\n",
    "**2. Analytical formula for Ridge**\n",
    "\n",
    "Show that for the ridge problem\n",
    "\n",
    "$$\\hat{\\beta}_{ridge} = argmin _{\\beta}||Y-X\\beta||^2_2 +\\lambda ||\\beta||_2^2\n",
    "$$\n",
    "\n",
    "has the closed form:\n",
    "\n",
    "$$\n",
    "\\hat{\\beta}_{ridge} = (X^TX+\\lambda I_d)^{-1}X^TY\n",
    "$$\n",
    "\n",
    "where $I_d$ is the identity matrix.\n",
    "\n",
    "\n",
    "**Answer**:\n",
    "\n"
   ]
  },
  {
   "cell_type": "code",
   "execution_count": null,
   "metadata": {},
   "outputs": [],
   "source": []
  },
  {
   "cell_type": "markdown",
   "metadata": {},
   "source": [
    "**3. Ridge and Correlation Screening**\n",
    "\n",
    "Consider a linear regression model $Y=X\\beta+\\varepsilon$, where $y$ is the $n × 1$ response vector, $X$ is the $n × p$ design matrix, $\\beta$ is the $p × 1$ regression coefficient vector, and $\\varepsilon$ is the $n×1$ random error vector with $E(\\varepsilon) = 0$ and $Cov(ε) = \\sigma^2 I_{d}$.\n",
    "\n",
    "Assume each column of $X$ has zero mean and unit variance.\n",
    "\n",
    "Use results of 2.2 to show that when $\\lambda → \\infty$, ridge regression outputs are exactly the correlations used in screening.\n",
    "\n",
    "\n",
    "\n",
    "**Answer**:"
   ]
  },
  {
   "cell_type": "code",
   "execution_count": null,
   "metadata": {},
   "outputs": [],
   "source": []
  },
  {
   "cell_type": "markdown",
   "metadata": {},
   "source": [
    "-----"
   ]
  },
  {
   "cell_type": "markdown",
   "metadata": {},
   "source": [
    "## Part II"
   ]
  },
  {
   "cell_type": "code",
   "execution_count": 2,
   "metadata": {},
   "outputs": [],
   "source": [
    "# Setup codes\n",
    "\n",
    "import pandas as pd\n",
    "import numpy as np\n",
    "import warnings\n",
    "import matplotlib.pyplot as plt\n",
    "plt.rc('font', size=14)\n",
    "import seaborn as sns\n",
    "sns.set(style='white')\n",
    "sns.set(style='whitegrid', color_codes=True)\n",
    "\n",
    "warnings.filterwarnings(\"ignore\")"
   ]
  },
  {
   "cell_type": "markdown",
   "metadata": {},
   "source": [
    "----"
   ]
  },
  {
   "cell_type": "markdown",
   "metadata": {},
   "source": [
    "## Problem 3. **Best Subset, Forward Stepwise and Backward Stepwise Regression**\n",
    "\n"
   ]
  },
  {
   "cell_type": "markdown",
   "metadata": {},
   "source": [
    "In this exercise, we simluate a linear regression problem, and compare selected features based on different methods."
   ]
  },
  {
   "cell_type": "markdown",
   "metadata": {},
   "source": [
    "### Part 1. Data Generating Process"
   ]
  },
  {
   "cell_type": "markdown",
   "metadata": {},
   "source": [
    "Consider a linear regression problem $y = X^T\\beta +\\varepsilon$.  Suppose there are 300 observations on 16 standard Gaussian variables, with pairwise correlations all equal to 0.85. For the first 6 variables, the coefficients are drawn from a $N(0,0.4)$ distribution; the rests are 0. Therefore, the true DGP of $y$ only depends on the first 6 entires of $X$ variables. The noise follows $N(0,6.25)$."
   ]
  },
  {
   "cell_type": "code",
   "execution_count": 3,
   "metadata": {},
   "outputs": [],
   "source": [
    "# DGP, you don't need to modify any codes here.\n",
    "N = 300\n",
    "p = 16\n",
    "rou = 0.85\n",
    "num_signals = 6\n",
    "sigma = np.ones((p,p)) * rou + (1-rou) * np.identity(p)\n",
    "X = np.random.multivariate_normal(np.repeat(0,p), sigma, size = N)\n",
    "X = pd.DataFrame(data = X)\n",
    "beta = np.random.normal(0,0.4,num_signals).tolist()+ np.repeat(0,p-num_signals).tolist()\n",
    "noise = np.random.normal(0,6.25, N)\n",
    "\n",
    "y = X.dot(beta) +noise"
   ]
  },
  {
   "cell_type": "markdown",
   "metadata": {},
   "source": [
    "### Part 2. Compare Three Methods\n",
    "\n"
   ]
  },
  {
   "cell_type": "markdown",
   "metadata": {},
   "source": [
    "Suppose now we want to decide the best regression model with $k$ regressors, for each given $k$, where $k = 1,2,\\cdots, p$, respectively. \n",
    "\n",
    "For best subset selection regression, how many models do you compare? What about forward stepwise and backward stepwise regressions?\n",
    "\n",
    "\n",
    "**Answer**:For best subset selection regression, we want to compare all the possible subsets: $\\sum_{k=1}^{p} {p \\choose k}$. In our case, since p = 16, we have $\\sum_{k=1}^{16} {16 \\choose k} = 65535$ possible subsets and models, out of which we find the best subset.\n",
    "\n"
   ]
  },
  {
   "cell_type": "code",
   "execution_count": 4,
   "metadata": {},
   "outputs": [
    {
     "data": {
      "text/plain": [
       "65535.0"
      ]
     },
     "execution_count": 4,
     "metadata": {},
     "output_type": "execute_result"
    }
   ],
   "source": [
    "import math\n",
    "\n",
    "def comb(p,k):\n",
    "    f = math.factorial\n",
    "    return f(p) / f(k) / f(p-k)\n",
    "\n",
    "best_subset_total_models = 0\n",
    "for i in range (1, 17):\n",
    "    best_subset_total_models += comb(16, i)\n",
    "best_subset_total_models\n",
    "# import itertools\n",
    "# for combo in itertools.combinations(16, 16):\n",
    "#     print(combo)\n"
   ]
  },
  {
   "cell_type": "markdown",
   "metadata": {},
   "source": [
    "Now let's see which model is selected by these three methods for a given $k$ number of regressors, and compare their running time.\n",
    "\n",
    "Please finish Best_subset_selection, Forward_stepwise_selection, Backward_stepwise_selection in Stepwise_simulation.py before you run the following cells. You don't need to modify any codes here."
   ]
  },
  {
   "cell_type": "code",
   "execution_count": null,
   "metadata": {},
   "outputs": [],
   "source": [
    "from Stepwise_simulation import *"
   ]
  },
  {
   "cell_type": "markdown",
   "metadata": {},
   "source": [
    "The following 3 methods will output the variables it selected with different numbers of regessors, respectively."
   ]
  },
  {
   "cell_type": "code",
   "execution_count": null,
   "metadata": {},
   "outputs": [
    {
     "data": {
      "application/vnd.jupyter.widget-view+json": {
       "model_id": "43e2662dee814314b6dd02f9f6741975",
       "version_major": 2,
       "version_minor": 0
      },
      "text/plain": [
       "Loop...:   0%|          | 0/15 [00:00<?, ?it/s]"
      ]
     },
     "metadata": {},
     "output_type": "display_data"
    }
   ],
   "source": [
    "# Best Subset selection\n",
    "# Please finish the codes in Best_subset_selection(X,y,p)\n",
    "df_best,time_best = Best_subset_selection(X,y,p)"
   ]
  },
  {
   "cell_type": "code",
   "execution_count": 12,
   "metadata": {},
   "outputs": [
    {
     "data": {
      "text/html": [
       "<div>\n",
       "<style scoped>\n",
       "    .dataframe tbody tr th:only-of-type {\n",
       "        vertical-align: middle;\n",
       "    }\n",
       "\n",
       "    .dataframe tbody tr th {\n",
       "        vertical-align: top;\n",
       "    }\n",
       "\n",
       "    .dataframe thead th {\n",
       "        text-align: right;\n",
       "    }\n",
       "</style>\n",
       "<table border=\"1\" class=\"dataframe\">\n",
       "  <thead>\n",
       "    <tr style=\"text-align: right;\">\n",
       "      <th></th>\n",
       "      <th>numb_features</th>\n",
       "      <th>RSS</th>\n",
       "      <th>R_squared</th>\n",
       "      <th>features</th>\n",
       "    </tr>\n",
       "  </thead>\n",
       "  <tbody>\n",
       "    <tr>\n",
       "      <th>0</th>\n",
       "      <td>1</td>\n",
       "      <td>12471.054740</td>\n",
       "      <td>0.046620</td>\n",
       "      <td>(8,)</td>\n",
       "    </tr>\n",
       "    <tr>\n",
       "      <th>1</th>\n",
       "      <td>2</td>\n",
       "      <td>12391.527512</td>\n",
       "      <td>0.052700</td>\n",
       "      <td>(8, 10)</td>\n",
       "    </tr>\n",
       "    <tr>\n",
       "      <th>2</th>\n",
       "      <td>3</td>\n",
       "      <td>12323.754848</td>\n",
       "      <td>0.057881</td>\n",
       "      <td>(4, 8, 10)</td>\n",
       "    </tr>\n",
       "    <tr>\n",
       "      <th>3</th>\n",
       "      <td>4</td>\n",
       "      <td>12260.881282</td>\n",
       "      <td>0.062687</td>\n",
       "      <td>(4, 7, 8, 10)</td>\n",
       "    </tr>\n",
       "    <tr>\n",
       "      <th>4</th>\n",
       "      <td>5</td>\n",
       "      <td>12208.403698</td>\n",
       "      <td>0.066699</td>\n",
       "      <td>(0, 4, 7, 8, 10)</td>\n",
       "    </tr>\n",
       "    <tr>\n",
       "      <th>5</th>\n",
       "      <td>6</td>\n",
       "      <td>12159.151236</td>\n",
       "      <td>0.070464</td>\n",
       "      <td>(0, 4, 7, 8, 9, 10)</td>\n",
       "    </tr>\n",
       "    <tr>\n",
       "      <th>6</th>\n",
       "      <td>7</td>\n",
       "      <td>12123.992877</td>\n",
       "      <td>0.073152</td>\n",
       "      <td>(0, 4, 6, 7, 8, 9, 10)</td>\n",
       "    </tr>\n",
       "    <tr>\n",
       "      <th>7</th>\n",
       "      <td>8</td>\n",
       "      <td>12091.994094</td>\n",
       "      <td>0.075598</td>\n",
       "      <td>(0, 4, 6, 7, 8, 9, 10, 13)</td>\n",
       "    </tr>\n",
       "    <tr>\n",
       "      <th>8</th>\n",
       "      <td>9</td>\n",
       "      <td>12069.818993</td>\n",
       "      <td>0.077293</td>\n",
       "      <td>(0, 4, 6, 7, 8, 9, 10, 13, 14)</td>\n",
       "    </tr>\n",
       "    <tr>\n",
       "      <th>9</th>\n",
       "      <td>10</td>\n",
       "      <td>12045.045690</td>\n",
       "      <td>0.079187</td>\n",
       "      <td>(0, 4, 5, 6, 7, 8, 9, 10, 13, 14)</td>\n",
       "    </tr>\n",
       "    <tr>\n",
       "      <th>10</th>\n",
       "      <td>11</td>\n",
       "      <td>12029.217254</td>\n",
       "      <td>0.080397</td>\n",
       "      <td>(0, 4, 5, 6, 7, 8, 9, 10, 13, 14, 15)</td>\n",
       "    </tr>\n",
       "    <tr>\n",
       "      <th>11</th>\n",
       "      <td>12</td>\n",
       "      <td>12013.494648</td>\n",
       "      <td>0.081599</td>\n",
       "      <td>(0, 3, 4, 5, 6, 7, 8, 9, 10, 13, 14, 15)</td>\n",
       "    </tr>\n",
       "    <tr>\n",
       "      <th>12</th>\n",
       "      <td>13</td>\n",
       "      <td>12006.425211</td>\n",
       "      <td>0.082140</td>\n",
       "      <td>(0, 2, 3, 4, 5, 6, 7, 8, 9, 10, 13, 14, 15)</td>\n",
       "    </tr>\n",
       "    <tr>\n",
       "      <th>13</th>\n",
       "      <td>14</td>\n",
       "      <td>12001.818362</td>\n",
       "      <td>0.082492</td>\n",
       "      <td>(0, 1, 2, 3, 4, 5, 6, 7, 8, 9, 10, 13, 14, 15)</td>\n",
       "    </tr>\n",
       "    <tr>\n",
       "      <th>14</th>\n",
       "      <td>15</td>\n",
       "      <td>11996.998833</td>\n",
       "      <td>0.082860</td>\n",
       "      <td>(0, 1, 2, 3, 4, 5, 6, 7, 8, 9, 10, 12, 13, 14,...</td>\n",
       "    </tr>\n",
       "  </tbody>\n",
       "</table>\n",
       "</div>"
      ],
      "text/plain": [
       "    numb_features           RSS  R_squared  \\\n",
       "0               1  12471.054740   0.046620   \n",
       "1               2  12391.527512   0.052700   \n",
       "2               3  12323.754848   0.057881   \n",
       "3               4  12260.881282   0.062687   \n",
       "4               5  12208.403698   0.066699   \n",
       "5               6  12159.151236   0.070464   \n",
       "6               7  12123.992877   0.073152   \n",
       "7               8  12091.994094   0.075598   \n",
       "8               9  12069.818993   0.077293   \n",
       "9              10  12045.045690   0.079187   \n",
       "10             11  12029.217254   0.080397   \n",
       "11             12  12013.494648   0.081599   \n",
       "12             13  12006.425211   0.082140   \n",
       "13             14  12001.818362   0.082492   \n",
       "14             15  11996.998833   0.082860   \n",
       "\n",
       "                                             features  \n",
       "0                                                (8,)  \n",
       "1                                             (8, 10)  \n",
       "2                                          (4, 8, 10)  \n",
       "3                                       (4, 7, 8, 10)  \n",
       "4                                    (0, 4, 7, 8, 10)  \n",
       "5                                 (0, 4, 7, 8, 9, 10)  \n",
       "6                              (0, 4, 6, 7, 8, 9, 10)  \n",
       "7                          (0, 4, 6, 7, 8, 9, 10, 13)  \n",
       "8                      (0, 4, 6, 7, 8, 9, 10, 13, 14)  \n",
       "9                   (0, 4, 5, 6, 7, 8, 9, 10, 13, 14)  \n",
       "10              (0, 4, 5, 6, 7, 8, 9, 10, 13, 14, 15)  \n",
       "11           (0, 3, 4, 5, 6, 7, 8, 9, 10, 13, 14, 15)  \n",
       "12        (0, 2, 3, 4, 5, 6, 7, 8, 9, 10, 13, 14, 15)  \n",
       "13     (0, 1, 2, 3, 4, 5, 6, 7, 8, 9, 10, 13, 14, 15)  \n",
       "14  (0, 1, 2, 3, 4, 5, 6, 7, 8, 9, 10, 12, 13, 14,...  "
      ]
     },
     "execution_count": 12,
     "metadata": {},
     "output_type": "execute_result"
    }
   ],
   "source": [
    "df_best"
   ]
  },
  {
   "cell_type": "code",
   "execution_count": null,
   "metadata": {},
   "outputs": [],
   "source": [
    "# Forward Stepwise selection\n",
    "# Please finish the codes in Forward_stepwise_selection(X,y,p)\n",
    "df_forward, time_forward = Forward_stepwise_selection(X,y,p)"
   ]
  },
  {
   "cell_type": "code",
   "execution_count": null,
   "metadata": {},
   "outputs": [
    {
     "data": {
      "text/html": [
       "<div>\n",
       "<style scoped>\n",
       "    .dataframe tbody tr th:only-of-type {\n",
       "        vertical-align: middle;\n",
       "    }\n",
       "\n",
       "    .dataframe tbody tr th {\n",
       "        vertical-align: top;\n",
       "    }\n",
       "\n",
       "    .dataframe thead th {\n",
       "        text-align: right;\n",
       "    }\n",
       "</style>\n",
       "<table border=\"1\" class=\"dataframe\">\n",
       "  <thead>\n",
       "    <tr style=\"text-align: right;\">\n",
       "      <th></th>\n",
       "      <th>numb_features</th>\n",
       "      <th>RSS</th>\n",
       "      <th>R_squared</th>\n",
       "      <th>features</th>\n",
       "    </tr>\n",
       "  </thead>\n",
       "  <tbody>\n",
       "    <tr>\n",
       "      <th>0</th>\n",
       "      <td>1</td>\n",
       "      <td>12471.054740</td>\n",
       "      <td>0.046620</td>\n",
       "      <td>[8]</td>\n",
       "    </tr>\n",
       "    <tr>\n",
       "      <th>1</th>\n",
       "      <td>2</td>\n",
       "      <td>12391.527512</td>\n",
       "      <td>0.052700</td>\n",
       "      <td>[8, 10]</td>\n",
       "    </tr>\n",
       "    <tr>\n",
       "      <th>2</th>\n",
       "      <td>3</td>\n",
       "      <td>12323.754848</td>\n",
       "      <td>0.057881</td>\n",
       "      <td>[8, 10, 4]</td>\n",
       "    </tr>\n",
       "    <tr>\n",
       "      <th>3</th>\n",
       "      <td>4</td>\n",
       "      <td>12260.881282</td>\n",
       "      <td>0.062687</td>\n",
       "      <td>[8, 10, 4, 7]</td>\n",
       "    </tr>\n",
       "    <tr>\n",
       "      <th>4</th>\n",
       "      <td>5</td>\n",
       "      <td>12208.403698</td>\n",
       "      <td>0.066699</td>\n",
       "      <td>[8, 10, 4, 7, 0]</td>\n",
       "    </tr>\n",
       "    <tr>\n",
       "      <th>5</th>\n",
       "      <td>6</td>\n",
       "      <td>12159.151236</td>\n",
       "      <td>0.070464</td>\n",
       "      <td>[8, 10, 4, 7, 0, 9]</td>\n",
       "    </tr>\n",
       "    <tr>\n",
       "      <th>6</th>\n",
       "      <td>7</td>\n",
       "      <td>12123.992877</td>\n",
       "      <td>0.073152</td>\n",
       "      <td>[8, 10, 4, 7, 0, 9, 6]</td>\n",
       "    </tr>\n",
       "    <tr>\n",
       "      <th>7</th>\n",
       "      <td>8</td>\n",
       "      <td>12091.994094</td>\n",
       "      <td>0.075598</td>\n",
       "      <td>[8, 10, 4, 7, 0, 9, 6, 13]</td>\n",
       "    </tr>\n",
       "    <tr>\n",
       "      <th>8</th>\n",
       "      <td>9</td>\n",
       "      <td>12069.818993</td>\n",
       "      <td>0.077293</td>\n",
       "      <td>[8, 10, 4, 7, 0, 9, 6, 13, 14]</td>\n",
       "    </tr>\n",
       "    <tr>\n",
       "      <th>9</th>\n",
       "      <td>10</td>\n",
       "      <td>12045.045690</td>\n",
       "      <td>0.079187</td>\n",
       "      <td>[8, 10, 4, 7, 0, 9, 6, 13, 14, 5]</td>\n",
       "    </tr>\n",
       "    <tr>\n",
       "      <th>10</th>\n",
       "      <td>11</td>\n",
       "      <td>12029.217254</td>\n",
       "      <td>0.080397</td>\n",
       "      <td>[8, 10, 4, 7, 0, 9, 6, 13, 14, 5, 15]</td>\n",
       "    </tr>\n",
       "    <tr>\n",
       "      <th>11</th>\n",
       "      <td>12</td>\n",
       "      <td>12013.494648</td>\n",
       "      <td>0.081599</td>\n",
       "      <td>[8, 10, 4, 7, 0, 9, 6, 13, 14, 5, 15, 3]</td>\n",
       "    </tr>\n",
       "    <tr>\n",
       "      <th>12</th>\n",
       "      <td>13</td>\n",
       "      <td>12006.425211</td>\n",
       "      <td>0.082140</td>\n",
       "      <td>[8, 10, 4, 7, 0, 9, 6, 13, 14, 5, 15, 3, 2]</td>\n",
       "    </tr>\n",
       "    <tr>\n",
       "      <th>13</th>\n",
       "      <td>14</td>\n",
       "      <td>12001.818362</td>\n",
       "      <td>0.082492</td>\n",
       "      <td>[8, 10, 4, 7, 0, 9, 6, 13, 14, 5, 15, 3, 2, 1]</td>\n",
       "    </tr>\n",
       "    <tr>\n",
       "      <th>14</th>\n",
       "      <td>15</td>\n",
       "      <td>11996.998833</td>\n",
       "      <td>0.082860</td>\n",
       "      <td>[8, 10, 4, 7, 0, 9, 6, 13, 14, 5, 15, 3, 2, 1,...</td>\n",
       "    </tr>\n",
       "  </tbody>\n",
       "</table>\n",
       "</div>"
      ],
      "text/plain": [
       "    numb_features           RSS  R_squared  \\\n",
       "0               1  12471.054740   0.046620   \n",
       "1               2  12391.527512   0.052700   \n",
       "2               3  12323.754848   0.057881   \n",
       "3               4  12260.881282   0.062687   \n",
       "4               5  12208.403698   0.066699   \n",
       "5               6  12159.151236   0.070464   \n",
       "6               7  12123.992877   0.073152   \n",
       "7               8  12091.994094   0.075598   \n",
       "8               9  12069.818993   0.077293   \n",
       "9              10  12045.045690   0.079187   \n",
       "10             11  12029.217254   0.080397   \n",
       "11             12  12013.494648   0.081599   \n",
       "12             13  12006.425211   0.082140   \n",
       "13             14  12001.818362   0.082492   \n",
       "14             15  11996.998833   0.082860   \n",
       "\n",
       "                                             features  \n",
       "0                                                 [8]  \n",
       "1                                             [8, 10]  \n",
       "2                                          [8, 10, 4]  \n",
       "3                                       [8, 10, 4, 7]  \n",
       "4                                    [8, 10, 4, 7, 0]  \n",
       "5                                 [8, 10, 4, 7, 0, 9]  \n",
       "6                              [8, 10, 4, 7, 0, 9, 6]  \n",
       "7                          [8, 10, 4, 7, 0, 9, 6, 13]  \n",
       "8                      [8, 10, 4, 7, 0, 9, 6, 13, 14]  \n",
       "9                   [8, 10, 4, 7, 0, 9, 6, 13, 14, 5]  \n",
       "10              [8, 10, 4, 7, 0, 9, 6, 13, 14, 5, 15]  \n",
       "11           [8, 10, 4, 7, 0, 9, 6, 13, 14, 5, 15, 3]  \n",
       "12        [8, 10, 4, 7, 0, 9, 6, 13, 14, 5, 15, 3, 2]  \n",
       "13     [8, 10, 4, 7, 0, 9, 6, 13, 14, 5, 15, 3, 2, 1]  \n",
       "14  [8, 10, 4, 7, 0, 9, 6, 13, 14, 5, 15, 3, 2, 1,...  "
      ]
     },
     "execution_count": 8,
     "metadata": {},
     "output_type": "execute_result"
    }
   ],
   "source": [
    "df_forward"
   ]
  },
  {
   "cell_type": "code",
   "execution_count": null,
   "metadata": {},
   "outputs": [],
   "source": [
    "# Backward Stepwise selection\n",
    "# Please finish the codes in Backward_stepwise_selection(X,y,p)\n",
    "df_backward, time_backward = Backward_stepwise_selection(X,y,p)"
   ]
  },
  {
   "cell_type": "code",
   "execution_count": null,
   "metadata": {},
   "outputs": [
    {
     "data": {
      "text/html": [
       "<div>\n",
       "<style scoped>\n",
       "    .dataframe tbody tr th:only-of-type {\n",
       "        vertical-align: middle;\n",
       "    }\n",
       "\n",
       "    .dataframe tbody tr th {\n",
       "        vertical-align: top;\n",
       "    }\n",
       "\n",
       "    .dataframe thead th {\n",
       "        text-align: right;\n",
       "    }\n",
       "</style>\n",
       "<table border=\"1\" class=\"dataframe\">\n",
       "  <thead>\n",
       "    <tr style=\"text-align: right;\">\n",
       "      <th></th>\n",
       "      <th>numb_features</th>\n",
       "      <th>RSS</th>\n",
       "      <th>R_squared</th>\n",
       "      <th>features</th>\n",
       "    </tr>\n",
       "  </thead>\n",
       "  <tbody>\n",
       "    <tr>\n",
       "      <th>0</th>\n",
       "      <td>1</td>\n",
       "      <td>11996.998833</td>\n",
       "      <td>0.082860</td>\n",
       "      <td>[11]</td>\n",
       "    </tr>\n",
       "    <tr>\n",
       "      <th>1</th>\n",
       "      <td>2</td>\n",
       "      <td>12001.818362</td>\n",
       "      <td>0.082492</td>\n",
       "      <td>[11, 12]</td>\n",
       "    </tr>\n",
       "    <tr>\n",
       "      <th>2</th>\n",
       "      <td>3</td>\n",
       "      <td>12006.425211</td>\n",
       "      <td>0.082140</td>\n",
       "      <td>[11, 12, 1]</td>\n",
       "    </tr>\n",
       "    <tr>\n",
       "      <th>3</th>\n",
       "      <td>4</td>\n",
       "      <td>12013.494648</td>\n",
       "      <td>0.081599</td>\n",
       "      <td>[11, 12, 1, 2]</td>\n",
       "    </tr>\n",
       "    <tr>\n",
       "      <th>4</th>\n",
       "      <td>5</td>\n",
       "      <td>12029.217254</td>\n",
       "      <td>0.080397</td>\n",
       "      <td>[11, 12, 1, 2, 3]</td>\n",
       "    </tr>\n",
       "    <tr>\n",
       "      <th>5</th>\n",
       "      <td>6</td>\n",
       "      <td>12045.045690</td>\n",
       "      <td>0.079187</td>\n",
       "      <td>[11, 12, 1, 2, 3, 15]</td>\n",
       "    </tr>\n",
       "    <tr>\n",
       "      <th>6</th>\n",
       "      <td>7</td>\n",
       "      <td>12069.818993</td>\n",
       "      <td>0.077293</td>\n",
       "      <td>[11, 12, 1, 2, 3, 15, 5]</td>\n",
       "    </tr>\n",
       "    <tr>\n",
       "      <th>7</th>\n",
       "      <td>8</td>\n",
       "      <td>12091.994094</td>\n",
       "      <td>0.075598</td>\n",
       "      <td>[11, 12, 1, 2, 3, 15, 5, 14]</td>\n",
       "    </tr>\n",
       "    <tr>\n",
       "      <th>8</th>\n",
       "      <td>9</td>\n",
       "      <td>12123.992877</td>\n",
       "      <td>0.073152</td>\n",
       "      <td>[11, 12, 1, 2, 3, 15, 5, 14, 13]</td>\n",
       "    </tr>\n",
       "    <tr>\n",
       "      <th>9</th>\n",
       "      <td>10</td>\n",
       "      <td>12159.151236</td>\n",
       "      <td>0.070464</td>\n",
       "      <td>[11, 12, 1, 2, 3, 15, 5, 14, 13, 6]</td>\n",
       "    </tr>\n",
       "    <tr>\n",
       "      <th>10</th>\n",
       "      <td>11</td>\n",
       "      <td>12208.403698</td>\n",
       "      <td>0.066699</td>\n",
       "      <td>[11, 12, 1, 2, 3, 15, 5, 14, 13, 6, 9]</td>\n",
       "    </tr>\n",
       "    <tr>\n",
       "      <th>11</th>\n",
       "      <td>12</td>\n",
       "      <td>12260.881282</td>\n",
       "      <td>0.062687</td>\n",
       "      <td>[11, 12, 1, 2, 3, 15, 5, 14, 13, 6, 9, 0]</td>\n",
       "    </tr>\n",
       "    <tr>\n",
       "      <th>12</th>\n",
       "      <td>13</td>\n",
       "      <td>12323.754848</td>\n",
       "      <td>0.057881</td>\n",
       "      <td>[11, 12, 1, 2, 3, 15, 5, 14, 13, 6, 9, 0, 7]</td>\n",
       "    </tr>\n",
       "    <tr>\n",
       "      <th>13</th>\n",
       "      <td>14</td>\n",
       "      <td>12391.527512</td>\n",
       "      <td>0.052700</td>\n",
       "      <td>[11, 12, 1, 2, 3, 15, 5, 14, 13, 6, 9, 0, 7, 4]</td>\n",
       "    </tr>\n",
       "    <tr>\n",
       "      <th>14</th>\n",
       "      <td>15</td>\n",
       "      <td>12471.054740</td>\n",
       "      <td>0.046620</td>\n",
       "      <td>[11, 12, 1, 2, 3, 15, 5, 14, 13, 6, 9, 0, 7, 4...</td>\n",
       "    </tr>\n",
       "  </tbody>\n",
       "</table>\n",
       "</div>"
      ],
      "text/plain": [
       "    numb_features           RSS  R_squared  \\\n",
       "0               1  11996.998833   0.082860   \n",
       "1               2  12001.818362   0.082492   \n",
       "2               3  12006.425211   0.082140   \n",
       "3               4  12013.494648   0.081599   \n",
       "4               5  12029.217254   0.080397   \n",
       "5               6  12045.045690   0.079187   \n",
       "6               7  12069.818993   0.077293   \n",
       "7               8  12091.994094   0.075598   \n",
       "8               9  12123.992877   0.073152   \n",
       "9              10  12159.151236   0.070464   \n",
       "10             11  12208.403698   0.066699   \n",
       "11             12  12260.881282   0.062687   \n",
       "12             13  12323.754848   0.057881   \n",
       "13             14  12391.527512   0.052700   \n",
       "14             15  12471.054740   0.046620   \n",
       "\n",
       "                                             features  \n",
       "0                                                [11]  \n",
       "1                                            [11, 12]  \n",
       "2                                         [11, 12, 1]  \n",
       "3                                      [11, 12, 1, 2]  \n",
       "4                                   [11, 12, 1, 2, 3]  \n",
       "5                               [11, 12, 1, 2, 3, 15]  \n",
       "6                            [11, 12, 1, 2, 3, 15, 5]  \n",
       "7                        [11, 12, 1, 2, 3, 15, 5, 14]  \n",
       "8                    [11, 12, 1, 2, 3, 15, 5, 14, 13]  \n",
       "9                 [11, 12, 1, 2, 3, 15, 5, 14, 13, 6]  \n",
       "10             [11, 12, 1, 2, 3, 15, 5, 14, 13, 6, 9]  \n",
       "11          [11, 12, 1, 2, 3, 15, 5, 14, 13, 6, 9, 0]  \n",
       "12       [11, 12, 1, 2, 3, 15, 5, 14, 13, 6, 9, 0, 7]  \n",
       "13    [11, 12, 1, 2, 3, 15, 5, 14, 13, 6, 9, 0, 7, 4]  \n",
       "14  [11, 12, 1, 2, 3, 15, 5, 14, 13, 6, 9, 0, 7, 4...  "
      ]
     },
     "execution_count": 10,
     "metadata": {},
     "output_type": "execute_result"
    }
   ],
   "source": [
    "df_backward"
   ]
  },
  {
   "cell_type": "code",
   "execution_count": 10,
   "metadata": {},
   "outputs": [
    {
     "data": {
      "image/png": "[encoded data removed]",
      "text/plain": [
       "<Figure size 720x432 with 1 Axes>"
      ]
     },
     "metadata": {},
     "output_type": "display_data"
    }
   ],
   "source": [
    "# Run this cell to visualize the running time. You don't need to modify any codes here.\n",
    "\n",
    "running_time = pd.DataFrame({'Best Subset': np.log(time_best),'Forward Stepwise': np.log(time_forward),'Backward Stepwise': np.log(time_backward)})\n",
    "running_time.index = range(1,16)\n",
    "\n",
    "# Visualize the results\n",
    "running_time.plot(figsize = (10,6))\n",
    "plt.xlabel('Number of features')\n",
    "plt.ylabel('Log running time')\n",
    "plt.show()"
   ]
  },
  {
   "cell_type": "markdown",
   "metadata": {},
   "source": [
    "Based on this plot and these output DataFrames, comment on what you find. \n",
    "\n",
    "\n",
    "**Answer**:\n",
    "\n"
   ]
  },
  {
   "cell_type": "markdown",
   "metadata": {},
   "source": [
    "-----"
   ]
  },
  {
   "cell_type": "markdown",
   "metadata": {},
   "source": [
    "## Problem 4. Sparse Signal Recovery\n",
    "\n",
    "In this exercise, we will generate a simulated linear regression problem and use Lasso to see if this method can recover the sparse signals."
   ]
  },
  {
   "cell_type": "markdown",
   "metadata": {},
   "source": [
    "### Part 1. Data Generating Process"
   ]
  },
  {
   "cell_type": "code",
   "execution_count": 5,
   "metadata": {},
   "outputs": [],
   "source": [
    "# DGP, you don't need to modify any codes here\n",
    "\n",
    "n_samples, n_features = 50, 100\n",
    "num_signal = 10\n",
    "X = np.random.randn(n_samples, n_features)\n",
    "\n",
    "# Construct the signals\n",
    "idx = np.arange(n_features)\n",
    "\n",
    "coef = 5 * np.random.randn(n_features)\n",
    "inds = np.arange(n_features)\n",
    "\n",
    "# Shuffle index and sparsify the signals\n",
    "np.random.shuffle(inds)\n",
    "coef[inds[num_signal:]] = 0\n",
    "\n",
    "# Add noise\n",
    "y = np.dot(X, coef) + 0.01 * np.random.normal(size=n_samples)"
   ]
  },
  {
   "cell_type": "markdown",
   "metadata": {},
   "source": [
    "### Part 2. Fit Lasso for signal recovery"
   ]
  },
  {
   "cell_type": "code",
   "execution_count": 6,
   "metadata": {},
   "outputs": [],
   "source": [
    "# Split data in training set and test set. You don't need to modify any codes here.\n",
    "from sklearn.model_selection import train_test_split\n",
    "\n",
    "X_train,X_test,y_train,y_test = train_test_split(X, y, test_size = 0.4)"
   ]
  },
  {
   "cell_type": "markdown",
   "metadata": {},
   "source": [
    "Please finish the following cell to fit Lasso, output a model named lasso, and calculate the OOS R^2: \n",
    "\n"
   ]
  },
  {
   "cell_type": "code",
   "execution_count": 7,
   "metadata": {},
   "outputs": [
    {
     "data": {
      "text/plain": [
       "0.994877833242415"
      ]
     },
     "execution_count": 7,
     "metadata": {},
     "output_type": "execute_result"
    }
   ],
   "source": [
    "from sklearn.metrics import r2_score\n",
    "from sklearn.linear_model import Lasso\n",
    "\n",
    "##############################################################################\n",
    "### TODO: Fit a lasso model here, and calculate the OOS R square           ###\n",
    "##############################################################################\n",
    "\n",
    "lasso = Lasso(alpha = .1) \n",
    "lasso.fit(X_train, y_train)\n",
    "y_pred = lasso.predict(X_test)\n",
    "r2_score(y_test, y_pred)\n",
    "\n",
    "##############################################################################\n",
    "#                               END OF YOUR CODE                             #\n",
    "##############################################################################\n"
   ]
  },
  {
   "cell_type": "markdown",
   "metadata": {},
   "source": [
    "Visualize and compare the results. You don't need to modify any codes here."
   ]
  },
  {
   "cell_type": "code",
   "execution_count": 8,
   "metadata": {},
   "outputs": [
    {
     "data": {
      "image/png": "[encoded data removed]",
      "text/plain": [
       "<Figure size 864x576 with 1 Axes>"
      ]
     },
     "metadata": {},
     "output_type": "display_data"
    }
   ],
   "source": [
    "plt.figure(figsize = (12,8))\n",
    "plt.plot(lasso.coef_, color='gold', linewidth=2, label='Lasso coefficients')\n",
    "plt.plot(coef, '--', color='navy', label='original coefficients')\n",
    "plt.legend(loc='best')\n",
    "\n",
    "plt.show()"
   ]
  },
  {
   "cell_type": "markdown",
   "metadata": {},
   "source": [
    "----"
   ]
  },
  {
   "cell_type": "markdown",
   "metadata": {},
   "source": [
    "## Problem 5. **Track S&P500 index**"
   ]
  },
  {
   "cell_type": "markdown",
   "metadata": {
    "pycharm": {
     "name": "#%% md\n"
    }
   },
   "source": [
    "**Background**: \n",
    "\n",
    "The S&P 500 Index, or Standard & Poor's 500 Index, is a market-capitalization-weighted index of 500 (approximately) leading publicly traded companies in the U.S. It is regarded as one of the best gauges of prominent American equities' performance, and by extension, that of the stock market overall.\n",
    "\n",
    "In this exercise, we consider the daily values of the SP500 index as well as the daily stock prices of 500 major stocks at the same time period.\n"
   ]
  },
  {
   "cell_type": "markdown",
   "metadata": {},
   "source": [
    "\n",
    "**Purpose**:\n",
    "\n",
    "You can't directly invest in the S&P 500 because it's an index. Buying a basket of all component stocks may induce high transaction costs. Instead, one may be interested in a portfolio which contains fewer stocks to track the index."
   ]
  },
  {
   "cell_type": "code",
   "execution_count": 9,
   "metadata": {
    "pycharm": {
     "name": "#%%\n"
    }
   },
   "outputs": [
    {
     "ename": "FileNotFoundError",
     "evalue": "[Errno 2] No such file or directory: 'index_track.csv'",
     "output_type": "error",
     "traceback": [
      "\u001b[0;31m---------------------------------------------------------------------------\u001b[0m",
      "\u001b[0;31mFileNotFoundError\u001b[0m                         Traceback (most recent call last)",
      "\u001b[0;32m<ipython-input-9-4fa933236bd8>\u001b[0m in \u001b[0;36m<module>\u001b[0;34m\u001b[0m\n\u001b[1;32m      1\u001b[0m \u001b[0;31m# Load data\u001b[0m\u001b[0;34m\u001b[0m\u001b[0;34m\u001b[0m\u001b[0;34m\u001b[0m\u001b[0m\n\u001b[0;32m----> 2\u001b[0;31m \u001b[0msp500\u001b[0m \u001b[0;34m=\u001b[0m \u001b[0mpd\u001b[0m\u001b[0;34m.\u001b[0m\u001b[0mread_csv\u001b[0m\u001b[0;34m(\u001b[0m\u001b[0;34m'index_track.csv'\u001b[0m\u001b[0;34m,\u001b[0m \u001b[0mindex_col\u001b[0m \u001b[0;34m=\u001b[0m \u001b[0;36m0\u001b[0m\u001b[0;34m)\u001b[0m\u001b[0;34m\u001b[0m\u001b[0;34m\u001b[0m\u001b[0m\n\u001b[0m\u001b[1;32m      3\u001b[0m \u001b[0msp500\u001b[0m \u001b[0;34m=\u001b[0m \u001b[0msp500\u001b[0m\u001b[0;34m.\u001b[0m\u001b[0mset_index\u001b[0m\u001b[0;34m(\u001b[0m\u001b[0;34m'Date'\u001b[0m\u001b[0;34m)\u001b[0m\u001b[0;34m\u001b[0m\u001b[0;34m\u001b[0m\u001b[0m\n",
      "\u001b[0;32m/usr/local/lib64/python3.6/site-packages/pandas/io/parsers.py\u001b[0m in \u001b[0;36mread_csv\u001b[0;34m(filepath_or_buffer, sep, delimiter, header, names, index_col, usecols, squeeze, prefix, mangle_dupe_cols, dtype, engine, converters, true_values, false_values, skipinitialspace, skiprows, skipfooter, nrows, na_values, keep_default_na, na_filter, verbose, skip_blank_lines, parse_dates, infer_datetime_format, keep_date_col, date_parser, dayfirst, cache_dates, iterator, chunksize, compression, thousands, decimal, lineterminator, quotechar, quoting, doublequote, escapechar, comment, encoding, dialect, error_bad_lines, warn_bad_lines, delim_whitespace, low_memory, memory_map, float_precision)\u001b[0m\n\u001b[1;32m    686\u001b[0m     )\n\u001b[1;32m    687\u001b[0m \u001b[0;34m\u001b[0m\u001b[0m\n\u001b[0;32m--> 688\u001b[0;31m     \u001b[0;32mreturn\u001b[0m \u001b[0m_read\u001b[0m\u001b[0;34m(\u001b[0m\u001b[0mfilepath_or_buffer\u001b[0m\u001b[0;34m,\u001b[0m \u001b[0mkwds\u001b[0m\u001b[0;34m)\u001b[0m\u001b[0;34m\u001b[0m\u001b[0;34m\u001b[0m\u001b[0m\n\u001b[0m\u001b[1;32m    689\u001b[0m \u001b[0;34m\u001b[0m\u001b[0m\n\u001b[1;32m    690\u001b[0m \u001b[0;34m\u001b[0m\u001b[0m\n",
      "\u001b[0;32m/usr/local/lib64/python3.6/site-packages/pandas/io/parsers.py\u001b[0m in \u001b[0;36m_read\u001b[0;34m(filepath_or_buffer, kwds)\u001b[0m\n\u001b[1;32m    452\u001b[0m \u001b[0;34m\u001b[0m\u001b[0m\n\u001b[1;32m    453\u001b[0m     \u001b[0;31m# Create the parser.\u001b[0m\u001b[0;34m\u001b[0m\u001b[0;34m\u001b[0m\u001b[0;34m\u001b[0m\u001b[0m\n\u001b[0;32m--> 454\u001b[0;31m     \u001b[0mparser\u001b[0m \u001b[0;34m=\u001b[0m \u001b[0mTextFileReader\u001b[0m\u001b[0;34m(\u001b[0m\u001b[0mfp_or_buf\u001b[0m\u001b[0;34m,\u001b[0m \u001b[0;34m**\u001b[0m\u001b[0mkwds\u001b[0m\u001b[0;34m)\u001b[0m\u001b[0;34m\u001b[0m\u001b[0;34m\u001b[0m\u001b[0m\n\u001b[0m\u001b[1;32m    455\u001b[0m \u001b[0;34m\u001b[0m\u001b[0m\n\u001b[1;32m    456\u001b[0m     \u001b[0;32mif\u001b[0m \u001b[0mchunksize\u001b[0m \u001b[0;32mor\u001b[0m \u001b[0miterator\u001b[0m\u001b[0;34m:\u001b[0m\u001b[0;34m\u001b[0m\u001b[0;34m\u001b[0m\u001b[0m\n",
      "\u001b[0;32m/usr/local/lib64/python3.6/site-packages/pandas/io/parsers.py\u001b[0m in \u001b[0;36m__init__\u001b[0;34m(self, f, engine, **kwds)\u001b[0m\n\u001b[1;32m    946\u001b[0m             \u001b[0mself\u001b[0m\u001b[0;34m.\u001b[0m\u001b[0moptions\u001b[0m\u001b[0;34m[\u001b[0m\u001b[0;34m\"has_index_names\"\u001b[0m\u001b[0;34m]\u001b[0m \u001b[0;34m=\u001b[0m \u001b[0mkwds\u001b[0m\u001b[0;34m[\u001b[0m\u001b[0;34m\"has_index_names\"\u001b[0m\u001b[0;34m]\u001b[0m\u001b[0;34m\u001b[0m\u001b[0;34m\u001b[0m\u001b[0m\n\u001b[1;32m    947\u001b[0m \u001b[0;34m\u001b[0m\u001b[0m\n\u001b[0;32m--> 948\u001b[0;31m         \u001b[0mself\u001b[0m\u001b[0;34m.\u001b[0m\u001b[0m_make_engine\u001b[0m\u001b[0;34m(\u001b[0m\u001b[0mself\u001b[0m\u001b[0;34m.\u001b[0m\u001b[0mengine\u001b[0m\u001b[0;34m)\u001b[0m\u001b[0;34m\u001b[0m\u001b[0;34m\u001b[0m\u001b[0m\n\u001b[0m\u001b[1;32m    949\u001b[0m \u001b[0;34m\u001b[0m\u001b[0m\n\u001b[1;32m    950\u001b[0m     \u001b[0;32mdef\u001b[0m \u001b[0mclose\u001b[0m\u001b[0;34m(\u001b[0m\u001b[0mself\u001b[0m\u001b[0;34m)\u001b[0m\u001b[0;34m:\u001b[0m\u001b[0;34m\u001b[0m\u001b[0;34m\u001b[0m\u001b[0m\n",
      "\u001b[0;32m/usr/local/lib64/python3.6/site-packages/pandas/io/parsers.py\u001b[0m in \u001b[0;36m_make_engine\u001b[0;34m(self, engine)\u001b[0m\n\u001b[1;32m   1178\u001b[0m     \u001b[0;32mdef\u001b[0m \u001b[0m_make_engine\u001b[0m\u001b[0;34m(\u001b[0m\u001b[0mself\u001b[0m\u001b[0;34m,\u001b[0m \u001b[0mengine\u001b[0m\u001b[0;34m=\u001b[0m\u001b[0;34m\"c\"\u001b[0m\u001b[0;34m)\u001b[0m\u001b[0;34m:\u001b[0m\u001b[0;34m\u001b[0m\u001b[0;34m\u001b[0m\u001b[0m\n\u001b[1;32m   1179\u001b[0m         \u001b[0;32mif\u001b[0m \u001b[0mengine\u001b[0m \u001b[0;34m==\u001b[0m \u001b[0;34m\"c\"\u001b[0m\u001b[0;34m:\u001b[0m\u001b[0;34m\u001b[0m\u001b[0;34m\u001b[0m\u001b[0m\n\u001b[0;32m-> 1180\u001b[0;31m             \u001b[0mself\u001b[0m\u001b[0;34m.\u001b[0m\u001b[0m_engine\u001b[0m \u001b[0;34m=\u001b[0m \u001b[0mCParserWrapper\u001b[0m\u001b[0;34m(\u001b[0m\u001b[0mself\u001b[0m\u001b[0;34m.\u001b[0m\u001b[0mf\u001b[0m\u001b[0;34m,\u001b[0m \u001b[0;34m**\u001b[0m\u001b[0mself\u001b[0m\u001b[0;34m.\u001b[0m\u001b[0moptions\u001b[0m\u001b[0;34m)\u001b[0m\u001b[0;34m\u001b[0m\u001b[0;34m\u001b[0m\u001b[0m\n\u001b[0m\u001b[1;32m   1181\u001b[0m         \u001b[0;32melse\u001b[0m\u001b[0;34m:\u001b[0m\u001b[0;34m\u001b[0m\u001b[0;34m\u001b[0m\u001b[0m\n\u001b[1;32m   1182\u001b[0m             \u001b[0;32mif\u001b[0m \u001b[0mengine\u001b[0m \u001b[0;34m==\u001b[0m \u001b[0;34m\"python\"\u001b[0m\u001b[0;34m:\u001b[0m\u001b[0;34m\u001b[0m\u001b[0;34m\u001b[0m\u001b[0m\n",
      "\u001b[0;32m/usr/local/lib64/python3.6/site-packages/pandas/io/parsers.py\u001b[0m in \u001b[0;36m__init__\u001b[0;34m(self, src, **kwds)\u001b[0m\n\u001b[1;32m   2008\u001b[0m         \u001b[0mkwds\u001b[0m\u001b[0;34m[\u001b[0m\u001b[0;34m\"usecols\"\u001b[0m\u001b[0;34m]\u001b[0m \u001b[0;34m=\u001b[0m \u001b[0mself\u001b[0m\u001b[0;34m.\u001b[0m\u001b[0musecols\u001b[0m\u001b[0;34m\u001b[0m\u001b[0;34m\u001b[0m\u001b[0m\n\u001b[1;32m   2009\u001b[0m \u001b[0;34m\u001b[0m\u001b[0m\n\u001b[0;32m-> 2010\u001b[0;31m         \u001b[0mself\u001b[0m\u001b[0;34m.\u001b[0m\u001b[0m_reader\u001b[0m \u001b[0;34m=\u001b[0m \u001b[0mparsers\u001b[0m\u001b[0;34m.\u001b[0m\u001b[0mTextReader\u001b[0m\u001b[0;34m(\u001b[0m\u001b[0msrc\u001b[0m\u001b[0;34m,\u001b[0m \u001b[0;34m**\u001b[0m\u001b[0mkwds\u001b[0m\u001b[0;34m)\u001b[0m\u001b[0;34m\u001b[0m\u001b[0;34m\u001b[0m\u001b[0m\n\u001b[0m\u001b[1;32m   2011\u001b[0m         \u001b[0mself\u001b[0m\u001b[0;34m.\u001b[0m\u001b[0munnamed_cols\u001b[0m \u001b[0;34m=\u001b[0m \u001b[0mself\u001b[0m\u001b[0;34m.\u001b[0m\u001b[0m_reader\u001b[0m\u001b[0;34m.\u001b[0m\u001b[0munnamed_cols\u001b[0m\u001b[0;34m\u001b[0m\u001b[0;34m\u001b[0m\u001b[0m\n\u001b[1;32m   2012\u001b[0m \u001b[0;34m\u001b[0m\u001b[0m\n",
      "\u001b[0;32mpandas/_libs/parsers.pyx\u001b[0m in \u001b[0;36mpandas._libs.parsers.TextReader.__cinit__\u001b[0;34m()\u001b[0m\n",
      "\u001b[0;32mpandas/_libs/parsers.pyx\u001b[0m in \u001b[0;36mpandas._libs.parsers.TextReader._setup_parser_source\u001b[0;34m()\u001b[0m\n",
      "\u001b[0;31mFileNotFoundError\u001b[0m: [Errno 2] No such file or directory: 'index_track.csv'"
     ]
    }
   ],
   "source": [
    "# Load data\n",
    "_DATA_DIR = \"/classes/2080001_spr2022/Data/\"\n",
    "sp500 = pd.read_csv('%s/index_track.csv'%(_DATA_DIR), index_col = 0)\n",
    "sp500 = sp500.set_index('Date')"
   ]
  },
  {
   "cell_type": "code",
   "execution_count": null,
   "metadata": {},
   "outputs": [],
   "source": [
    "# Set up codes\n",
    "from Index_track import *"
   ]
  },
  {
   "cell_type": "markdown",
   "metadata": {},
   "source": [
    "### Part 1.  Construct a parsimonious portfolio \n",
    "\n",
    "Construct a parsimonious portfolio that tracks  the S\\&P500\n",
    "index approximately. "
   ]
  },
  {
   "cell_type": "markdown",
   "metadata": {},
   "source": [
    "Finish the next cell to construct a Portfolio using training set and use Portfolio_visualize to check the OOS performance of this portfolio. \n",
    "\n",
    "Note we do not shuffle data when creating training set and test set on time series data."
   ]
  },
  {
   "cell_type": "code",
   "execution_count": null,
   "metadata": {},
   "outputs": [],
   "source": [
    "# Based on price information to get stock returns for the index and individual stocks\n",
    "\n",
    "sp500_ret = sp500.pct_change"
   ]
  },
  {
   "cell_type": "code",
   "execution_count": null,
   "metadata": {
    "pycharm": {
     "is_executing": true,
     "name": "#%%\n"
    }
   },
   "outputs": [],
   "source": [
    "port = Portfolio_construction(sp500, .1)\n",
    "Portfolio_visualize(pd.Series(port[1]), pd.Series(port[2]))"
   ]
  },
  {
   "cell_type": "markdown",
   "metadata": {},
   "source": [
    "How many stocks have non-zero weights?\n",
    "\n",
    "**Answer**:"
   ]
  },
  {
   "cell_type": "code",
   "execution_count": null,
   "metadata": {},
   "outputs": [],
   "source": [
    "len([x for x in port[0] if x != 0])"
   ]
  },
  {
   "cell_type": "markdown",
   "metadata": {},
   "source": [
    "Try different tuning parameters to see how this changes the above question. \n",
    "\n",
    "What results do you find when tuning parameter = 0 / $\\infty$?"
   ]
  },
  {
   "cell_type": "markdown",
   "metadata": {},
   "source": [
    "**Answer**:"
   ]
  },
  {
   "cell_type": "code",
   "execution_count": null,
   "metadata": {},
   "outputs": [],
   "source": [
    "port = Portfolio_construction(sp500, 0)\n",
    "Portfolio_visualize(pd.Series(port[1]), pd.Series(port[2]))"
   ]
  },
  {
   "cell_type": "code",
   "execution_count": null,
   "metadata": {},
   "outputs": [],
   "source": [
    "len([x for x in port[0] if x != 0])"
   ]
  },
  {
   "cell_type": "markdown",
   "metadata": {},
   "source": [
    "### Part 2. Rebalance the portfolio\n",
    "\n",
    "In this exercise, we implement the above portfolio on a rolling window basis. Say, use the first 60-day window to train your model, and use the next 60 day as OOS to check its performance, and continue for the rest of the OOS periods. \n",
    "\n",
    "\n",
    "Finish the codes in Portfolio_rebalance() and run the cell below to construct and evalute this portfolio."
   ]
  },
  {
   "cell_type": "code",
   "execution_count": null,
   "metadata": {},
   "outputs": [],
   "source": [
    "Portfolio_rebalance(sp500)"
   ]
  },
  {
   "cell_type": "code",
   "execution_count": null,
   "metadata": {},
   "outputs": [],
   "source": [
    "Portfolio_visualize()"
   ]
  },
  {
   "cell_type": "markdown",
   "metadata": {},
   "source": [
    "How many stocks have the non-zero weight? How stable is your portfolio? \n",
    "\n",
    "**Answer**:"
   ]
  },
  {
   "cell_type": "code",
   "execution_count": null,
   "metadata": {},
   "outputs": [],
   "source": []
  }
 ],
 "metadata": {
  "kernelspec": {
   "display_name": "Python 3",
   "language": "python",
   "name": "python3"
  },
  "language_info": {
   "codemirror_mode": {
    "name": "ipython",
    "version": 3
   },
   "file_extension": ".py",
   "mimetype": "text/x-python",
   "name": "python",
   "nbconvert_exporter": "python",
   "pygments_lexer": "ipython3",
   "version": "3.6.8"
  }
 },
 "nbformat": 4,
 "nbformat_minor": 4
}
