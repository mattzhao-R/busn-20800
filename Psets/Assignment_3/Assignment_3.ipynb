{
 "cells": [
  {
   "cell_type": "markdown",
   "metadata": {},
   "source": [
    "# Assignment 3: Model selection and regularization\n",
    "## BUS 20800: Big Data\n",
    "## Due: 11:59 am on Apr 22, 2022"
   ]
  },
  {
   "cell_type": "markdown",
   "metadata": {},
   "source": [
    "----"
   ]
  },
  {
   "cell_type": "markdown",
   "metadata": {},
   "source": [
    "## Part I"
   ]
  },
  {
   "cell_type": "markdown",
   "metadata": {},
   "source": [
    "## Problem 1. **In-Sample and Out-of-Sample Performance**"
   ]
  },
  {
   "cell_type": "markdown",
   "metadata": {},
   "source": [
    "**1. Linear model**\n",
    "\n",
    "Consider a linear regression model with $p$ parameters, fit by least squares to a set of training data $(x_1, y_1), . . . , (x_N, y_N)$ drawn at random from a population. Let $\\hat{\\beta}$ be the least squares estimate. Suppose we have\n",
    "some test data $(\\tilde{x}_1, \\tilde{y}_1), . . . , (\\tilde{x}_M, \\tilde{y}_M)$ drawn at random from the same population as the training data. Set\n",
    "\n",
    "$$L_{train}\\ \\ (\\beta) = \\frac{1}{N}\\sum_{i=1}^N(y_i - \\beta^TX_i)^2\n",
    "$$\n",
    "$$\n",
    "L_{test}\\ \\ (\\beta) = \\frac{1}{M}\\sum_{i = 1}^M(\\tilde{y}_i-\\beta^T\\tilde{X}_i)^2\n",
    "$$\n",
    "\n",
    "Show that\n",
    "$$\n",
    "\\mathbb{E}(L_{train}\\ \\ (\\hat{\\beta})) \\leq \\mathbb{E}(L_{test}\\ \\ (\\hat{\\beta}))\n",
    "$$\n",
    "\n",
    "\n",
    "\n"
   ]
  },
  {
   "cell_type": "markdown",
   "metadata": {},
   "source": [
    "**Answer** :"
   ]
  },
  {
   "cell_type": "markdown",
   "metadata": {},
   "source": [
    "1) $\\displaystyle \\mathbb{E}(\\frac{1}{N} \\sum_{i=1}^{N} (y_{i} - \\beta^{T}x_{i})^2) = \\mathbb{E}((y_{i} - \\beta^{T}x_{i})^2)$ for any $i$ and $\\beta^{T}$.\n",
    "\n",
    "\n",
    "Let $\\tilde{\\beta}$ be the least squares estimate optimized for test data.\n",
    "\n",
    "\n",
    "2) $\\displaystyle \\mathbb{E}(\\frac{1}{N} \\sum_{i=1}^{N} (y_{i} - \\hat{\\beta}^{T}x_{i})^2) = \\mathbb{E}((y_{i} - \\hat{\\beta}^{T}x_{i})^2) \\Rightarrow \\mathbb{E}(A)$\n",
    "\n",
    "\n",
    "$\\displaystyle \\mathbb{E}(\\frac{1}{N} \\sum_{i=1}^{N} (y_{i} - \\tilde{\\beta}^{T}x_{i})^2) = \\mathbb{E}((y_{i} - \\tilde{\\beta}^{T}x_{i})^2) \\Rightarrow \\mathbb{E}(B)$\n",
    "\n",
    "\n",
    "$\\mathbb{E}(A) = \\mathbb{E}(B)$ because X and Y are iid.\n",
    "\n",
    "\n",
    "$\\tilde{\\beta}$ is the solution to $min$ $L_{test}(\\beta)$, thus:\n",
    "\n",
    "\n",
    "3) $\\displaystyle \\frac{1}{M} \\sum^M (\\tilde{y} - \\tilde{\\beta}^T \\tilde{x}_i )^2 \\le \\frac{1}{M} \\sum^M (\\tilde{y} - \\hat{\\beta}^T \\tilde{x}_i )^2$ (where $\\displaystyle \\frac{1}{M} \\sum (\\cdot)$ is analogue to $\\mathbb{E}(\\cdot)$)\n",
    "\n",
    "\n",
    "4) $\\displaystyle \\mathbb{E} ( \\tilde{y}_i - \\tilde{\\beta}^T \\tilde{x}_i ) ^2 \\le \\mathbb{E} ( \\tilde{y}_i - \\hat{\\beta}^T \\tilde{x}_i ) ^2$\n",
    "\n",
    "\n",
    "5) $\\displaystyle \\mathbb{E} ( y_i - \\hat{\\beta}^T x_i ) ^2 \\le \\mathbb{E} ( \\tilde{y}_i - \\hat{\\beta}^T \\tilde{x}_i ) ^2$ (by 2)\n",
    "\n",
    "\n",
    "$\\Rightarrow \\displaystyle \\mathbb{E}(L_{train}\\ \\ (\\hat{\\beta})) \\leq \\mathbb{E}(L_{test}\\ \\ (\\hat{\\beta}))$"
   ]
  },
  {
   "cell_type": "markdown",
   "metadata": {},
   "source": [
    "## Problem 2. **Ridge Regression and Correlation Screening**"
   ]
  },
  {
   "cell_type": "markdown",
   "metadata": {},
   "source": [
    "**1. Ridge and OLS**\n",
    "\n",
    "Show that the ridge regression estimates can be obtained by OLS on an augmented data set. We augment the centered matrix $X$ with $p$ additional rows $\\sqrt{\\lambda}I$, and augment $y$ with $p$ zeros. By introducing artificial data with response value being zero, the fitting procedure is forced to shrink the coefficients toward zero. \n",
    "\n",
    "**Answer** :\n",
    "\n"
   ]
  },
  {
   "cell_type": "markdown",
   "metadata": {},
   "source": [
    "Let $X_{a}$ be the augmented matrix such that \n",
    "$X_{a} = \\left(\\begin{array}{c}\n",
    "X \\\\\n",
    "\\sqrt{\\lambda} I_{p\\times p} \\\\\n",
    "\\end{array}\\right)$ and $y_{a} = \\left(\\begin{array}{c}\n",
    "y \\\\\n",
    "0_{p} \\\\\n",
    "\\end{array}\\right)$.\n",
    "\n",
    "The closed form solution of OLS is given by $\\beta = (X^T X )^{-1} Xy$ and so after substituting in $X_a , y_a$ we see that $\\beta = (X^T X + \\lambda I)^{-1} Xy$ since $X_{a}^t X_{a} = X^T X + \\lambda I$ and $X_{a}y_{a} = Xy$.\n"
   ]
  },
  {
   "cell_type": "markdown",
   "metadata": {},
   "source": [
    "\n",
    "\n",
    "**2. Analytical formula for Ridge**\n",
    "\n",
    "Show that for the ridge problem\n",
    "\n",
    "$$\\hat{\\beta}_{ridge} = argmin _{\\beta}||Y-X\\beta||^2_2 +\\lambda ||\\beta||_2^2\n",
    "$$\n",
    "\n",
    "has the closed form:\n",
    "\n",
    "$$\n",
    "\\hat{\\beta}_{ridge} = (X^TX+\\lambda I_d)^{-1}X^TY\n",
    "$$\n",
    "\n",
    "where $I_d$ is the identity matrix.\n",
    "\n",
    "\n",
    "**Answer**:\n",
    "\n"
   ]
  },
  {
   "cell_type": "markdown",
   "metadata": {},
   "source": [
    "$\\beta = argmin$ $|| Y-X\\beta||^{2}_{2} + \\lambda ||\\beta||^{2}_{2}\\Rightarrow (Y-X\\beta)^{T} (Y-X\\beta) + \\lambda \\beta^{T}\\beta \\Rightarrow Y^T Y - \\beta^T X^T Y - Y^T X \\beta + \\beta^T X^T X \\beta + \\lambda \\beta^T \\beta \\Rightarrow Y^T Y - 2\\beta^T X^T Y + \\beta^T X^T X \\beta + \\lambda \\beta^T \\beta$\n",
    "\n",
    "\n",
    "Taking $\\displaystyle \\frac{\\partial}{\\partial\\beta}$ gets us:\n",
    "\n",
    "\n",
    "$-2X^T Y + 2X^T X \\beta + 2\\lambda \\beta=0 \\Rightarrow (X^T X + \\lambda I )\\beta = X^T Y \\Rightarrow \\beta = (X^T X + \\lambda I )^{-1} X^T Y$"
   ]
  },
  {
   "cell_type": "markdown",
   "metadata": {},
   "source": [
    "**3. Ridge and Correlation Screening**\n",
    "\n",
    "Consider a linear regression model $Y=X\\beta+\\varepsilon$, where $y$ is the $n × 1$ response vector, $X$ is the $n × p$ design matrix, $\\beta$ is the $p × 1$ regression coefficient vector, and $\\varepsilon$ is the $n×1$ random error vector with $E(\\varepsilon) = 0$ and $Cov(ε) = \\sigma^2 I_{d}$.\n",
    "\n",
    "Assume each column of $X$ has zero mean and unit variance.\n",
    "\n",
    "Use results of 2.2 to show that when $\\lambda → \\infty$, ridge regression outputs are exactly the correlations used in screening.\n",
    "\n",
    "\n",
    "\n",
    "**Answer**:"
   ]
  },
  {
   "cell_type": "code",
   "execution_count": null,
   "metadata": {},
   "outputs": [],
   "source": []
  },
  {
   "cell_type": "markdown",
   "metadata": {},
   "source": [
    "-----"
   ]
  },
  {
   "cell_type": "markdown",
   "metadata": {},
   "source": [
    "## Part II"
   ]
  },
  {
   "cell_type": "code",
   "execution_count": 1,
   "metadata": {},
   "outputs": [],
   "source": [
    "# Setup codes\n",
    "\n",
    "import pandas as pd\n",
    "import numpy as np\n",
    "import warnings\n",
    "import matplotlib.pyplot as plt\n",
    "plt.rc('font', size=14)\n",
    "import seaborn as sns\n",
    "sns.set(style='white')\n",
    "sns.set(style='whitegrid', color_codes=True)\n",
    "\n",
    "warnings.filterwarnings(\"ignore\")"
   ]
  },
  {
   "cell_type": "markdown",
   "metadata": {},
   "source": [
    "----"
   ]
  },
  {
   "cell_type": "markdown",
   "metadata": {},
   "source": [
    "## Problem 3. **Best Subset, Forward Stepwise and Backward Stepwise Regression**\n",
    "\n"
   ]
  },
  {
   "cell_type": "markdown",
   "metadata": {},
   "source": [
    "In this exercise, we simluate a linear regression problem, and compare selected features based on different methods."
   ]
  },
  {
   "cell_type": "markdown",
   "metadata": {},
   "source": [
    "### Part 1. Data Generating Process"
   ]
  },
  {
   "cell_type": "markdown",
   "metadata": {},
   "source": [
    "Consider a linear regression problem $y = X^T\\beta +\\varepsilon$.  Suppose there are 300 observations on 16 standard Gaussian variables, with pairwise correlations all equal to 0.85. For the first 6 variables, the coefficients are drawn from a $N(0,0.4)$ distribution; the rests are 0. Therefore, the true DGP of $y$ only depends on the first 6 entires of $X$ variables. The noise follows $N(0,6.25)$."
   ]
  },
  {
   "cell_type": "code",
   "execution_count": 3,
   "metadata": {},
   "outputs": [],
   "source": [
    "# DGP, you don't need to modify any codes here.\n",
    "N = 300\n",
    "p = 16\n",
    "rou = 0.85\n",
    "num_signals = 6\n",
    "sigma = np.ones((p,p)) * rou + (1-rou) * np.identity(p)\n",
    "X = np.random.multivariate_normal(np.repeat(0,p), sigma, size = N)\n",
    "X = pd.DataFrame(data = X)\n",
    "beta = np.random.normal(0,0.4,num_signals).tolist()+ np.repeat(0,p-num_signals).tolist()\n",
    "noise = np.random.normal(0,6.25, N)\n",
    "\n",
    "y = X.dot(beta) +noise"
   ]
  },
  {
   "cell_type": "markdown",
   "metadata": {},
   "source": [
    "### Part 2. Compare Three Methods\n",
    "\n"
   ]
  },
  {
   "cell_type": "markdown",
   "metadata": {},
   "source": [
    "Suppose now we want to decide the best regression model with $k$ regressors, for each given $k$, where $k = 1,2,\\cdots, p$, respectively. \n",
    "\n",
    "For best subset selection regression, how many models do you compare? What about forward stepwise and backward stepwise regressions?\n",
    "\n",
    "\n",
    "**Answer**:  \n",
    "For best subset selection regression, we want to compare all the possible subsets: $\\sum_{k=1}^{p} {p \\choose k}$. In our case, since p = 16, we have $\\sum_{k=1}^{16} {16 \\choose k} = 65535$ possible subsets and models, out of which we find the best subset.  \n",
    "\n",
    "For forward stepwise regression, we want to iterate through the number of predictors and choose the best predictor, iteratively removing it from the next cycle. This means that we are comparing $\\sum_{k=1}^{p} {k}$ where p = 16: $\\sum_{k=1}^{16} {k} = 136$ models compared.\n",
    "\n",
    "For backward stepwise regression, we want to start from the full model and compare all the models with 1 less predictor than it, removing the worst performing model among them. This means that we are comparing $\\sum_{k=0}^{p} {p-k \\choose p-k-1}$ where p = 16: $\\sum_{k=0}^{16} {16-k \\choose 16-k-1}$ = 136 models compared, the same as forward stepwise regression."
   ]
  },
  {
   "cell_type": "code",
   "execution_count": 4,
   "metadata": {},
   "outputs": [
    {
     "data": {
      "text/plain": [
       "65535.0"
      ]
     },
     "execution_count": 4,
     "metadata": {},
     "output_type": "execute_result"
    }
   ],
   "source": [
    "import math\n",
    "\n",
    "def comb(p,k):\n",
    "    f = math.factorial\n",
    "    return f(p) / f(k) / f(p-k)\n",
    "\n",
    "best_subset_total_models = 0\n",
    "for i in range (1, 17):\n",
    "    best_subset_total_models += comb(16, i)\n",
    "best_subset_total_models\n",
    "# import itertools\n",
    "# for combo in itertools.combinations(16, 16):\n",
    "#     print(combo)\n"
   ]
  },
  {
   "cell_type": "markdown",
   "metadata": {},
   "source": [
    "Now let's see which model is selected by these three methods for a given $k$ number of regressors, and compare their running time.\n",
    "\n",
    "Please finish Best_subset_selection, Forward_stepwise_selection, Backward_stepwise_selection in Stepwise_simulation.py before you run the following cells. You don't need to modify any codes here."
   ]
  },
  {
   "cell_type": "code",
   "execution_count": null,
   "metadata": {},
   "outputs": [],
   "source": [
    "from Stepwise_simulation import *"
   ]
  },
  {
   "cell_type": "markdown",
   "metadata": {},
   "source": [
    "The following 3 methods will output the variables it selected with different numbers of regessors, respectively."
   ]
  },
  {
   "cell_type": "code",
   "execution_count": null,
   "metadata": {},
   "outputs": [
    {
     "data": {
      "application/vnd.jupyter.widget-view+json": {
       "model_id": "43e2662dee814314b6dd02f9f6741975",
       "version_major": 2,
       "version_minor": 0
      },
      "text/plain": [
       "Loop...:   0%|          | 0/15 [00:00<?, ?it/s]"
      ]
     },
     "metadata": {},
     "output_type": "display_data"
    }
   ],
   "source": [
    "# Best Subset selection\n",
    "# Please finish the codes in Best_subset_selection(X,y,p)\n",
    "df_best,time_best = Best_subset_selection(X,y,p)"
   ]
  },
  {
   "cell_type": "code",
   "execution_count": 12,
   "metadata": {},
   "outputs": [
    {
     "data": {
      "text/html": [
       "<div>\n",
       "<style scoped>\n",
       "    .dataframe tbody tr th:only-of-type {\n",
       "        vertical-align: middle;\n",
       "    }\n",
       "\n",
       "    .dataframe tbody tr th {\n",
       "        vertical-align: top;\n",
       "    }\n",
       "\n",
       "    .dataframe thead th {\n",
       "        text-align: right;\n",
       "    }\n",
       "</style>\n",
       "<table border=\"1\" class=\"dataframe\">\n",
       "  <thead>\n",
       "    <tr style=\"text-align: right;\">\n",
       "      <th></th>\n",
       "      <th>numb_features</th>\n",
       "      <th>RSS</th>\n",
       "      <th>R_squared</th>\n",
       "      <th>features</th>\n",
       "    </tr>\n",
       "  </thead>\n",
       "  <tbody>\n",
       "    <tr>\n",
       "      <th>0</th>\n",
       "      <td>1</td>\n",
       "      <td>12471.054740</td>\n",
       "      <td>0.046620</td>\n",
       "      <td>(8,)</td>\n",
       "    </tr>\n",
       "    <tr>\n",
       "      <th>1</th>\n",
       "      <td>2</td>\n",
       "      <td>12391.527512</td>\n",
       "      <td>0.052700</td>\n",
       "      <td>(8, 10)</td>\n",
       "    </tr>\n",
       "    <tr>\n",
       "      <th>2</th>\n",
       "      <td>3</td>\n",
       "      <td>12323.754848</td>\n",
       "      <td>0.057881</td>\n",
       "      <td>(4, 8, 10)</td>\n",
       "    </tr>\n",
       "    <tr>\n",
       "      <th>3</th>\n",
       "      <td>4</td>\n",
       "      <td>12260.881282</td>\n",
       "      <td>0.062687</td>\n",
       "      <td>(4, 7, 8, 10)</td>\n",
       "    </tr>\n",
       "    <tr>\n",
       "      <th>4</th>\n",
       "      <td>5</td>\n",
       "      <td>12208.403698</td>\n",
       "      <td>0.066699</td>\n",
       "      <td>(0, 4, 7, 8, 10)</td>\n",
       "    </tr>\n",
       "    <tr>\n",
       "      <th>5</th>\n",
       "      <td>6</td>\n",
       "      <td>12159.151236</td>\n",
       "      <td>0.070464</td>\n",
       "      <td>(0, 4, 7, 8, 9, 10)</td>\n",
       "    </tr>\n",
       "    <tr>\n",
       "      <th>6</th>\n",
       "      <td>7</td>\n",
       "      <td>12123.992877</td>\n",
       "      <td>0.073152</td>\n",
       "      <td>(0, 4, 6, 7, 8, 9, 10)</td>\n",
       "    </tr>\n",
       "    <tr>\n",
       "      <th>7</th>\n",
       "      <td>8</td>\n",
       "      <td>12091.994094</td>\n",
       "      <td>0.075598</td>\n",
       "      <td>(0, 4, 6, 7, 8, 9, 10, 13)</td>\n",
       "    </tr>\n",
       "    <tr>\n",
       "      <th>8</th>\n",
       "      <td>9</td>\n",
       "      <td>12069.818993</td>\n",
       "      <td>0.077293</td>\n",
       "      <td>(0, 4, 6, 7, 8, 9, 10, 13, 14)</td>\n",
       "    </tr>\n",
       "    <tr>\n",
       "      <th>9</th>\n",
       "      <td>10</td>\n",
       "      <td>12045.045690</td>\n",
       "      <td>0.079187</td>\n",
       "      <td>(0, 4, 5, 6, 7, 8, 9, 10, 13, 14)</td>\n",
       "    </tr>\n",
       "    <tr>\n",
       "      <th>10</th>\n",
       "      <td>11</td>\n",
       "      <td>12029.217254</td>\n",
       "      <td>0.080397</td>\n",
       "      <td>(0, 4, 5, 6, 7, 8, 9, 10, 13, 14, 15)</td>\n",
       "    </tr>\n",
       "    <tr>\n",
       "      <th>11</th>\n",
       "      <td>12</td>\n",
       "      <td>12013.494648</td>\n",
       "      <td>0.081599</td>\n",
       "      <td>(0, 3, 4, 5, 6, 7, 8, 9, 10, 13, 14, 15)</td>\n",
       "    </tr>\n",
       "    <tr>\n",
       "      <th>12</th>\n",
       "      <td>13</td>\n",
       "      <td>12006.425211</td>\n",
       "      <td>0.082140</td>\n",
       "      <td>(0, 2, 3, 4, 5, 6, 7, 8, 9, 10, 13, 14, 15)</td>\n",
       "    </tr>\n",
       "    <tr>\n",
       "      <th>13</th>\n",
       "      <td>14</td>\n",
       "      <td>12001.818362</td>\n",
       "      <td>0.082492</td>\n",
       "      <td>(0, 1, 2, 3, 4, 5, 6, 7, 8, 9, 10, 13, 14, 15)</td>\n",
       "    </tr>\n",
       "    <tr>\n",
       "      <th>14</th>\n",
       "      <td>15</td>\n",
       "      <td>11996.998833</td>\n",
       "      <td>0.082860</td>\n",
       "      <td>(0, 1, 2, 3, 4, 5, 6, 7, 8, 9, 10, 12, 13, 14,...</td>\n",
       "    </tr>\n",
       "  </tbody>\n",
       "</table>\n",
       "</div>"
      ],
      "text/plain": [
       "    numb_features           RSS  R_squared  \\\n",
       "0               1  12471.054740   0.046620   \n",
       "1               2  12391.527512   0.052700   \n",
       "2               3  12323.754848   0.057881   \n",
       "3               4  12260.881282   0.062687   \n",
       "4               5  12208.403698   0.066699   \n",
       "5               6  12159.151236   0.070464   \n",
       "6               7  12123.992877   0.073152   \n",
       "7               8  12091.994094   0.075598   \n",
       "8               9  12069.818993   0.077293   \n",
       "9              10  12045.045690   0.079187   \n",
       "10             11  12029.217254   0.080397   \n",
       "11             12  12013.494648   0.081599   \n",
       "12             13  12006.425211   0.082140   \n",
       "13             14  12001.818362   0.082492   \n",
       "14             15  11996.998833   0.082860   \n",
       "\n",
       "                                             features  \n",
       "0                                                (8,)  \n",
       "1                                             (8, 10)  \n",
       "2                                          (4, 8, 10)  \n",
       "3                                       (4, 7, 8, 10)  \n",
       "4                                    (0, 4, 7, 8, 10)  \n",
       "5                                 (0, 4, 7, 8, 9, 10)  \n",
       "6                              (0, 4, 6, 7, 8, 9, 10)  \n",
       "7                          (0, 4, 6, 7, 8, 9, 10, 13)  \n",
       "8                      (0, 4, 6, 7, 8, 9, 10, 13, 14)  \n",
       "9                   (0, 4, 5, 6, 7, 8, 9, 10, 13, 14)  \n",
       "10              (0, 4, 5, 6, 7, 8, 9, 10, 13, 14, 15)  \n",
       "11           (0, 3, 4, 5, 6, 7, 8, 9, 10, 13, 14, 15)  \n",
       "12        (0, 2, 3, 4, 5, 6, 7, 8, 9, 10, 13, 14, 15)  \n",
       "13     (0, 1, 2, 3, 4, 5, 6, 7, 8, 9, 10, 13, 14, 15)  \n",
       "14  (0, 1, 2, 3, 4, 5, 6, 7, 8, 9, 10, 12, 13, 14,...  "
      ]
     },
     "execution_count": 12,
     "metadata": {},
     "output_type": "execute_result"
    }
   ],
   "source": [
    "df_best"
   ]
  },
  {
   "cell_type": "code",
   "execution_count": null,
   "metadata": {},
   "outputs": [],
   "source": [
    "# Forward Stepwise selection\n",
    "# Please finish the codes in Forward_stepwise_selection(X,y,p)\n",
    "df_forward, time_forward = Forward_stepwise_selection(X,y,p)"
   ]
  },
  {
   "cell_type": "code",
   "execution_count": null,
   "metadata": {},
   "outputs": [
    {
     "data": {
      "text/html": [
       "<div>\n",
       "<style scoped>\n",
       "    .dataframe tbody tr th:only-of-type {\n",
       "        vertical-align: middle;\n",
       "    }\n",
       "\n",
       "    .dataframe tbody tr th {\n",
       "        vertical-align: top;\n",
       "    }\n",
       "\n",
       "    .dataframe thead th {\n",
       "        text-align: right;\n",
       "    }\n",
       "</style>\n",
       "<table border=\"1\" class=\"dataframe\">\n",
       "  <thead>\n",
       "    <tr style=\"text-align: right;\">\n",
       "      <th></th>\n",
       "      <th>numb_features</th>\n",
       "      <th>RSS</th>\n",
       "      <th>R_squared</th>\n",
       "      <th>features</th>\n",
       "    </tr>\n",
       "  </thead>\n",
       "  <tbody>\n",
       "    <tr>\n",
       "      <th>0</th>\n",
       "      <td>1</td>\n",
       "      <td>12471.054740</td>\n",
       "      <td>0.046620</td>\n",
       "      <td>[8]</td>\n",
       "    </tr>\n",
       "    <tr>\n",
       "      <th>1</th>\n",
       "      <td>2</td>\n",
       "      <td>12391.527512</td>\n",
       "      <td>0.052700</td>\n",
       "      <td>[8, 10]</td>\n",
       "    </tr>\n",
       "    <tr>\n",
       "      <th>2</th>\n",
       "      <td>3</td>\n",
       "      <td>12323.754848</td>\n",
       "      <td>0.057881</td>\n",
       "      <td>[8, 10, 4]</td>\n",
       "    </tr>\n",
       "    <tr>\n",
       "      <th>3</th>\n",
       "      <td>4</td>\n",
       "      <td>12260.881282</td>\n",
       "      <td>0.062687</td>\n",
       "      <td>[8, 10, 4, 7]</td>\n",
       "    </tr>\n",
       "    <tr>\n",
       "      <th>4</th>\n",
       "      <td>5</td>\n",
       "      <td>12208.403698</td>\n",
       "      <td>0.066699</td>\n",
       "      <td>[8, 10, 4, 7, 0]</td>\n",
       "    </tr>\n",
       "    <tr>\n",
       "      <th>5</th>\n",
       "      <td>6</td>\n",
       "      <td>12159.151236</td>\n",
       "      <td>0.070464</td>\n",
       "      <td>[8, 10, 4, 7, 0, 9]</td>\n",
       "    </tr>\n",
       "    <tr>\n",
       "      <th>6</th>\n",
       "      <td>7</td>\n",
       "      <td>12123.992877</td>\n",
       "      <td>0.073152</td>\n",
       "      <td>[8, 10, 4, 7, 0, 9, 6]</td>\n",
       "    </tr>\n",
       "    <tr>\n",
       "      <th>7</th>\n",
       "      <td>8</td>\n",
       "      <td>12091.994094</td>\n",
       "      <td>0.075598</td>\n",
       "      <td>[8, 10, 4, 7, 0, 9, 6, 13]</td>\n",
       "    </tr>\n",
       "    <tr>\n",
       "      <th>8</th>\n",
       "      <td>9</td>\n",
       "      <td>12069.818993</td>\n",
       "      <td>0.077293</td>\n",
       "      <td>[8, 10, 4, 7, 0, 9, 6, 13, 14]</td>\n",
       "    </tr>\n",
       "    <tr>\n",
       "      <th>9</th>\n",
       "      <td>10</td>\n",
       "      <td>12045.045690</td>\n",
       "      <td>0.079187</td>\n",
       "      <td>[8, 10, 4, 7, 0, 9, 6, 13, 14, 5]</td>\n",
       "    </tr>\n",
       "    <tr>\n",
       "      <th>10</th>\n",
       "      <td>11</td>\n",
       "      <td>12029.217254</td>\n",
       "      <td>0.080397</td>\n",
       "      <td>[8, 10, 4, 7, 0, 9, 6, 13, 14, 5, 15]</td>\n",
       "    </tr>\n",
       "    <tr>\n",
       "      <th>11</th>\n",
       "      <td>12</td>\n",
       "      <td>12013.494648</td>\n",
       "      <td>0.081599</td>\n",
       "      <td>[8, 10, 4, 7, 0, 9, 6, 13, 14, 5, 15, 3]</td>\n",
       "    </tr>\n",
       "    <tr>\n",
       "      <th>12</th>\n",
       "      <td>13</td>\n",
       "      <td>12006.425211</td>\n",
       "      <td>0.082140</td>\n",
       "      <td>[8, 10, 4, 7, 0, 9, 6, 13, 14, 5, 15, 3, 2]</td>\n",
       "    </tr>\n",
       "    <tr>\n",
       "      <th>13</th>\n",
       "      <td>14</td>\n",
       "      <td>12001.818362</td>\n",
       "      <td>0.082492</td>\n",
       "      <td>[8, 10, 4, 7, 0, 9, 6, 13, 14, 5, 15, 3, 2, 1]</td>\n",
       "    </tr>\n",
       "    <tr>\n",
       "      <th>14</th>\n",
       "      <td>15</td>\n",
       "      <td>11996.998833</td>\n",
       "      <td>0.082860</td>\n",
       "      <td>[8, 10, 4, 7, 0, 9, 6, 13, 14, 5, 15, 3, 2, 1,...</td>\n",
       "    </tr>\n",
       "  </tbody>\n",
       "</table>\n",
       "</div>"
      ],
      "text/plain": [
       "    numb_features           RSS  R_squared  \\\n",
       "0               1  12471.054740   0.046620   \n",
       "1               2  12391.527512   0.052700   \n",
       "2               3  12323.754848   0.057881   \n",
       "3               4  12260.881282   0.062687   \n",
       "4               5  12208.403698   0.066699   \n",
       "5               6  12159.151236   0.070464   \n",
       "6               7  12123.992877   0.073152   \n",
       "7               8  12091.994094   0.075598   \n",
       "8               9  12069.818993   0.077293   \n",
       "9              10  12045.045690   0.079187   \n",
       "10             11  12029.217254   0.080397   \n",
       "11             12  12013.494648   0.081599   \n",
       "12             13  12006.425211   0.082140   \n",
       "13             14  12001.818362   0.082492   \n",
       "14             15  11996.998833   0.082860   \n",
       "\n",
       "                                             features  \n",
       "0                                                 [8]  \n",
       "1                                             [8, 10]  \n",
       "2                                          [8, 10, 4]  \n",
       "3                                       [8, 10, 4, 7]  \n",
       "4                                    [8, 10, 4, 7, 0]  \n",
       "5                                 [8, 10, 4, 7, 0, 9]  \n",
       "6                              [8, 10, 4, 7, 0, 9, 6]  \n",
       "7                          [8, 10, 4, 7, 0, 9, 6, 13]  \n",
       "8                      [8, 10, 4, 7, 0, 9, 6, 13, 14]  \n",
       "9                   [8, 10, 4, 7, 0, 9, 6, 13, 14, 5]  \n",
       "10              [8, 10, 4, 7, 0, 9, 6, 13, 14, 5, 15]  \n",
       "11           [8, 10, 4, 7, 0, 9, 6, 13, 14, 5, 15, 3]  \n",
       "12        [8, 10, 4, 7, 0, 9, 6, 13, 14, 5, 15, 3, 2]  \n",
       "13     [8, 10, 4, 7, 0, 9, 6, 13, 14, 5, 15, 3, 2, 1]  \n",
       "14  [8, 10, 4, 7, 0, 9, 6, 13, 14, 5, 15, 3, 2, 1,...  "
      ]
     },
     "execution_count": 8,
     "metadata": {},
     "output_type": "execute_result"
    }
   ],
   "source": [
    "df_forward"
   ]
  },
  {
   "cell_type": "code",
   "execution_count": null,
   "metadata": {},
   "outputs": [],
   "source": [
    "# Backward Stepwise selection\n",
    "# Please finish the codes in Backward_stepwise_selection(X,y,p)\n",
    "df_backward, time_backward = Backward_stepwise_selection(X,y,p)"
   ]
  },
  {
   "cell_type": "code",
   "execution_count": null,
   "metadata": {},
   "outputs": [
    {
     "data": {
      "text/html": [
       "<div>\n",
       "<style scoped>\n",
       "    .dataframe tbody tr th:only-of-type {\n",
       "        vertical-align: middle;\n",
       "    }\n",
       "\n",
       "    .dataframe tbody tr th {\n",
       "        vertical-align: top;\n",
       "    }\n",
       "\n",
       "    .dataframe thead th {\n",
       "        text-align: right;\n",
       "    }\n",
       "</style>\n",
       "<table border=\"1\" class=\"dataframe\">\n",
       "  <thead>\n",
       "    <tr style=\"text-align: right;\">\n",
       "      <th></th>\n",
       "      <th>numb_features</th>\n",
       "      <th>RSS</th>\n",
       "      <th>R_squared</th>\n",
       "      <th>features</th>\n",
       "    </tr>\n",
       "  </thead>\n",
       "  <tbody>\n",
       "    <tr>\n",
       "      <th>0</th>\n",
       "      <td>1</td>\n",
       "      <td>11996.998833</td>\n",
       "      <td>0.082860</td>\n",
       "      <td>[11]</td>\n",
       "    </tr>\n",
       "    <tr>\n",
       "      <th>1</th>\n",
       "      <td>2</td>\n",
       "      <td>12001.818362</td>\n",
       "      <td>0.082492</td>\n",
       "      <td>[11, 12]</td>\n",
       "    </tr>\n",
       "    <tr>\n",
       "      <th>2</th>\n",
       "      <td>3</td>\n",
       "      <td>12006.425211</td>\n",
       "      <td>0.082140</td>\n",
       "      <td>[11, 12, 1]</td>\n",
       "    </tr>\n",
       "    <tr>\n",
       "      <th>3</th>\n",
       "      <td>4</td>\n",
       "      <td>12013.494648</td>\n",
       "      <td>0.081599</td>\n",
       "      <td>[11, 12, 1, 2]</td>\n",
       "    </tr>\n",
       "    <tr>\n",
       "      <th>4</th>\n",
       "      <td>5</td>\n",
       "      <td>12029.217254</td>\n",
       "      <td>0.080397</td>\n",
       "      <td>[11, 12, 1, 2, 3]</td>\n",
       "    </tr>\n",
       "    <tr>\n",
       "      <th>5</th>\n",
       "      <td>6</td>\n",
       "      <td>12045.045690</td>\n",
       "      <td>0.079187</td>\n",
       "      <td>[11, 12, 1, 2, 3, 15]</td>\n",
       "    </tr>\n",
       "    <tr>\n",
       "      <th>6</th>\n",
       "      <td>7</td>\n",
       "      <td>12069.818993</td>\n",
       "      <td>0.077293</td>\n",
       "      <td>[11, 12, 1, 2, 3, 15, 5]</td>\n",
       "    </tr>\n",
       "    <tr>\n",
       "      <th>7</th>\n",
       "      <td>8</td>\n",
       "      <td>12091.994094</td>\n",
       "      <td>0.075598</td>\n",
       "      <td>[11, 12, 1, 2, 3, 15, 5, 14]</td>\n",
       "    </tr>\n",
       "    <tr>\n",
       "      <th>8</th>\n",
       "      <td>9</td>\n",
       "      <td>12123.992877</td>\n",
       "      <td>0.073152</td>\n",
       "      <td>[11, 12, 1, 2, 3, 15, 5, 14, 13]</td>\n",
       "    </tr>\n",
       "    <tr>\n",
       "      <th>9</th>\n",
       "      <td>10</td>\n",
       "      <td>12159.151236</td>\n",
       "      <td>0.070464</td>\n",
       "      <td>[11, 12, 1, 2, 3, 15, 5, 14, 13, 6]</td>\n",
       "    </tr>\n",
       "    <tr>\n",
       "      <th>10</th>\n",
       "      <td>11</td>\n",
       "      <td>12208.403698</td>\n",
       "      <td>0.066699</td>\n",
       "      <td>[11, 12, 1, 2, 3, 15, 5, 14, 13, 6, 9]</td>\n",
       "    </tr>\n",
       "    <tr>\n",
       "      <th>11</th>\n",
       "      <td>12</td>\n",
       "      <td>12260.881282</td>\n",
       "      <td>0.062687</td>\n",
       "      <td>[11, 12, 1, 2, 3, 15, 5, 14, 13, 6, 9, 0]</td>\n",
       "    </tr>\n",
       "    <tr>\n",
       "      <th>12</th>\n",
       "      <td>13</td>\n",
       "      <td>12323.754848</td>\n",
       "      <td>0.057881</td>\n",
       "      <td>[11, 12, 1, 2, 3, 15, 5, 14, 13, 6, 9, 0, 7]</td>\n",
       "    </tr>\n",
       "    <tr>\n",
       "      <th>13</th>\n",
       "      <td>14</td>\n",
       "      <td>12391.527512</td>\n",
       "      <td>0.052700</td>\n",
       "      <td>[11, 12, 1, 2, 3, 15, 5, 14, 13, 6, 9, 0, 7, 4]</td>\n",
       "    </tr>\n",
       "    <tr>\n",
       "      <th>14</th>\n",
       "      <td>15</td>\n",
       "      <td>12471.054740</td>\n",
       "      <td>0.046620</td>\n",
       "      <td>[11, 12, 1, 2, 3, 15, 5, 14, 13, 6, 9, 0, 7, 4...</td>\n",
       "    </tr>\n",
       "  </tbody>\n",
       "</table>\n",
       "</div>"
      ],
      "text/plain": [
       "    numb_features           RSS  R_squared  \\\n",
       "0               1  11996.998833   0.082860   \n",
       "1               2  12001.818362   0.082492   \n",
       "2               3  12006.425211   0.082140   \n",
       "3               4  12013.494648   0.081599   \n",
       "4               5  12029.217254   0.080397   \n",
       "5               6  12045.045690   0.079187   \n",
       "6               7  12069.818993   0.077293   \n",
       "7               8  12091.994094   0.075598   \n",
       "8               9  12123.992877   0.073152   \n",
       "9              10  12159.151236   0.070464   \n",
       "10             11  12208.403698   0.066699   \n",
       "11             12  12260.881282   0.062687   \n",
       "12             13  12323.754848   0.057881   \n",
       "13             14  12391.527512   0.052700   \n",
       "14             15  12471.054740   0.046620   \n",
       "\n",
       "                                             features  \n",
       "0                                                [11]  \n",
       "1                                            [11, 12]  \n",
       "2                                         [11, 12, 1]  \n",
       "3                                      [11, 12, 1, 2]  \n",
       "4                                   [11, 12, 1, 2, 3]  \n",
       "5                               [11, 12, 1, 2, 3, 15]  \n",
       "6                            [11, 12, 1, 2, 3, 15, 5]  \n",
       "7                        [11, 12, 1, 2, 3, 15, 5, 14]  \n",
       "8                    [11, 12, 1, 2, 3, 15, 5, 14, 13]  \n",
       "9                 [11, 12, 1, 2, 3, 15, 5, 14, 13, 6]  \n",
       "10             [11, 12, 1, 2, 3, 15, 5, 14, 13, 6, 9]  \n",
       "11          [11, 12, 1, 2, 3, 15, 5, 14, 13, 6, 9, 0]  \n",
       "12       [11, 12, 1, 2, 3, 15, 5, 14, 13, 6, 9, 0, 7]  \n",
       "13    [11, 12, 1, 2, 3, 15, 5, 14, 13, 6, 9, 0, 7, 4]  \n",
       "14  [11, 12, 1, 2, 3, 15, 5, 14, 13, 6, 9, 0, 7, 4...  "
      ]
     },
     "execution_count": 10,
     "metadata": {},
     "output_type": "execute_result"
    }
   ],
   "source": [
    "df_backward"
   ]
  },
  {
   "cell_type": "code",
   "execution_count": 10,
   "metadata": {},
   "outputs": [
    {
     "data": {
      "image/png": "[encoded data removed]",
      "text/plain": [
       "<Figure size 720x432 with 1 Axes>"
      ]
     },
     "metadata": {},
     "output_type": "display_data"
    }
   ],
   "source": [
    "# Run this cell to visualize the running time. You don't need to modify any codes here.\n",
    "\n",
    "running_time = pd.DataFrame({'Best Subset': np.log(time_best),'Forward Stepwise': np.log(time_forward),'Backward Stepwise': np.log(time_backward)})\n",
    "running_time.index = range(1,16)\n",
    "\n",
    "# Visualize the results\n",
    "running_time.plot(figsize = (10,6))\n",
    "plt.xlabel('Number of features')\n",
    "plt.ylabel('Log running time')\n",
    "plt.show()"
   ]
  },
  {
   "cell_type": "markdown",
   "metadata": {},
   "source": [
    "Based on this plot and these output DataFrames, comment on what you find. \n",
    "\n",
    "\n",
    "**Answer**:\n",
    "It seems that as the number of features increase, the log running time for forward and backward stepwise selection monotonically decrease. This makes sense because the greater the number of features, the less models we have to compare. Most of the computational time results from fitting a new model so a decrease in models to compare also decreases computational time. For best subset selection, the log running time increases until it hits a peak at 8 features and decreases after. Again, this makes sense because the number of models we have to compare increases until p choose p/2, after which it starts to decrease. Since p = 16, the number of models increases until 8 features, after which they decrease, and following our earlier logic, less models results in less computational time.\n",
    "\n"
   ]
  },
  {
   "cell_type": "markdown",
   "metadata": {},
   "source": [
    "-----"
   ]
  },
  {
   "cell_type": "markdown",
   "metadata": {},
   "source": [
    "## Problem 4. Sparse Signal Recovery\n",
    "\n",
    "In this exercise, we will generate a simulated linear regression problem and use Lasso to see if this method can recover the sparse signals."
   ]
  },
  {
   "cell_type": "markdown",
   "metadata": {},
   "source": [
    "### Part 1. Data Generating Process"
   ]
  },
  {
   "cell_type": "code",
   "execution_count": 59,
   "metadata": {},
   "outputs": [],
   "source": [
    "# DGP, you don't need to modify any codes here\n",
    "\n",
    "n_samples, n_features = 50, 100\n",
    "num_signal = 10\n",
    "X = np.random.randn(n_samples, n_features)\n",
    "\n",
    "# Construct the signals\n",
    "idx = np.arange(n_features)\n",
    "\n",
    "coef = 5 * np.random.randn(n_features)\n",
    "inds = np.arange(n_features)\n",
    "\n",
    "# Shuffle index and sparsify the signals\n",
    "np.random.shuffle(inds)\n",
    "coef[inds[num_signal:]] = 0\n",
    "\n",
    "# Add noise\n",
    "y = np.dot(X, coef) + 0.01 * np.random.normal(size=n_samples)"
   ]
  },
  {
   "cell_type": "markdown",
   "metadata": {},
   "source": [
    "### Part 2. Fit Lasso for signal recovery"
   ]
  },
  {
   "cell_type": "code",
   "execution_count": 97,
   "metadata": {},
   "outputs": [],
   "source": [
    "# Split data in training set and test set. You don't need to modify any codes here.\n",
    "from sklearn.model_selection import train_test_split\n",
    "\n",
    "X_train,X_test,y_train,y_test = train_test_split(X, y, test_size = 0.4)"
   ]
  },
  {
   "cell_type": "markdown",
   "metadata": {},
   "source": [
    "Please finish the following cell to fit Lasso, output a model named lasso, and calculate the OOS R^2: \n",
    "\n"
   ]
  },
  {
   "cell_type": "code",
   "execution_count": 104,
   "metadata": {},
   "outputs": [
    {
     "data": {
      "text/plain": [
       "0.9774126802307511"
      ]
     },
     "execution_count": 104,
     "metadata": {},
     "output_type": "execute_result"
    }
   ],
   "source": [
    "from sklearn.metrics import r2_score\n",
    "from sklearn.linear_model import Lasso, LassoCV\n",
    "from Index_track import Normalize\n",
    "\n",
    "##############################################################################\n",
    "### TODO: Fit a lasso model here, and calculate the OOS R square           ###\n",
    "##############################################################################\n",
    "\n",
    "model = LassoCV(cv = 5, random_state = 0, max_iter = 10000)\n",
    "model.fit(X_train, y_train)\n",
    "alpha_ = model.alpha_\n",
    "\n",
    "lasso = Lasso(max_iter = 10000)\n",
    "lasso.set_params(alpha=alpha_).fit(X_train,y_train)\n",
    "y_pred = lasso.predict(X_test)\n",
    "r2_score(y_test, y_pred)\n",
    "\n",
    "\n",
    "##############################################################################\n",
    "#                               END OF YOUR CODE                             #\n",
    "##############################################################################\n"
   ]
  },
  {
   "cell_type": "markdown",
   "metadata": {},
   "source": [
    "Visualize and compare the results. You don't need to modify any codes here."
   ]
  },
  {
   "cell_type": "code",
   "execution_count": 107,
   "metadata": {},
   "outputs": [
    {
     "data": {
      "image/png": "[encoded data removed]",
      "text/plain": [
       "<Figure size 864x576 with 1 Axes>"
      ]
     },
     "metadata": {},
     "output_type": "display_data"
    }
   ],
   "source": [
    "plt.figure(figsize = (12,8))\n",
    "plt.plot(lasso.coef_, color='gold', linewidth=2, label='Lasso coefficients')\n",
    "plt.plot(coef, '--', color='navy', label='original coefficients')\n",
    "plt.legend(loc='best')\n",
    "\n",
    "plt.show()"
   ]
  },
  {
   "cell_type": "markdown",
   "metadata": {},
   "source": [
    "----"
   ]
  },
  {
   "cell_type": "markdown",
   "metadata": {},
   "source": [
    "## Problem 5. **Track S&P500 index**"
   ]
  },
  {
   "cell_type": "markdown",
   "metadata": {
    "pycharm": {
     "name": "#%% md\n"
    }
   },
   "source": [
    "**Background**: \n",
    "\n",
    "The S&P 500 Index, or Standard & Poor's 500 Index, is a market-capitalization-weighted index of 500 (approximately) leading publicly traded companies in the U.S. It is regarded as one of the best gauges of prominent American equities' performance, and by extension, that of the stock market overall.\n",
    "\n",
    "In this exercise, we consider the daily values of the SP500 index as well as the daily stock prices of 500 major stocks at the same time period.\n"
   ]
  },
  {
   "cell_type": "markdown",
   "metadata": {},
   "source": [
    "\n",
    "**Purpose**:\n",
    "\n",
    "You can't directly invest in the S&P 500 because it's an index. Buying a basket of all component stocks may induce high transaction costs. Instead, one may be interested in a portfolio which contains fewer stocks to track the index."
   ]
  },
  {
   "cell_type": "code",
   "execution_count": 2,
   "metadata": {
    "pycharm": {
     "name": "#%%\n"
    }
   },
   "outputs": [],
   "source": [
    "# Load data\n",
    "_DATA_DIR = \"/classes/2080001_spr2022/Data/\"\n",
    "sp500 = pd.read_csv('%s/index_track.csv'%(_DATA_DIR), index_col = 0)\n",
    "sp500 = sp500.set_index('Date')"
   ]
  },
  {
   "cell_type": "code",
   "execution_count": 3,
   "metadata": {},
   "outputs": [],
   "source": [
    "# Set up codes\n",
    "from Index_track import *"
   ]
  },
  {
   "cell_type": "markdown",
   "metadata": {},
   "source": [
    "### Part 1.  Construct a parsimonious portfolio \n",
    "\n",
    "Construct a parsimonious portfolio that tracks  the S\\&P500\n",
    "index approximately. "
   ]
  },
  {
   "cell_type": "markdown",
   "metadata": {},
   "source": [
    "Finish the next cell to construct a Portfolio using training set and use Portfolio_visualize to check the OOS performance of this portfolio. \n",
    "\n",
    "Note we do not shuffle data when creating training set and test set on time series data."
   ]
  },
  {
   "cell_type": "code",
   "execution_count": 4,
   "metadata": {},
   "outputs": [],
   "source": [
    "# Based on price information to get stock returns for the index and individual stocks\n",
    "sp500_ret = sp500.pct_change() # day over day return\n",
    "sp500_ret.dropna(inplace=True)"
   ]
  },
  {
   "cell_type": "code",
   "execution_count": 13,
   "metadata": {
    "pycharm": {
     "is_executing": true,
     "name": "#%%\n"
    }
   },
   "outputs": [],
   "source": [
    "port = Portfolio_construction(sp500_ret)"
   ]
  },
  {
   "cell_type": "code",
   "execution_count": 6,
   "metadata": {},
   "outputs": [
    {
     "data": {
      "image/png": "[encoded data removed]",
      "text/plain": [
       "<Figure size 864x576 with 1 Axes>"
      ]
     },
     "metadata": {},
     "output_type": "display_data"
    }
   ],
   "source": [
    "Portfolio_visualize(port[1],port[2])"
   ]
  },
  {
   "cell_type": "markdown",
   "metadata": {},
   "source": [
    "How many stocks have non-zero weights?\n",
    "\n",
    "**Answer**:"
   ]
  },
  {
   "cell_type": "code",
   "execution_count": 7,
   "metadata": {},
   "outputs": [
    {
     "data": {
      "text/plain": [
       "222"
      ]
     },
     "execution_count": 7,
     "metadata": {},
     "output_type": "execute_result"
    }
   ],
   "source": [
    "len([x for x in port[0] if x != 0])"
   ]
  },
  {
   "cell_type": "markdown",
   "metadata": {},
   "source": [
    "Try different tuning parameters to see how this changes the above question. \n",
    "\n",
    "What results do you find when tuning parameter = 0 / $\\infty$?"
   ]
  },
  {
   "cell_type": "markdown",
   "metadata": {},
   "source": [
    "**Answer**:"
   ]
  },
  {
   "cell_type": "code",
   "execution_count": 8,
   "metadata": {},
   "outputs": [
    {
     "data": {
      "image/png": "[encoded data removed]",
      "text/plain": [
       "<Figure size 864x576 with 1 Axes>"
      ]
     },
     "metadata": {},
     "output_type": "display_data"
    }
   ],
   "source": [
    "port_0 = Portfolio_construction(sp500_ret,set_alp = False, alp = 0)\n",
    "Portfolio_visualize(port_0[1],port_0[2])"
   ]
  },
  {
   "cell_type": "code",
   "execution_count": null,
   "metadata": {},
   "outputs": [],
   "source": [
    "port_inf = Portfolio_construction(sp500_ret,set_alp = False, alp = np.Inf)\n",
    "Portfolio_visualize(port_inf[1],port_inf[2])"
   ]
  },
  {
   "cell_type": "code",
   "execution_count": 9,
   "metadata": {},
   "outputs": [
    {
     "data": {
      "text/plain": [
       "87"
      ]
     },
     "execution_count": 9,
     "metadata": {},
     "output_type": "execute_result"
    }
   ],
   "source": [
    "len([x for x in port[0] if x != 0])"
   ]
  },
  {
   "cell_type": "markdown",
   "metadata": {},
   "source": [
    "### Part 2. Rebalance the portfolio\n",
    "\n",
    "In this exercise, we implement the above portfolio on a rolling window basis. Say, use the first 60-day window to train your model, and use the next 60 day as OOS to check its performance, and continue for the rest of the OOS periods. \n",
    "\n",
    "\n",
    "Finish the codes in Portfolio_rebalance() and run the cell below to construct and evalute this portfolio."
   ]
  },
  {
   "cell_type": "code",
   "execution_count": 52,
   "metadata": {},
   "outputs": [],
   "source": [
    "rebal = Portfolio_rebalance(sp500_ret)"
   ]
  },
  {
   "cell_type": "code",
   "execution_count": 14,
   "metadata": {},
   "outputs": [
    {
     "data": {
      "image/png": "[encoded data removed]",
      "text/plain": [
       "<Figure size 864x576 with 1 Axes>"
      ]
     },
     "metadata": {},
     "output_type": "display_data"
    }
   ],
   "source": [
    "Portfolio_visualize(port[1],rebal[1])"
   ]
  },
  {
   "cell_type": "markdown",
   "metadata": {},
   "source": [
    "How many stocks have the non-zero weight? How stable is your portfolio? \n",
    "\n",
    "**Answer**:"
   ]
  },
  {
   "cell_type": "code",
   "execution_count": 76,
   "metadata": {},
   "outputs": [],
   "source": [
    "stock_weights = rebal[0].dropna()\n",
    "stock_weights = stock_weights.apply(pd.to_numeric)\n",
    "#len([x for x in rebal[0] if x != 0])"
   ]
  },
  {
   "cell_type": "code",
   "execution_count": 85,
   "metadata": {},
   "outputs": [
    {
     "name": "stdout",
     "output_type": "stream",
     "text": [
      "A   4\n",
      "AA   2\n",
      "AAPL   11\n",
      "ABC   1\n",
      "ABT   4\n",
      "ACE   2\n",
      "ACN   4\n",
      "ADBE   6\n",
      "ADI   6\n",
      "ADM   2\n",
      "ADP   8\n",
      "ADSK   1\n",
      "AEE   3\n",
      "AEP   2\n",
      "AES   2\n",
      "AET   2\n",
      "AFL   1\n",
      "AGN   4\n",
      "AIG   1\n",
      "AIV   1\n",
      "AIZ   0\n",
      "AKAM   2\n",
      "ALL   3\n",
      "ALTR   3\n",
      "ALXN   1\n",
      "AMAT   3\n",
      "AMD   3\n",
      "AMGN   2\n",
      "AMP   1\n",
      "AMT   2\n",
      "AMZN   4\n",
      "AN   2\n",
      "ANF   2\n",
      "APA   5\n",
      "APC   3\n",
      "APD   4\n",
      "APH   3\n",
      "APOL   3\n",
      "ARG   2\n",
      "ATI   0\n",
      "AVB   0\n",
      "AVP   2\n",
      "AVY   5\n",
      "AXP   8\n",
      "AZO   0\n",
      "BA   7\n",
      "BAC   8\n",
      "BAX   4\n",
      "BBBY   4\n",
      "BBT   7\n",
      "BBY   0\n",
      "BCR   0\n",
      "BDX   3\n",
      "BEN   5\n",
      "BHI   4\n",
      "BIIB   0\n",
      "BK   4\n",
      "BLK   7\n",
      "BLL   1\n",
      "BMC   0\n",
      "BMS   1\n",
      "BMY   5\n",
      "BRCM   4\n",
      "BSX   2\n",
      "BTU   1\n",
      "BWA   0\n",
      "BXP   2\n",
      "C   0\n",
      "CA   2\n",
      "CAH   3\n",
      "CAM   3\n",
      "CAT   6\n",
      "CB   2\n",
      "CBG   1\n",
      "CCE   2\n",
      "CCI   2\n",
      "CCL   6\n",
      "CELG   4\n",
      "CERN   0\n",
      "CF   5\n",
      "CHK   0\n",
      "CHRW   1\n",
      "CI   2\n",
      "CINF   2\n",
      "CL   5\n",
      "CLF   2\n",
      "CLX   0\n",
      "CMA   2\n",
      "CMCSA   7\n",
      "CME   1\n",
      "CMI   3\n",
      "CMS   0\n",
      "CMT   2\n",
      "CNP   0\n",
      "CNX   0\n",
      "COF   4\n",
      "COG   1\n",
      "COH   0\n",
      "COHU   3\n",
      "COL   3\n",
      "COP   3\n",
      "COST   3\n",
      "COV   4\n",
      "CPB   3\n",
      "CRM   1\n",
      "CSC   5\n",
      "CSCO   9\n",
      "CSX   1\n",
      "CTAS   9\n",
      "CTL   0\n",
      "CTSH   2\n",
      "CTXS   2\n",
      "CVC   1\n",
      "CVS   4\n",
      "CVX   8\n",
      "D   0\n",
      "DD   2\n",
      "DE   2\n",
      "DELL   5\n",
      "DFS   3\n",
      "DGX   5\n",
      "DHI   2\n",
      "DHR   1\n",
      "DIS   7\n",
      "DISCA   1\n",
      "DLTR   1\n",
      "DNB   1\n",
      "DNR   0\n",
      "DO   1\n",
      "DOV   6\n",
      "DOW   6\n",
      "DRI   0\n",
      "DTE   3\n",
      "DTV   5\n",
      "DUK   1\n",
      "DVA   2\n",
      "DVN   3\n",
      "EBAY   6\n",
      "EBIX   0\n",
      "ECL   1\n",
      "ED   1\n",
      "EFX   7\n",
      "EIX   4\n",
      "EL   2\n",
      "EMC   5\n",
      "EMN   3\n",
      "EMR   7\n",
      "EOG   2\n",
      "EQR   0\n",
      "EQT   4\n",
      "ESRX   0\n",
      "ETFC   1\n",
      "ETN   2\n",
      "ETR   5\n",
      "EW   1\n",
      "EXC   1\n",
      "EXPD   3\n",
      "EXPE   1\n",
      "F   1\n",
      "FAST   2\n",
      "FCX   1\n",
      "FDO   0\n",
      "FDX   3\n",
      "FE   1\n",
      "FFIV   3\n",
      "FIS   1\n",
      "FISV   3\n",
      "FITB   0\n",
      "FLIR   1\n",
      "FLR   2\n",
      "FLS   1\n",
      "FMC   1\n",
      "FOSL   3\n",
      "FRX   1\n",
      "FSLR   1\n",
      "FTI   0\n",
      "GCI   2\n",
      "GD   4\n",
      "GE   10\n",
      "GILD   3\n",
      "GIS   1\n",
      "GLW   3\n",
      "GME   3\n",
      "GNW   0\n",
      "GOOG   4\n",
      "GPC   5\n",
      "GPS   2\n",
      "GRMN   2\n",
      "GS   7\n",
      "GT   4\n",
      "GWW   7\n",
      "HAL   2\n",
      "HAR   1\n",
      "HAS   5\n",
      "HBAN   0\n",
      "HCBK   6\n",
      "HCN   1\n",
      "HCP   0\n",
      "HD   1\n",
      "HES   5\n",
      "HIG   1\n",
      "HOG   5\n",
      "HON   6\n",
      "HOT   1\n",
      "HP   1\n",
      "HPQ   4\n",
      "HRB   1\n",
      "HRL   0\n",
      "HRS   1\n",
      "HSP   2\n",
      "HST   1\n",
      "HSY   3\n",
      "HUM   1\n",
      "IBM   12\n",
      "ICE   5\n",
      "IFF   6\n",
      "IGT   1\n",
      "INTC   9\n",
      "INTU   4\n",
      "IP   1\n",
      "IPG   0\n",
      "IR   4\n",
      "IRM   0\n",
      "ISRG   1\n",
      "ITW   6\n",
      "IVZ   4\n",
      "JBL   2\n",
      "JCI   1\n",
      "JCP   2\n",
      "JDSU   2\n",
      "JEC   5\n",
      "JNJ   9\n",
      "JNPR   1\n",
      "JPM   9\n",
      "JWN   1\n",
      "K   4\n",
      "KEY   1\n",
      "KIM   1\n",
      "KLAC   2\n",
      "KMB   4\n",
      "KMX   2\n",
      "KO   1\n",
      "KR   3\n",
      "KSS   2\n",
      "KSU   4\n",
      "LEG   3\n",
      "LH   6\n",
      "LLL   7\n",
      "LLTC   2\n",
      "LLY   7\n",
      "LM   3\n",
      "LMT   1\n",
      "LNC   2\n",
      "LOW   3\n",
      "LRCX   2\n",
      "LSI   0\n",
      "LTD   3\n",
      "LUK   6\n",
      "LUV   4\n",
      "M   0\n",
      "MA   9\n",
      "MAC   0\n",
      "MAR   1\n",
      "MAS   5\n",
      "MAT   4\n",
      "MCD   5\n",
      "MCHP   3\n",
      "MCK   1\n",
      "MCO   3\n",
      "MDT   6\n",
      "MET   0\n",
      "MMC   2\n",
      "MMM   9\n",
      "MO   0\n",
      "MOLX   5\n",
      "MON   5\n",
      "MOS   0\n",
      "MPET   1\n",
      "MRK   7\n",
      "MRO   1\n",
      "MSFT   9\n",
      "MTB   4\n",
      "MU   2\n",
      "MUR   5\n",
      "MWV   4\n",
      "MYL   4\n",
      "NBL   2\n",
      "NBR   6\n",
      "NDAQ   3\n",
      "NE   1\n",
      "NEM   1\n",
      "NFLX   0\n",
      "NFX   1\n",
      "NKE   0\n",
      "NOC   6\n",
      "NOV   0\n",
      "NRG   2\n",
      "NSC   3\n",
      "NTAP   2\n",
      "NTRS   3\n",
      "NU   1\n",
      "NUE   2\n",
      "NVDA   0\n",
      "NWL   3\n",
      "NYX   1\n",
      "OI   1\n",
      "OKE   1\n",
      "OMC   8\n",
      "ORCL   10\n",
      "ORLY   2\n",
      "OXY   4\n",
      "PAYX   4\n",
      "PBCT   3\n",
      "PBI   4\n",
      "PCAR   3\n",
      "PCG   2\n",
      "PCL   2\n",
      "PCLN   3\n",
      "PCP   3\n",
      "PDCO   5\n",
      "PEG   1\n",
      "PEP   10\n",
      "PETM   2\n",
      "PFE   14\n",
      "PFG   2\n",
      "PG   5\n",
      "PGR   5\n",
      "PH   4\n",
      "PHM   5\n",
      "PIR   1\n",
      "PKI   0\n",
      "PLL   7\n",
      "PNC   1\n",
      "PNW   1\n",
      "POM   0\n",
      "PPG   5\n",
      "PPL   1\n",
      "PRGO   2\n",
      "PRU   1\n",
      "PSA   1\n",
      "PVH   1\n",
      "PWR   3\n",
      "PX   4\n",
      "PXD   3\n",
      "QCOM   5\n",
      "R   3\n",
      "RAI   1\n",
      "RDC   2\n",
      "REGN   1\n",
      "RF   1\n",
      "RHI   8\n",
      "RHT   2\n",
      "RL   1\n",
      "ROK   2\n",
      "ROP   2\n",
      "ROST   2\n",
      "RRC   1\n",
      "RSG   1\n",
      "RTN   1\n",
      "S   1\n",
      "SAI   4\n",
      "SBUX   4\n",
      "SCG   3\n",
      "SCHW   5\n",
      "SE   4\n",
      "SEE   2\n",
      "SHW   0\n",
      "SIAL   5\n",
      "SJM   3\n",
      "SLB   6\n",
      "SLM   3\n",
      "SNA   2\n",
      "SNDK   2\n",
      "SO   1\n",
      "SPG   0\n",
      "SPLS   4\n",
      "SRCL   5\n",
      "SRE   1\n",
      "STI   1\n",
      "STJ   2\n",
      "STT   1\n",
      "STX   1\n",
      "SWK   2\n",
      "SWN   0\n",
      "SWY   1\n",
      "SYK   2\n",
      "SYMC   2\n",
      "SYY   5\n",
      "T   9\n",
      "TE   3\n",
      "TEG   1\n",
      "TEL   0\n",
      "TER   4\n",
      "TGT   3\n",
      "THC   0\n",
      "TIF   1\n",
      "TJX   1\n",
      "TMK   2\n",
      "TMO   3\n",
      "TROW   9\n",
      "TRV   3\n",
      "TSN   1\n",
      "TSO   0\n",
      "TSS   4\n",
      "TWC   0\n",
      "TWX   1\n",
      "TXT   2\n",
      "TYC   1\n",
      "UNH   1\n",
      "UNM   2\n",
      "UNP   0\n",
      "UPS   6\n",
      "URBN   0\n",
      "USB   3\n",
      "UTX   10\n",
      "VAR   1\n",
      "VFC   1\n",
      "VLO   5\n",
      "VMC   4\n",
      "VNO   2\n",
      "VRSN   1\n",
      "VTR   1\n",
      "VZ   6\n",
      "WAG   1\n",
      "WAT   4\n",
      "WDC   3\n",
      "WEC   1\n",
      "WFC   4\n",
      "WHR   0\n",
      "WIN   0\n",
      "WLP   5\n",
      "WMB   6\n",
      "WMT   7\n",
      "WPO   1\n",
      "WU   3\n",
      "WY   1\n",
      "WYN   3\n",
      "WYNN   1\n",
      "X   3\n",
      "XEL   3\n",
      "XL   2\n",
      "XLNX   1\n",
      "XOM   15\n",
      "XRAY   5\n",
      "XRX   4\n",
      "YHOO   4\n",
      "YUM   6\n",
      "ZION   1\n",
      "ZMH   4\n",
      "stocks_used   21\n"
     ]
    }
   ],
   "source": [
    "for y in range(0,stock_weights.shape[1]):\n",
    "    print(stock_weights.columns[y], \" \", len([x for x in stock_weights.iloc[:,y] if x != 0]))"
   ]
  },
  {
   "cell_type": "code",
   "execution_count": 80,
   "metadata": {},
   "outputs": [],
   "source": [
    "stock_weights['stocks_used'] = stock_weights.astype(bool).sum(axis=1)"
   ]
  },
  {
   "cell_type": "code",
   "execution_count": 82,
   "metadata": {},
   "outputs": [
    {
     "data": {
      "text/plain": [
       "Date\n",
       "2007-11-29    61\n",
       "2008-02-27    63\n",
       "2008-05-22    64\n",
       "2008-08-18    59\n",
       "2008-11-11    58\n",
       "2009-02-09    66\n",
       "2009-05-06    65\n",
       "2009-07-31    63\n",
       "2009-10-26    66\n",
       "2010-01-22    62\n",
       "2010-04-20    58\n",
       "2010-07-15    60\n",
       "2010-10-08    62\n",
       "2011-01-04    60\n",
       "2011-03-31    62\n",
       "2011-06-27    57\n",
       "2011-09-21    63\n",
       "2011-12-15    42\n",
       "2012-03-14    63\n",
       "2012-06-08    63\n",
       "2012-09-04    62\n",
       "Name: stocks_used, dtype: int64"
      ]
     },
     "execution_count": 82,
     "metadata": {},
     "output_type": "execute_result"
    }
   ],
   "source": [
    "stock_weights['stocks_used']"
   ]
  },
  {
   "cell_type": "code",
   "execution_count": 57,
   "metadata": {},
   "outputs": [],
   "source": [
    "pd.DataFrame(stock_weights).to_csv(path_or_buf = 'rolling_coef.csv')"
   ]
  },
  {
   "cell_type": "code",
   "execution_count": null,
   "metadata": {},
   "outputs": [],
   "source": []
  }
 ],
 "metadata": {
  "kernelspec": {
   "display_name": "Python 3",
   "language": "python",
   "name": "python3"
  },
  "language_info": {
   "codemirror_mode": {
    "name": "ipython",
    "version": 3
   },
   "file_extension": ".py",
   "mimetype": "text/x-python",
   "name": "python",
   "nbconvert_exporter": "python",
   "pygments_lexer": "ipython3",
   "version": "3.6.8"
  }
 },
 "nbformat": 4,
 "nbformat_minor": 4
}
