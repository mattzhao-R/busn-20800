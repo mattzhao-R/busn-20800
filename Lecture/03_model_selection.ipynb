{
 "cells": [
  {
   "cell_type": "code",
   "execution_count": 1,
   "id": "a7b4c99c-5236-4e91-a49a-4f66a38a72ee",
   "metadata": {},
   "outputs": [],
   "source": [
    "import pandas as pd\n",
    "import statsmodels.formula.api as smf\n",
    "import statsmodels.api as sm\n",
    "import matplotlib.pyplot as plt\n",
    "import numpy as np\n",
    "import seaborn as sns\n",
    "import warnings\n",
    "\n",
    "from sklearn.model_selection import train_test_split\n",
    "from sklearn.linear_model import Lasso, LassoCV, LassoLarsIC\n",
    "from sklearn.preprocessing import StandardScaler\n",
    "\n",
    "warnings.filterwarnings('ignore')\n",
    "sns.set_theme(context='notebook', style='whitegrid', palette='deep', font='sans-serif', font_scale=2, color_codes=True,rc={'figure.figsize':(15,10)})"
   ]
  },
  {
   "cell_type": "code",
   "execution_count": 2,
   "id": "f2b3e786-6ec2-4457-b762-8f381ffe7c83",
   "metadata": {},
   "outputs": [],
   "source": [
    "def deviance(y, pred, family):\n",
    "    if family == 'gaussian':\n",
    "        return np.sum((y - pred)**2)\n",
    "    if family == 'binomial':\n",
    "        return -2 * np.sum(y * np.log(pred) + (1-y) * np.log(1-pred))"
   ]
  },
  {
   "cell_type": "code",
   "execution_count": 3,
   "id": "d68896a0-e2f6-468a-ae8b-dcaa915bd283",
   "metadata": {},
   "outputs": [],
   "source": [
    "_DATA_DIR = '/classes/2080001_spr2022/Data'"
   ]
  },
  {
   "cell_type": "code",
   "execution_count": 4,
   "id": "6d22699f-32dd-4aac-aa39-9eb1e6775eee",
   "metadata": {},
   "outputs": [
    {
     "data": {
      "text/html": [
       "<div>\n",
       "<style scoped>\n",
       "    .dataframe tbody tr th:only-of-type {\n",
       "        vertical-align: middle;\n",
       "    }\n",
       "\n",
       "    .dataframe tbody tr th {\n",
       "        vertical-align: top;\n",
       "    }\n",
       "\n",
       "    .dataframe thead th {\n",
       "        text-align: right;\n",
       "    }\n",
       "</style>\n",
       "<table border=\"1\" class=\"dataframe\">\n",
       "  <thead>\n",
       "    <tr style=\"text-align: right;\">\n",
       "      <th></th>\n",
       "      <th>inflation</th>\n",
       "      <th>Natural_disasters</th>\n",
       "      <th>Internet</th>\n",
       "      <th>Soft_drinks</th>\n",
       "      <th>Mobile_devices</th>\n",
       "      <th>Profits</th>\n",
       "      <th>M_A</th>\n",
       "      <th>Changes</th>\n",
       "      <th>Police_crime</th>\n",
       "      <th>Research</th>\n",
       "      <th>...</th>\n",
       "      <th>Negotiations</th>\n",
       "      <th>European_politics</th>\n",
       "      <th>Size</th>\n",
       "      <th>NASD</th>\n",
       "      <th>Mexico</th>\n",
       "      <th>Retail</th>\n",
       "      <th>Long_short_term</th>\n",
       "      <th>Wide_range</th>\n",
       "      <th>Lawsuits</th>\n",
       "      <th>UK</th>\n",
       "    </tr>\n",
       "    <tr>\n",
       "      <th>sasdate</th>\n",
       "      <th></th>\n",
       "      <th></th>\n",
       "      <th></th>\n",
       "      <th></th>\n",
       "      <th></th>\n",
       "      <th></th>\n",
       "      <th></th>\n",
       "      <th></th>\n",
       "      <th></th>\n",
       "      <th></th>\n",
       "      <th></th>\n",
       "      <th></th>\n",
       "      <th></th>\n",
       "      <th></th>\n",
       "      <th></th>\n",
       "      <th></th>\n",
       "      <th></th>\n",
       "      <th></th>\n",
       "      <th></th>\n",
       "      <th></th>\n",
       "      <th></th>\n",
       "    </tr>\n",
       "  </thead>\n",
       "  <tbody>\n",
       "    <tr>\n",
       "      <th>1984-01-01</th>\n",
       "      <td>0.006903</td>\n",
       "      <td>0.003393</td>\n",
       "      <td>0.001054</td>\n",
       "      <td>0.003522</td>\n",
       "      <td>0.001552</td>\n",
       "      <td>0.009622</td>\n",
       "      <td>0.004586</td>\n",
       "      <td>0.003639</td>\n",
       "      <td>0.004703</td>\n",
       "      <td>0.004628</td>\n",
       "      <td>...</td>\n",
       "      <td>0.005815</td>\n",
       "      <td>0.009105</td>\n",
       "      <td>0.003894</td>\n",
       "      <td>0.003490</td>\n",
       "      <td>0.004669</td>\n",
       "      <td>0.005357</td>\n",
       "      <td>0.004293</td>\n",
       "      <td>0.004955</td>\n",
       "      <td>0.008534</td>\n",
       "      <td>0.004675</td>\n",
       "    </tr>\n",
       "    <tr>\n",
       "      <th>1984-02-01</th>\n",
       "      <td>0.004897</td>\n",
       "      <td>0.004640</td>\n",
       "      <td>0.000975</td>\n",
       "      <td>0.004115</td>\n",
       "      <td>0.001611</td>\n",
       "      <td>0.008956</td>\n",
       "      <td>0.005205</td>\n",
       "      <td>0.003648</td>\n",
       "      <td>0.004393</td>\n",
       "      <td>0.004115</td>\n",
       "      <td>...</td>\n",
       "      <td>0.005541</td>\n",
       "      <td>0.007414</td>\n",
       "      <td>0.004008</td>\n",
       "      <td>0.004439</td>\n",
       "      <td>0.003033</td>\n",
       "      <td>0.004055</td>\n",
       "      <td>0.004467</td>\n",
       "      <td>0.004519</td>\n",
       "      <td>0.008337</td>\n",
       "      <td>0.004582</td>\n",
       "    </tr>\n",
       "    <tr>\n",
       "      <th>1984-03-01</th>\n",
       "      <td>0.002924</td>\n",
       "      <td>0.005294</td>\n",
       "      <td>0.001018</td>\n",
       "      <td>0.003355</td>\n",
       "      <td>0.001546</td>\n",
       "      <td>0.005529</td>\n",
       "      <td>0.006112</td>\n",
       "      <td>0.003461</td>\n",
       "      <td>0.004456</td>\n",
       "      <td>0.004211</td>\n",
       "      <td>...</td>\n",
       "      <td>0.005206</td>\n",
       "      <td>0.008363</td>\n",
       "      <td>0.003832</td>\n",
       "      <td>0.004134</td>\n",
       "      <td>0.003516</td>\n",
       "      <td>0.004393</td>\n",
       "      <td>0.003914</td>\n",
       "      <td>0.004839</td>\n",
       "      <td>0.009045</td>\n",
       "      <td>0.004731</td>\n",
       "    </tr>\n",
       "    <tr>\n",
       "      <th>1984-04-01</th>\n",
       "      <td>0.003887</td>\n",
       "      <td>0.004181</td>\n",
       "      <td>0.000927</td>\n",
       "      <td>0.003663</td>\n",
       "      <td>0.001612</td>\n",
       "      <td>0.010934</td>\n",
       "      <td>0.004572</td>\n",
       "      <td>0.003014</td>\n",
       "      <td>0.005091</td>\n",
       "      <td>0.003741</td>\n",
       "      <td>...</td>\n",
       "      <td>0.005171</td>\n",
       "      <td>0.006124</td>\n",
       "      <td>0.003205</td>\n",
       "      <td>0.003686</td>\n",
       "      <td>0.003467</td>\n",
       "      <td>0.005167</td>\n",
       "      <td>0.004159</td>\n",
       "      <td>0.004557</td>\n",
       "      <td>0.008473</td>\n",
       "      <td>0.003942</td>\n",
       "    </tr>\n",
       "    <tr>\n",
       "      <th>1984-05-01</th>\n",
       "      <td>0.001936</td>\n",
       "      <td>0.004179</td>\n",
       "      <td>0.001012</td>\n",
       "      <td>0.003105</td>\n",
       "      <td>0.001612</td>\n",
       "      <td>0.005622</td>\n",
       "      <td>0.004704</td>\n",
       "      <td>0.002953</td>\n",
       "      <td>0.005669</td>\n",
       "      <td>0.003715</td>\n",
       "      <td>...</td>\n",
       "      <td>0.004661</td>\n",
       "      <td>0.007005</td>\n",
       "      <td>0.003816</td>\n",
       "      <td>0.005254</td>\n",
       "      <td>0.003947</td>\n",
       "      <td>0.005518</td>\n",
       "      <td>0.004400</td>\n",
       "      <td>0.005332</td>\n",
       "      <td>0.010317</td>\n",
       "      <td>0.004083</td>\n",
       "    </tr>\n",
       "  </tbody>\n",
       "</table>\n",
       "<p>5 rows × 180 columns</p>\n",
       "</div>"
      ],
      "text/plain": [
       "            inflation  Natural_disasters  Internet  Soft_drinks  \\\n",
       "sasdate                                                           \n",
       "1984-01-01   0.006903           0.003393  0.001054     0.003522   \n",
       "1984-02-01   0.004897           0.004640  0.000975     0.004115   \n",
       "1984-03-01   0.002924           0.005294  0.001018     0.003355   \n",
       "1984-04-01   0.003887           0.004181  0.000927     0.003663   \n",
       "1984-05-01   0.001936           0.004179  0.001012     0.003105   \n",
       "\n",
       "            Mobile_devices   Profits       M_A   Changes  Police_crime  \\\n",
       "sasdate                                                                  \n",
       "1984-01-01        0.001552  0.009622  0.004586  0.003639      0.004703   \n",
       "1984-02-01        0.001611  0.008956  0.005205  0.003648      0.004393   \n",
       "1984-03-01        0.001546  0.005529  0.006112  0.003461      0.004456   \n",
       "1984-04-01        0.001612  0.010934  0.004572  0.003014      0.005091   \n",
       "1984-05-01        0.001612  0.005622  0.004704  0.002953      0.005669   \n",
       "\n",
       "            Research  ...  Negotiations  European_politics      Size  \\\n",
       "sasdate               ...                                              \n",
       "1984-01-01  0.004628  ...      0.005815           0.009105  0.003894   \n",
       "1984-02-01  0.004115  ...      0.005541           0.007414  0.004008   \n",
       "1984-03-01  0.004211  ...      0.005206           0.008363  0.003832   \n",
       "1984-04-01  0.003741  ...      0.005171           0.006124  0.003205   \n",
       "1984-05-01  0.003715  ...      0.004661           0.007005  0.003816   \n",
       "\n",
       "                NASD    Mexico    Retail  Long_short_term  Wide_range  \\\n",
       "sasdate                                                                 \n",
       "1984-01-01  0.003490  0.004669  0.005357         0.004293    0.004955   \n",
       "1984-02-01  0.004439  0.003033  0.004055         0.004467    0.004519   \n",
       "1984-03-01  0.004134  0.003516  0.004393         0.003914    0.004839   \n",
       "1984-04-01  0.003686  0.003467  0.005167         0.004159    0.004557   \n",
       "1984-05-01  0.005254  0.003947  0.005518         0.004400    0.005332   \n",
       "\n",
       "            Lawsuits        UK  \n",
       "sasdate                         \n",
       "1984-01-01  0.008534  0.004675  \n",
       "1984-02-01  0.008337  0.004582  \n",
       "1984-03-01  0.009045  0.004731  \n",
       "1984-04-01  0.008473  0.003942  \n",
       "1984-05-01  0.010317  0.004083  \n",
       "\n",
       "[5 rows x 180 columns]"
      ]
     },
     "execution_count": 4,
     "metadata": {},
     "output_type": "execute_result"
    }
   ],
   "source": [
    "topic =  pd.read_csv('%s/Monthly_Topic_Attention_Theta.csv'%(_DATA_DIR))\n",
    "topic['date'] = pd.to_datetime(topic['date'])\n",
    "topic.set_index('date', inplace=True) \n",
    "\n",
    "macro = pd.read_csv('%s/FREDMD_20210218.csv'%(_DATA_DIR)).loc[:,['sasdate','CPIAUCSL']]\n",
    "macro['sasdate'] = pd.to_datetime(macro['sasdate'])\n",
    "macro.set_index('sasdate', inplace=True)\n",
    "macro = macro/macro.shift(1)-1\n",
    "macro.columns = ['inflation']\n",
    "\n",
    "df = macro.join(topic).dropna()\n",
    "df.columns = df.columns.str.replace(' ','_')\n",
    "df.columns = df.columns.str.replace('&','_')\n",
    "df.columns = df.columns.str.replace('/','_')\n",
    "df.columns = df.columns.str.replace('-','_')\n",
    "df = df.iloc[:,:-1]\n",
    "df.head()"
   ]
  },
  {
   "cell_type": "markdown",
   "id": "91d0dc12-e6cb-4009-9dc6-0cdefb84384b",
   "metadata": {},
   "source": [
    "# Full model"
   ]
  },
  {
   "cell_type": "code",
   "execution_count": null,
   "id": "2c7de00c-5526-473d-8475-a97c396225e8",
   "metadata": {
    "scrolled": true
   },
   "outputs": [],
   "source": [
    "# Full model\n",
    "rest_full = df.columns[1:].tolist()\n",
    "rest_full = '+'.join(rest_full)\n",
    "\n",
    "full_model = smf.glm(formula='inflation ~ {}'.format(rest_full), data = df).fit()\n",
    "\n",
    "print(full_model.summary())"
   ]
  },
  {
   "cell_type": "code",
   "execution_count": null,
   "id": "4870e5c7-f007-4343-807b-3ac8e0fbc1b7",
   "metadata": {},
   "outputs": [],
   "source": [
    "# number of variables selected\n",
    "N_full = len(df.columns[1:])\n",
    "N_full"
   ]
  },
  {
   "cell_type": "code",
   "execution_count": null,
   "id": "cd4ffe5d-ca8a-4871-8724-11120b553157",
   "metadata": {},
   "outputs": [],
   "source": [
    "# Estimation and Goodness of Fit\n",
    "\n",
    "full_R2 = 1-full_model.deviance/full_model.null_deviance\n",
    "full_AIC = full_model.aic\n",
    "full_BIC = full_model.bic\n",
    "\n",
    "print(\"full model R2:\",round(full_R2,2))\n",
    "print(\"full model AIC:\", round(full_AIC,2))\n",
    "print(\"full model BIC:\", round(full_BIC,2))"
   ]
  },
  {
   "cell_type": "markdown",
   "id": "0d0c675a-a289-4b2f-9c33-a9aa64ce99c5",
   "metadata": {},
   "source": [
    "# Screening"
   ]
  },
  {
   "cell_type": "code",
   "execution_count": null,
   "id": "2e7131e5-5a73-445f-be02-8971633abb42",
   "metadata": {},
   "outputs": [],
   "source": [
    "n = df.shape[0]\n",
    "\n",
    "# standardize\n",
    "scaler = StandardScaler().fit(df) \n",
    "df_scaled = scaler.transform(df)\n",
    "df_scaled = pd.DataFrame(df_scaled)"
   ]
  },
  {
   "cell_type": "code",
   "execution_count": null,
   "id": "cc43f32f-5334-46e2-a0ed-6f67895d8e57",
   "metadata": {},
   "outputs": [],
   "source": [
    "# compute correlation\n",
    "cor = df_scaled.corr()[0][1:]"
   ]
  },
  {
   "cell_type": "code",
   "execution_count": null,
   "id": "d2dc7d20-0942-484d-87b1-9a860ea9318e",
   "metadata": {},
   "outputs": [],
   "source": [
    "# Reducecd dimension\n",
    "d = (cor.abs()>0.1).sum()"
   ]
  },
  {
   "cell_type": "code",
   "execution_count": null,
   "id": "c8449693-4bca-4702-b37c-5618c8e3b16d",
   "metadata": {},
   "outputs": [],
   "source": [
    "# select variables with high correlation\n",
    "reduced = np.argsort(abs(cor))[df.shape[1]-d:]\n",
    "reduced = list(reduced)\n",
    "var_reduced = list(df.iloc[:,reduced].columns)"
   ]
  },
  {
   "cell_type": "code",
   "execution_count": null,
   "id": "c174f2fb-f12a-4c4b-8333-7b09a0dafba3",
   "metadata": {},
   "outputs": [],
   "source": [
    "len(var_reduced) "
   ]
  },
  {
   "cell_type": "code",
   "execution_count": null,
   "id": "8bf333ec-44b2-4424-b101-bda68d4bf6b1",
   "metadata": {},
   "outputs": [],
   "source": [
    "cor = pd.DataFrame(np.transpose(np.array([df.columns[1:],cor])))\n",
    "cor.columns = ['variable','correlation']\n",
    "cor = cor.sort_values(['correlation'], ascending=False).reset_index(drop=True)\n",
    "cor"
   ]
  },
  {
   "cell_type": "code",
   "execution_count": null,
   "id": "01e9605f-d9c2-4f64-a067-020fbf4ed3c9",
   "metadata": {},
   "outputs": [],
   "source": [
    "sns.histplot(cor.correlation,bins=30)\n",
    "#plt.savefig('correlation_histogram.pdf')"
   ]
  },
  {
   "cell_type": "code",
   "execution_count": null,
   "id": "d1bc5c81-5318-4c11-8367-910c0179ca3c",
   "metadata": {},
   "outputs": [],
   "source": [
    "cor = cor.sort_values(['correlation'], ascending=False).reset_index(drop=True)\n",
    "corr = cor.iloc[np.r_[0:20, -20:0]] # show first and last rows\n",
    "plt.figure(figsize = (16,12))\n",
    "sns.barplot(\n",
    "    x=\"correlation\", \n",
    "    y=\"variable\", \n",
    "    data=corr, \n",
    "    estimator=sum\n",
    ");\n",
    "plt.title('correlation of inflation')\n",
    "plt.savefig('correlation_bar.pdf')"
   ]
  },
  {
   "cell_type": "code",
   "execution_count": null,
   "id": "62666f79-17e7-4c81-8999-2ebf3c3c3c87",
   "metadata": {},
   "outputs": [],
   "source": [
    "# number of variables selected\n",
    "N_SIS = len(var_reduced)\n",
    "N_SIS"
   ]
  },
  {
   "cell_type": "code",
   "execution_count": null,
   "id": "fae9fe4c-acf0-40a9-9c2c-d6862872aec3",
   "metadata": {},
   "outputs": [],
   "source": [
    "# selected variables\n",
    "\n",
    "var_reduced"
   ]
  },
  {
   "cell_type": "code",
   "execution_count": null,
   "id": "f88580fa-c9cb-4abf-964e-d488c629b8cc",
   "metadata": {
    "scrolled": true
   },
   "outputs": [],
   "source": [
    "rest_reduced  = '+'.join(var_reduced)\n",
    "\n",
    "reduced_model = smf.glm(formula='inflation ~ {}'.format(rest_reduced), data=df).fit()\n",
    "\n",
    "print(reduced_model.summary())"
   ]
  },
  {
   "cell_type": "code",
   "execution_count": null,
   "id": "c11f2cb9-301a-4fd7-849b-061419f8e54e",
   "metadata": {},
   "outputs": [],
   "source": [
    "# Estimation and Goodness of Fit\n",
    "\n",
    "SIS_R2 = 1-reduced_model.deviance/reduced_model.null_deviance\n",
    "SIS_AIC = reduced_model.aic\n",
    "SIS_BIC = reduced_model.bic\n",
    "\n",
    "print(\"SIS model R2:\",round(SIS_R2,2))\n",
    "print(\"SIS model AIC:\", round(SIS_AIC,2))\n",
    "print(\"SIS model BIC:\", round(SIS_BIC,2))"
   ]
  },
  {
   "cell_type": "code",
   "execution_count": null,
   "id": "d0bca8f9-8e92-4bec-8998-ce21f2e62374",
   "metadata": {},
   "outputs": [],
   "source": [
    "def SIS(data, thrd):\n",
    "    \"\"\"\n",
    "    Linear model designed by screening.\n",
    "\n",
    "    Parameters:\n",
    "    -----------\n",
    "    data : pandas DataFrame with all possible predictors and response\n",
    "\n",
    "    Returns:\n",
    "    --------\n",
    "    model: an \"optimal\" fitted linear model,\n",
    "           selected by sure independence screening \n",
    "    \"\"\"\n",
    "    \n",
    "    n = df.shape[0]\n",
    "    d = (cor.abs()>thrd).sum()\n",
    "    scaler = StandardScaler().fit(df) \n",
    "    df_scaled = scaler.transform(df)\n",
    "    df_scaled = pd.DataFrame(df_scaled)\n",
    "\n",
    "    cor = df_scaled.corr()[0][1:]\n",
    "    reduced = np.argsort(abs(cor))[df.shape[1]-d:]\n",
    "    reduced = list(reduced)\n",
    "    var_reduced = list(df.iloc[:,reduced].columns)\n",
    "\n",
    "    rest_reduced  = '+'.join(var_reduced)\n",
    "    reduced_model = smf.glm(formula='inflation ~ {}'.format(rest_reduced), data=df).fit()\n",
    "    return reduced_model"
   ]
  },
  {
   "cell_type": "markdown",
   "id": "d4734361-d594-4076-8eae-2834f3dd53b4",
   "metadata": {},
   "source": [
    "# Forward stepwise feature selection algorithm"
   ]
  },
  {
   "cell_type": "code",
   "execution_count": null,
   "id": "9a95a4d5-e408-4a78-888c-c2dbcf4cb32c",
   "metadata": {},
   "outputs": [],
   "source": [
    "def forward_selected(data, response, Kmax):\n",
    "    \"\"\"\n",
    "    Linear model designed by forward selection.\n",
    "\n",
    "    Parameters:\n",
    "    -----------\n",
    "    data : pandas DataFrame with all possible predictors and response\n",
    "    response: string, name of response column in data\n",
    "    Kmax : max number of selected variables\n",
    "\n",
    "    Returns:\n",
    "    --------\n",
    "    model: an \"optimal\" fitted linear model,\n",
    "           selected by forward stepwise algorithm, \n",
    "           evaluated by AIC\n",
    "    \"\"\"\n",
    "    K = 0\n",
    "    remaining = set(data.columns)\n",
    "    remaining.remove(response)\n",
    "    selected = []\n",
    "    current_score, best_new_score = np.inf, np.inf\n",
    "    while remaining and current_score == best_new_score and K <= Kmax:\n",
    "        scores_with_candidates = []\n",
    "        \n",
    "        for candidate in remaining:\n",
    "            formula = \"{} ~ {} + 1\".format(response,\n",
    "                                           ' + '.join(selected + [candidate]))\n",
    "            score = smf.glm(formula, data).fit().aic\n",
    "            scores_with_candidates.append((score, candidate))\n",
    "        scores_with_candidates.sort(reverse = True)\n",
    "        best_new_score, best_candidate = scores_with_candidates.pop()\n",
    "\n",
    "        \n",
    "        if current_score > best_new_score:\n",
    "            remaining.remove(best_candidate)\n",
    "            selected.append(best_candidate)\n",
    "            current_score = best_new_score\n",
    "            K = len(selected)\n",
    "            print('Add  {:30} with AIC {:.6}'.format(best_candidate, best_new_score))\n",
    "\n",
    "            \n",
    "    formula = \"{} ~ {} + 1\".format(response,\n",
    "                                   ' + '.join(selected))\n",
    "    print('Algorithm Finished.')\n",
    "    model = smf.glm(formula, data).fit()\n",
    "    return model"
   ]
  },
  {
   "cell_type": "code",
   "execution_count": null,
   "id": "aafb74bd-c39a-4513-8233-33b8a9bc93fe",
   "metadata": {},
   "outputs": [],
   "source": [
    "import time\n",
    "\n",
    "start_time = time.time()\n",
    "\n",
    "forward = forward_selected(df, response='inflation', Kmax = 100)\n",
    "\n",
    "time = time.time() - start_time\n",
    "print(time)"
   ]
  },
  {
   "cell_type": "code",
   "execution_count": null,
   "id": "5a157e8e-6a11-4718-af9c-1620ce4a7665",
   "metadata": {},
   "outputs": [],
   "source": [
    "print(forward.summary())"
   ]
  },
  {
   "cell_type": "code",
   "execution_count": null,
   "id": "beedad2b-c3c3-488f-a665-44cb3dcd8a24",
   "metadata": {},
   "outputs": [],
   "source": [
    "# number of variables selected\n",
    "N_forward = len(forward.params)-1\n",
    "N_forward"
   ]
  },
  {
   "cell_type": "code",
   "execution_count": null,
   "id": "00c471ae-6faa-40b8-a9c6-803415d37e93",
   "metadata": {},
   "outputs": [],
   "source": [
    "# Estimation and Goodness of Fit\n",
    "\n",
    "formward_R2 = 1-forward.deviance/forward.null_deviance\n",
    "formward_AIC = forward.aic\n",
    "formward_BIC = forward.bic\n",
    "\n",
    "print(\"stepwise formward model R2:\",round(formward_R2,2))\n",
    "print(\"stepwise formward model AIC:\", round(formward_AIC,2))\n",
    "print(\"stepwise formward model BIC:\", round(formward_BIC,2))"
   ]
  },
  {
   "cell_type": "code",
   "execution_count": null,
   "id": "302cbea0-b084-4334-a5ef-67a3140f3e44",
   "metadata": {},
   "outputs": [],
   "source": [
    "Nvars = [N_full,N_SIS,N_forward]\n",
    "R2 = [full_R2,SIS_R2,formward_R2]\n",
    "AIC = [full_AIC,SIS_AIC,formward_AIC]\n",
    "BIC = [full_BIC,SIS_BIC,formward_BIC]\n",
    "\n",
    "df1 = pd.DataFrame(data = [Nvars, R2, AIC,BIC], columns= [\"full\", \"screening\", \"forward\"]).round(2)\n",
    "df1.index = ['#variables', 'R2', 'AIC', 'BIC']\n",
    "df1"
   ]
  },
  {
   "cell_type": "markdown",
   "id": "9bfbb367-c0e3-481d-8944-e8fce80e242a",
   "metadata": {},
   "source": [
    "# Model selection based on Lasso"
   ]
  },
  {
   "cell_type": "code",
   "execution_count": null,
   "id": "143222de-2ed0-4c7e-97e3-4bcda988b320",
   "metadata": {},
   "outputs": [],
   "source": [
    "# standardize\n",
    "X = df.iloc[:,1:]\n",
    "y = df[['inflation']]\n",
    "Xscaler = StandardScaler().fit(X) \n",
    "yscaler = StandardScaler().fit(y) \n",
    "\n",
    "\n",
    "X_scaled = Xscaler.transform(X)\n",
    "y_scaled = yscaler.transform(y)\n"
   ]
  },
  {
   "cell_type": "code",
   "execution_count": null,
   "id": "9bfbad0e-f1ca-4735-bdbd-c2bd3e5946f4",
   "metadata": {},
   "outputs": [],
   "source": [
    "\n",
    "alphas = np.linspace(1e-4,1e+1,1000)\n",
    "lasso = Lasso(max_iter=10000)\n",
    "coefs = []\n",
    "\n",
    "for a in alphas:\n",
    "    lasso.set_params(alpha=a)\n",
    "    lasso.fit(X_scaled, y_scaled)\n",
    "    coefs.append(lasso.coef_)\n",
    "\n",
    "plt.figure(figsize = (12,8))\n",
    "ax = plt.gca()\n",
    "\n",
    "ax.plot(alphas, coefs)\n",
    "ax.set_xscale('log')\n",
    "plt.axis('tight')\n",
    "plt.xlabel('alpha')\n",
    "plt.ylabel('Standardized Coefficients')\n",
    "plt.title('Lasso coefficients as a function of alpha');\n",
    "#plt.savefig('lasso_path.pdf')"
   ]
  },
  {
   "cell_type": "code",
   "execution_count": null,
   "id": "786e1ae0-3a77-46dd-846f-b1bd1a536364",
   "metadata": {},
   "outputs": [],
   "source": [
    "plt.savefig('lasso_path.pdf')"
   ]
  },
  {
   "cell_type": "markdown",
   "id": "96e08f48-9fe8-4f64-b4e5-d5c211502f10",
   "metadata": {},
   "source": [
    "## Lasso model selection based on deviance"
   ]
  },
  {
   "cell_type": "code",
   "execution_count": null,
   "id": "3ce6605c-4bd1-4f2b-af95-30acca4330cd",
   "metadata": {},
   "outputs": [],
   "source": [
    "model = LassoCV(cv=5, random_state = 0, max_iter=10000)\n",
    "model.fit(X_scaled, y_scaled)\n",
    "\n",
    "# Show best value of penalization chosen by CV\n",
    "alpha_ = model.alpha_\n",
    "print(alpha_)\n",
    "\n",
    "# refit\n",
    "model1 = lasso.set_params(alpha=alpha_).fit(X_scaled, y_scaled)"
   ]
  },
  {
   "cell_type": "code",
   "execution_count": null,
   "id": "145365fc-77d9-49d3-8355-72dc211706c4",
   "metadata": {},
   "outputs": [],
   "source": [
    "# number of variables selected\n",
    "N_LassoCV = (model1.coef_!=0).sum()\n",
    "N_LassoCV"
   ]
  },
  {
   "cell_type": "code",
   "execution_count": null,
   "id": "1ac1dfb7-9cec-4410-a25e-88c5e904ac59",
   "metadata": {},
   "outputs": [],
   "source": [
    "# selected variables\n",
    "list(X.columns[model1.coef_!=0])"
   ]
  },
  {
   "cell_type": "code",
   "execution_count": null,
   "id": "89698313-6163-4423-a9b0-35e10a348b00",
   "metadata": {},
   "outputs": [],
   "source": [
    "# Estimation and Goodness of Fit\n",
    "LassoCV_pred = yscaler.inverse_transform(model1.predict(X_scaled))\n"
   ]
  },
  {
   "cell_type": "code",
   "execution_count": null,
   "id": "e25926e5-4109-4347-963f-2aaf5910cb81",
   "metadata": {},
   "outputs": [],
   "source": [
    "y"
   ]
  },
  {
   "cell_type": "code",
   "execution_count": null,
   "id": "515daf13-84bf-4775-80cd-34c9c886e098",
   "metadata": {},
   "outputs": [],
   "source": [
    "plt.plot(LassoCV_pred,y,'r*')"
   ]
  },
  {
   "cell_type": "code",
   "execution_count": null,
   "id": "3205241c-e305-4e5e-8ad1-6b7485ca5b5e",
   "metadata": {},
   "outputs": [],
   "source": [
    "y.inflation"
   ]
  },
  {
   "cell_type": "code",
   "execution_count": null,
   "id": "079aae5a-f971-4142-b6f6-4b846a8bc699",
   "metadata": {},
   "outputs": [],
   "source": [
    "dev0 = deviance(y.inflation,y.inflation.mean(), family = 'gaussian')\n",
    "dev = deviance(y.inflation, LassoCV_pred, family = 'gaussian')\n",
    "LassoCV_R2 = 1-dev/dev0\n",
    "print(\"LassoCV R2:\",round(LassoCV_R2,2))"
   ]
  },
  {
   "cell_type": "code",
   "execution_count": null,
   "id": "a9eb5c1f-d6f2-45c5-aa2b-cad82c316dec",
   "metadata": {},
   "outputs": [],
   "source": []
  },
  {
   "cell_type": "markdown",
   "id": "ae956172-33a2-4171-87b7-b591ddf4ed68",
   "metadata": {},
   "source": [
    "## Lasso model selection based on AIC"
   ]
  },
  {
   "cell_type": "code",
   "execution_count": null,
   "id": "bc0fa6b3-a484-4d57-a3e3-63775dea847c",
   "metadata": {},
   "outputs": [],
   "source": [
    "model_aic = LassoLarsIC(criterion='aic')\n",
    "model_aic.fit(X_scaled, y_scaled)\n",
    "\n",
    "# Show best value of penalization chosen by AIC\n",
    "alpha_aic_ = model_aic.alpha_\n",
    "print(alpha_aic_)\n",
    "\n",
    "# refit\n",
    "model_aic1 = lasso.set_params(alpha=alpha_aic_).fit(X_scaled, y_scaled)"
   ]
  },
  {
   "cell_type": "code",
   "execution_count": null,
   "id": "bfed3cb7-1c27-4136-9b52-a87ea17d19a7",
   "metadata": {},
   "outputs": [],
   "source": [
    "# number of variables selected\n",
    "\n",
    "N_LassoAIC = (model_aic1.coef_!=0).sum()\n",
    "N_LassoAIC"
   ]
  },
  {
   "cell_type": "code",
   "execution_count": null,
   "id": "b945b896-a2a1-4b27-b4d0-0222e3f8a1a6",
   "metadata": {},
   "outputs": [],
   "source": [
    "# selected variables\n",
    "\n",
    "list(X.columns[model_aic1.coef_!=0])"
   ]
  },
  {
   "cell_type": "code",
   "execution_count": null,
   "id": "dd61cabb-ea55-4776-92d3-fad4e247d93b",
   "metadata": {},
   "outputs": [],
   "source": [
    "# Estimation and Goodness of Fit\n",
    "\n",
    "LassoAIC_pred = yscaler.inverse_transform(model_aic1.predict(X_scaled))\n",
    "\n",
    "dev0 = deviance(y.inflation,y.inflation.mean(), family = 'gaussian')\n",
    "dev = deviance(y.inflation, LassoAIC_pred, family = 'gaussian')\n",
    "LassoAIC_R2 = 1-dev/dev0\n",
    "\n",
    "print(\"LassoAIC R2:\",round(LassoAIC_R2,2))"
   ]
  },
  {
   "cell_type": "markdown",
   "id": "f8038d2f-fa10-4912-a50b-ca1d86ea441c",
   "metadata": {},
   "source": [
    "## Lasso model selection based on BIC"
   ]
  },
  {
   "cell_type": "code",
   "execution_count": null,
   "id": "9c9310d0-8d05-4853-a0d4-2d24bdecc1bb",
   "metadata": {},
   "outputs": [],
   "source": [
    "model_bic = LassoLarsIC(criterion='bic')\n",
    "model_bic.fit(X_scaled, y_scaled)\n",
    "\n",
    "# Show best value of penalization chosen by BIC\n",
    "alpha_bic_ = model_bic.alpha_\n",
    "print(alpha_bic_)\n",
    "\n",
    "# refit\n",
    "model_bic1 = lasso.set_params(alpha=alpha_bic_).fit(X_scaled, y_scaled)"
   ]
  },
  {
   "cell_type": "code",
   "execution_count": null,
   "id": "3a291f64-55d9-46cc-aae7-453069272246",
   "metadata": {},
   "outputs": [],
   "source": [
    "# number of variables selected\n",
    "\n",
    "N_LassoBIC = (model_bic1.coef_!=0).sum()\n",
    "N_LassoBIC"
   ]
  },
  {
   "cell_type": "code",
   "execution_count": null,
   "id": "3fee9339-5946-488e-9001-a49002a89092",
   "metadata": {},
   "outputs": [],
   "source": [
    "# selected variables\n",
    "\n",
    "list(X.columns[model_bic1.coef_!=0])"
   ]
  },
  {
   "cell_type": "code",
   "execution_count": null,
   "id": "2782596d-66b4-4e6b-b235-c5957fbccc41",
   "metadata": {},
   "outputs": [],
   "source": [
    "# Estimation and Goodness of Fit\n",
    "\n",
    "LassoBIC_pred = yscaler.inverse_transform(model_bic1.predict(X_scaled))\n",
    "\n",
    "dev0 = deviance(y.inflation,y.inflation.mean(), family = 'gaussian')\n",
    "dev = deviance(y.inflation, LassoBIC_pred, family = 'gaussian')\n",
    "LassoBIC_R2 = 1-dev/dev0\n",
    "\n",
    "print(\"LassoBIC R2:\",round(LassoBIC_R2,2))"
   ]
  },
  {
   "cell_type": "code",
   "execution_count": null,
   "id": "848ff757-de9e-4a88-a55c-bdf1d41c8ffa",
   "metadata": {},
   "outputs": [],
   "source": [
    "from matplotlib.ticker import ScalarFormatter\n",
    "def plot_ic_criterion(model, name, color):\n",
    "    criterion_ = model.criterion_\n",
    "    plt.semilogx(model.alphas_, criterion_, '--', color=color,\n",
    "                 linewidth=3, label='%s criterion' % name)\n",
    "    plt.axvline(model.alpha_, color=color, linewidth=3,\n",
    "                label='alpha: %s estimate' % name)\n",
    "    plt.xlabel(r'$\\alpha$')\n",
    "    plt.ylabel('criterion')\n",
    "\n",
    "plt.figure(figsize = (12,8))\n",
    "plot_ic_criterion(model_aic, 'AIC', 'b')\n",
    "plot_ic_criterion(model_bic, 'BIC', 'r')\n",
    "plt.legend()\n",
    "\n",
    "plt.title('Information-criterion for model selection')\n",
    "\n",
    "plt.savefig('lasso_aicbic.pdf')"
   ]
  },
  {
   "cell_type": "code",
   "execution_count": null,
   "id": "8355a808-fadd-46ce-ae74-fe70bfd53426",
   "metadata": {},
   "outputs": [],
   "source": [
    "from sklearn.model_selection import RepeatedKFold\n",
    "cva = RepeatedKFold(n_splits=5,n_repeats = 10, random_state=42)\n",
    "model = LassoCV(cv=cva,alphas = np.linspace(1e-4,1e+1,1000),random_state = 1000, max_iter=10000,selection='random')\n",
    "model.fit(X_scaled, y_scaled)\n",
    "\n",
    "alpha_ = model.alpha_\n",
    "\n",
    "alpha = list(model.alphas_).index(model.alpha_)\n",
    "\n",
    "mse_1se = np.std(model.mse_path_[alpha])/np.sqrt(len(model.mse_path_[alpha]))+np.mean(model.mse_path_[alpha])\n",
    "i = alpha\n",
    "for i in range(alpha,0,-1):\n",
    "    if np.mean(model.mse_path_[i-1]) > mse_1se:\n",
    "        break\n",
    "        \n",
    "plt.figure(figsize = (12,8))\n",
    "plt.semilogx(model.alphas_ , model.mse_path_.mean(axis=-1), 'k',\n",
    "         label='Average across the folds', linewidth=2)\n",
    "plt.axvline(model.alpha_, linestyle='--', color='b',\n",
    "            label='alpha: CV estimate')\n",
    "plt.axvline(model.alphas_[i], linestyle='--', color='r',\n",
    "            label='alpha: 1se rule')\n",
    "plt.legend()\n",
    "\n",
    " \n",
    "\n",
    "plt.xlabel(r'$\\alpha$')\n",
    "plt.ylabel('mean squared error')"
   ]
  },
  {
   "cell_type": "code",
   "execution_count": null,
   "id": "1aa645ff-553b-4df3-9190-d47177b4c32f",
   "metadata": {},
   "outputs": [],
   "source": [
    "plt.savefig('lasso_mse.pdf')"
   ]
  }
 ],
 "metadata": {
  "kernelspec": {
   "display_name": "Python 3",
   "language": "python",
   "name": "python3"
  },
  "language_info": {
   "codemirror_mode": {
    "name": "ipython",
    "version": 3
   },
   "file_extension": ".py",
   "mimetype": "text/x-python",
   "name": "python",
   "nbconvert_exporter": "python",
   "pygments_lexer": "ipython3",
   "version": "3.6.8"
  }
 },
 "nbformat": 4,
 "nbformat_minor": 5
}
