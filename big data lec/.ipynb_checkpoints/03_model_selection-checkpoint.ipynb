{
 "cells": [
  {
   "cell_type": "code",
   "execution_count": null,
   "metadata": {},
   "outputs": [],
   "source": [
    "import pandas as pd\n",
    "import statsmodels.formula.api as smf\n",
    "import statsmodels.api as sm\n",
    "import matplotlib.pyplot as plt\n",
    "import numpy as np\n",
    "import seaborn as sns\n",
    "import warnings\n",
    "\n",
    "from sklearn.model_selection import train_test_split\n",
    "from sklearn.linear_model import Lasso, LassoCV, LassoLarsIC\n",
    "from sklearn.preprocessing import StandardScaler\n",
    "\n",
    "warnings.filterwarnings('ignore')\n",
    "sns.set_theme(context='notebook', style='whitegrid', palette='deep', font='sans-serif', font_scale=2, color_codes=True,rc={'figure.figsize':(15,10)})"
   ]
  },
  {
   "cell_type": "code",
   "execution_count": null,
   "metadata": {},
   "outputs": [],
   "source": [
    "def deviance(y, pred, family):\n",
    "    if family == 'gaussian':\n",
    "        return np.sum((y - pred)**2)\n",
    "    if family == 'binomial':\n",
    "        return -2 * np.sum(y * np.log(pred) + (1-y) * np.log(1-pred))"
   ]
  },
  {
   "cell_type": "code",
   "execution_count": null,
   "metadata": {},
   "outputs": [],
   "source": [
    "_DATA_DIR = '/classes/2080001_spr2022/Data'"
   ]
  },
  {
   "cell_type": "code",
   "execution_count": null,
   "metadata": {},
   "outputs": [],
   "source": [
    "topic =  pd.read_csv('%s/Monthly_Topic_Attention_Theta.csv'%(_DATA_DIR))\n",
    "topic['date'] = pd.to_datetime(topic['date'])\n",
    "topic.set_index('date', inplace=True) \n",
    "\n",
    "macro = pd.read_csv('%s/FREDMD_20210218.csv'%(_DATA_DIR)).loc[:,['sasdate','CPIAUCSL']]\n",
    "macro['sasdate'] = pd.to_datetime(macro['sasdate'])\n",
    "macro.set_index('sasdate', inplace=True)\n",
    "macro = macro/macro.shift(1)-1\n",
    "macro.columns = ['inflation']\n",
    "\n",
    "df = macro.join(topic).dropna()\n",
    "df.columns = df.columns.str.replace(' ','_')\n",
    "df.columns = df.columns.str.replace('&','_')\n",
    "df.columns = df.columns.str.replace('/','_')\n",
    "df.columns = df.columns.str.replace('-','_')\n",
    "df = df.iloc[:,:-1]\n",
    "df.head()"
   ]
  },
  {
   "cell_type": "markdown",
   "metadata": {},
   "source": [
    "# Full model"
   ]
  },
  {
   "cell_type": "code",
   "execution_count": null,
   "metadata": {
    "scrolled": true
   },
   "outputs": [],
   "source": [
    "# Full model\n",
    "rest_full = df.columns[1:].tolist()\n",
    "rest_full = '+'.join(rest_full)\n",
    "\n",
    "full_model = smf.glm(formula='inflation ~ {}'.format(rest_full), data = df).fit()\n",
    "\n",
    "print(full_model.summary())"
   ]
  },
  {
   "cell_type": "code",
   "execution_count": null,
   "metadata": {},
   "outputs": [],
   "source": [
    "# number of variables selected\n",
    "N_full = len(df.columns[1:])\n",
    "N_full"
   ]
  },
  {
   "cell_type": "code",
   "execution_count": null,
   "metadata": {},
   "outputs": [],
   "source": [
    "# Estimation and Goodness of Fit\n",
    "\n",
    "full_R2 = 1-full_model.deviance/full_model.null_deviance\n",
    "full_AIC = full_model.aic\n",
    "full_BIC = full_model.bic\n",
    "\n",
    "print(\"full model R2:\",round(full_R2,2))\n",
    "print(\"full model AIC:\", round(full_AIC,2))\n",
    "print(\"full model BIC:\", round(full_BIC,2))"
   ]
  },
  {
   "cell_type": "markdown",
   "metadata": {},
   "source": [
    "# Screening"
   ]
  },
  {
   "cell_type": "code",
   "execution_count": null,
   "metadata": {},
   "outputs": [],
   "source": [
    "n = df.shape[0]\n",
    "\n",
    "# standardize\n",
    "scaler = StandardScaler().fit(df) \n",
    "df_scaled = scaler.transform(df)\n",
    "df_scaled = pd.DataFrame(df_scaled)"
   ]
  },
  {
   "cell_type": "code",
   "execution_count": null,
   "metadata": {},
   "outputs": [],
   "source": [
    "# compute correlation\n",
    "cor = df_scaled.corr()[0][1:]"
   ]
  },
  {
   "cell_type": "code",
   "execution_count": null,
   "metadata": {},
   "outputs": [],
   "source": [
    "# Reducecd dimension\n",
    "d = (cor.abs()>0.1).sum()"
   ]
  },
  {
   "cell_type": "code",
   "execution_count": null,
   "metadata": {},
   "outputs": [],
   "source": [
    "# select variables with high correlation\n",
    "reduced = np.argsort(abs(cor))[df.shape[1]-d:]\n",
    "reduced = list(reduced)\n",
    "var_reduced = list(df.iloc[:,reduced].columns)"
   ]
  },
  {
   "cell_type": "code",
   "execution_count": null,
   "metadata": {},
   "outputs": [],
   "source": [
    "len(var_reduced) "
   ]
  },
  {
   "cell_type": "code",
   "execution_count": null,
   "metadata": {},
   "outputs": [],
   "source": [
    "cor = pd.DataFrame(np.transpose(np.array([df.columns[1:],cor])))\n",
    "cor.columns = ['variable','correlation']\n",
    "cor = cor.sort_values(['correlation'], ascending=False).reset_index(drop=True)\n",
    "cor"
   ]
  },
  {
   "cell_type": "code",
   "execution_count": null,
   "metadata": {},
   "outputs": [],
   "source": [
    "sns.histplot(cor.correlation,bins=30)\n",
    "#plt.savefig('correlation_histogram.pdf')"
   ]
  },
  {
   "cell_type": "code",
   "execution_count": null,
   "metadata": {},
   "outputs": [],
   "source": [
    "cor = cor.sort_values(['correlation'], ascending=False).reset_index(drop=True)\n",
    "corr = cor.iloc[np.r_[0:20, -20:0]] # show first and last rows\n",
    "plt.figure(figsize = (16,12))\n",
    "sns.barplot(\n",
    "    x=\"correlation\", \n",
    "    y=\"variable\", \n",
    "    data=corr, \n",
    "    estimator=sum\n",
    ");\n",
    "plt.title('correlation of inflation')\n",
    "plt.savefig('correlation_bar.pdf')"
   ]
  },
  {
   "cell_type": "code",
   "execution_count": null,
   "metadata": {},
   "outputs": [],
   "source": [
    "# number of variables selected\n",
    "N_SIS = len(var_reduced)\n",
    "N_SIS"
   ]
  },
  {
   "cell_type": "code",
   "execution_count": null,
   "metadata": {},
   "outputs": [],
   "source": [
    "# selected variables\n",
    "\n",
    "var_reduced"
   ]
  },
  {
   "cell_type": "code",
   "execution_count": null,
   "metadata": {
    "scrolled": true
   },
   "outputs": [],
   "source": [
    "rest_reduced  = '+'.join(var_reduced)\n",
    "\n",
    "reduced_model = smf.glm(formula='inflation ~ {}'.format(rest_reduced), data=df).fit()\n",
    "\n",
    "print(reduced_model.summary())"
   ]
  },
  {
   "cell_type": "code",
   "execution_count": null,
   "metadata": {},
   "outputs": [],
   "source": [
    "# Estimation and Goodness of Fit\n",
    "\n",
    "SIS_R2 = 1-reduced_model.deviance/reduced_model.null_deviance\n",
    "SIS_AIC = reduced_model.aic\n",
    "SIS_BIC = reduced_model.bic\n",
    "\n",
    "print(\"SIS model R2:\",round(SIS_R2,2))\n",
    "print(\"SIS model AIC:\", round(SIS_AIC,2))\n",
    "print(\"SIS model BIC:\", round(SIS_BIC,2))"
   ]
  },
  {
   "cell_type": "code",
   "execution_count": null,
   "metadata": {},
   "outputs": [],
   "source": [
    "def SIS(data, thrd):\n",
    "    \"\"\"\n",
    "    Linear model designed by screening.\n",
    "\n",
    "    Parameters:\n",
    "    -----------\n",
    "    data : pandas DataFrame with all possible predictors and response\n",
    "\n",
    "    Returns:\n",
    "    --------\n",
    "    model: an \"optimal\" fitted linear model,\n",
    "           selected by sure independence screening \n",
    "    \"\"\"\n",
    "    \n",
    "    n = df.shape[0]\n",
    "    d = (cor.abs()>thrd).sum()\n",
    "    scaler = StandardScaler().fit(df) \n",
    "    df_scaled = scaler.transform(df)\n",
    "    df_scaled = pd.DataFrame(df_scaled)\n",
    "\n",
    "    cor = df_scaled.corr()[0][1:]\n",
    "    reduced = np.argsort(abs(cor))[df.shape[1]-d:]\n",
    "    reduced = list(reduced)\n",
    "    var_reduced = list(df.iloc[:,reduced].columns)\n",
    "\n",
    "    rest_reduced  = '+'.join(var_reduced)\n",
    "    reduced_model = smf.glm(formula='inflation ~ {}'.format(rest_reduced), data=df).fit()\n",
    "    return reduced_model"
   ]
  },
  {
   "cell_type": "markdown",
   "metadata": {},
   "source": [
    "# Forward stepwise feature selection algorithm"
   ]
  },
  {
   "cell_type": "code",
   "execution_count": null,
   "metadata": {},
   "outputs": [],
   "source": [
    "def forward_selected(data, response, Kmax):\n",
    "    \"\"\"\n",
    "    Linear model designed by forward selection.\n",
    "\n",
    "    Parameters:\n",
    "    -----------\n",
    "    data : pandas DataFrame with all possible predictors and response\n",
    "    response: string, name of response column in data\n",
    "    Kmax : max number of selected variables\n",
    "\n",
    "    Returns:\n",
    "    --------\n",
    "    model: an \"optimal\" fitted linear model,\n",
    "           selected by forward stepwise algorithm, \n",
    "           evaluated by AIC\n",
    "    \"\"\"\n",
    "    K = 0\n",
    "    remaining = set(data.columns)\n",
    "    remaining.remove(response)\n",
    "    selected = []\n",
    "    current_score, best_new_score = np.inf, np.inf\n",
    "    while remaining and current_score == best_new_score and K <= Kmax:\n",
    "        scores_with_candidates = []\n",
    "        \n",
    "        for candidate in remaining:\n",
    "            formula = \"{} ~ {} + 1\".format(response,\n",
    "                                           ' + '.join(selected + [candidate]))\n",
    "            score = smf.glm(formula, data).fit().aic\n",
    "            scores_with_candidates.append((score, candidate))\n",
    "        scores_with_candidates.sort(reverse = True)\n",
    "        best_new_score, best_candidate = scores_with_candidates.pop()\n",
    "\n",
    "        \n",
    "        if current_score > best_new_score:\n",
    "            remaining.remove(best_candidate)\n",
    "            selected.append(best_candidate)\n",
    "            current_score = best_new_score\n",
    "            K = len(selected)\n",
    "            print('Add  {:30} with AIC {:.6}'.format(best_candidate, best_new_score))\n",
    "\n",
    "            \n",
    "    formula = \"{} ~ {} + 1\".format(response,\n",
    "                                   ' + '.join(selected))\n",
    "    print('Algorithm Finished.')\n",
    "    model = smf.glm(formula, data).fit()\n",
    "    return model"
   ]
  },
  {
   "cell_type": "code",
   "execution_count": null,
   "metadata": {},
   "outputs": [],
   "source": [
    "import time\n",
    "\n",
    "start_time = time.time()\n",
    "\n",
    "forward = forward_selected(df, response='inflation', Kmax = 100)\n",
    "\n",
    "time = time.time() - start_time\n",
    "print(time)"
   ]
  },
  {
   "cell_type": "code",
   "execution_count": null,
   "metadata": {},
   "outputs": [],
   "source": [
    "print(forward.summary())"
   ]
  },
  {
   "cell_type": "code",
   "execution_count": null,
   "metadata": {},
   "outputs": [],
   "source": [
    "# number of variables selected\n",
    "N_forward = len(forward.params)-1\n",
    "N_forward"
   ]
  },
  {
   "cell_type": "code",
   "execution_count": null,
   "metadata": {},
   "outputs": [],
   "source": [
    "# Estimation and Goodness of Fit\n",
    "\n",
    "formward_R2 = 1-forward.deviance/forward.null_deviance\n",
    "formward_AIC = forward.aic\n",
    "formward_BIC = forward.bic\n",
    "\n",
    "print(\"stepwise formward model R2:\",round(formward_R2,2))\n",
    "print(\"stepwise formward model AIC:\", round(formward_AIC,2))\n",
    "print(\"stepwise formward model BIC:\", round(formward_BIC,2))"
   ]
  },
  {
   "cell_type": "code",
   "execution_count": null,
   "metadata": {},
   "outputs": [],
   "source": [
    "Nvars = [N_full,N_SIS,N_forward]\n",
    "R2 = [full_R2,SIS_R2,formward_R2]\n",
    "AIC = [full_AIC,SIS_AIC,formward_AIC]\n",
    "BIC = [full_BIC,SIS_BIC,formward_BIC]\n",
    "\n",
    "df1 = pd.DataFrame(data = [Nvars, R2, AIC,BIC], columns= [\"full\", \"screening\", \"forward\"]).round(2)\n",
    "df1.index = ['#variables', 'R2', 'AIC', 'BIC']\n",
    "df1"
   ]
  },
  {
   "cell_type": "markdown",
   "metadata": {},
   "source": [
    "# Model selection based on Lasso"
   ]
  },
  {
   "cell_type": "code",
   "execution_count": null,
   "metadata": {},
   "outputs": [],
   "source": [
    "# standardize\n",
    "X = df.iloc[:,1:]\n",
    "y = df[['inflation']]\n",
    "Xscaler = StandardScaler().fit(X) \n",
    "yscaler = StandardScaler().fit(y) \n",
    "\n",
    "\n",
    "X_scaled = Xscaler.transform(X)\n",
    "y_scaled = yscaler.transform(y)\n"
   ]
  },
  {
   "cell_type": "code",
   "execution_count": null,
   "metadata": {},
   "outputs": [],
   "source": [
    "\n",
    "alphas = np.linspace(1e-4,1e+1,1000)\n",
    "lasso = Lasso(max_iter=10000)\n",
    "coefs = []\n",
    "\n",
    "for a in alphas:\n",
    "    lasso.set_params(alpha=a)\n",
    "    lasso.fit(X_scaled, y_scaled)\n",
    "    coefs.append(lasso.coef_)\n",
    "\n",
    "plt.figure(figsize = (12,8))\n",
    "ax = plt.gca()\n",
    "\n",
    "ax.plot(alphas, coefs)\n",
    "ax.set_xscale('log')\n",
    "plt.axis('tight')\n",
    "plt.xlabel('alpha')\n",
    "plt.ylabel('Standardized Coefficients')\n",
    "plt.title('Lasso coefficients as a function of alpha');\n",
    "#plt.savefig('lasso_path.pdf')"
   ]
  },
  {
   "cell_type": "code",
   "execution_count": null,
   "metadata": {},
   "outputs": [],
   "source": [
    "plt.savefig('lasso_path.pdf')"
   ]
  },
  {
   "cell_type": "markdown",
   "metadata": {},
   "source": [
    "## Lasso model selection based on deviance"
   ]
  },
  {
   "cell_type": "code",
   "execution_count": null,
   "metadata": {},
   "outputs": [],
   "source": [
    "model = LassoCV(cv=5, random_state = 0, max_iter=10000)\n",
    "model.fit(X_scaled, y_scaled)\n",
    "\n",
    "# Show best value of penalization chosen by CV\n",
    "alpha_ = model.alpha_\n",
    "print(alpha_)\n",
    "\n",
    "# refit\n",
    "model1 = lasso.set_params(alpha=alpha_).fit(X_scaled, y_scaled)"
   ]
  },
  {
   "cell_type": "code",
   "execution_count": null,
   "metadata": {},
   "outputs": [],
   "source": [
    "# number of variables selected\n",
    "N_LassoCV = (model1.coef_!=0).sum()\n",
    "N_LassoCV"
   ]
  },
  {
   "cell_type": "code",
   "execution_count": null,
   "metadata": {},
   "outputs": [],
   "source": [
    "# selected variables\n",
    "list(X.columns[model1.coef_!=0])"
   ]
  },
  {
   "cell_type": "code",
   "execution_count": null,
   "metadata": {},
   "outputs": [],
   "source": [
    "# Estimation and Goodness of Fit\n",
    "LassoCV_pred = yscaler.inverse_transform(model1.predict(X_scaled))\n"
   ]
  },
  {
   "cell_type": "code",
   "execution_count": null,
   "metadata": {},
   "outputs": [],
   "source": [
    "y"
   ]
  },
  {
   "cell_type": "code",
   "execution_count": null,
   "metadata": {},
   "outputs": [],
   "source": [
    "plt.plot(LassoCV_pred,y,'r*')"
   ]
  },
  {
   "cell_type": "code",
   "execution_count": null,
   "metadata": {},
   "outputs": [],
   "source": [
    "y.inflation"
   ]
  },
  {
   "cell_type": "code",
   "execution_count": null,
   "metadata": {},
   "outputs": [],
   "source": [
    "dev0 = deviance(y.inflation,y.inflation.mean(), family = 'gaussian')\n",
    "dev = deviance(y.inflation, LassoCV_pred, family = 'gaussian')\n",
    "LassoCV_R2 = 1-dev/dev0\n",
    "print(\"LassoCV R2:\",round(LassoCV_R2,2))"
   ]
  },
  {
   "cell_type": "code",
   "execution_count": null,
   "metadata": {},
   "outputs": [],
   "source": []
  },
  {
   "cell_type": "markdown",
   "metadata": {},
   "source": [
    "## Lasso model selection based on AIC"
   ]
  },
  {
   "cell_type": "code",
   "execution_count": null,
   "metadata": {},
   "outputs": [],
   "source": [
    "model_aic = LassoLarsIC(criterion='aic')\n",
    "model_aic.fit(X_scaled, y_scaled)\n",
    "\n",
    "# Show best value of penalization chosen by AIC\n",
    "alpha_aic_ = model_aic.alpha_\n",
    "print(alpha_aic_)\n",
    "\n",
    "# refit\n",
    "model_aic1 = lasso.set_params(alpha=alpha_aic_).fit(X_scaled, y_scaled)"
   ]
  },
  {
   "cell_type": "code",
   "execution_count": null,
   "metadata": {},
   "outputs": [],
   "source": [
    "# number of variables selected\n",
    "\n",
    "N_LassoAIC = (model_aic1.coef_!=0).sum()\n",
    "N_LassoAIC"
   ]
  },
  {
   "cell_type": "code",
   "execution_count": null,
   "metadata": {},
   "outputs": [],
   "source": [
    "# selected variables\n",
    "\n",
    "list(X.columns[model_aic1.coef_!=0])"
   ]
  },
  {
   "cell_type": "code",
   "execution_count": null,
   "metadata": {},
   "outputs": [],
   "source": [
    "# Estimation and Goodness of Fit\n",
    "\n",
    "LassoAIC_pred = yscaler.inverse_transform(model_aic1.predict(X_scaled))\n",
    "\n",
    "dev0 = deviance(y.inflation,y.inflation.mean(), family = 'gaussian')\n",
    "dev = deviance(y.inflation, LassoAIC_pred, family = 'gaussian')\n",
    "LassoAIC_R2 = 1-dev/dev0\n",
    "\n",
    "print(\"LassoAIC R2:\",round(LassoAIC_R2,2))"
   ]
  },
  {
   "cell_type": "markdown",
   "metadata": {},
   "source": [
    "## Lasso model selection based on BIC"
   ]
  },
  {
   "cell_type": "code",
   "execution_count": null,
   "metadata": {},
   "outputs": [],
   "source": [
    "model_bic = LassoLarsIC(criterion='bic')\n",
    "model_bic.fit(X_scaled, y_scaled)\n",
    "\n",
    "# Show best value of penalization chosen by BIC\n",
    "alpha_bic_ = model_bic.alpha_\n",
    "print(alpha_bic_)\n",
    "\n",
    "# refit\n",
    "model_bic1 = lasso.set_params(alpha=alpha_bic_).fit(X_scaled, y_scaled)"
   ]
  },
  {
   "cell_type": "code",
   "execution_count": null,
   "metadata": {},
   "outputs": [],
   "source": [
    "# number of variables selected\n",
    "\n",
    "N_LassoBIC = (model_bic1.coef_!=0).sum()\n",
    "N_LassoBIC"
   ]
  },
  {
   "cell_type": "code",
   "execution_count": null,
   "metadata": {},
   "outputs": [],
   "source": [
    "# selected variables\n",
    "\n",
    "list(X.columns[model_bic1.coef_!=0])"
   ]
  },
  {
   "cell_type": "code",
   "execution_count": null,
   "metadata": {},
   "outputs": [],
   "source": [
    "# Estimation and Goodness of Fit\n",
    "\n",
    "LassoBIC_pred = yscaler.inverse_transform(model_bic1.predict(X_scaled))\n",
    "\n",
    "dev0 = deviance(y.inflation,y.inflation.mean(), family = 'gaussian')\n",
    "dev = deviance(y.inflation, LassoBIC_pred, family = 'gaussian')\n",
    "LassoBIC_R2 = 1-dev/dev0\n",
    "\n",
    "print(\"LassoBIC R2:\",round(LassoBIC_R2,2))"
   ]
  },
  {
   "cell_type": "code",
   "execution_count": null,
   "metadata": {},
   "outputs": [],
   "source": [
    "from matplotlib.ticker import ScalarFormatter\n",
    "def plot_ic_criterion(model, name, color):\n",
    "    criterion_ = model.criterion_\n",
    "    plt.semilogx(model.alphas_, criterion_, '--', color=color,\n",
    "                 linewidth=3, label='%s criterion' % name)\n",
    "    plt.axvline(model.alpha_, color=color, linewidth=3,\n",
    "                label='alpha: %s estimate' % name)\n",
    "    plt.xlabel(r'$\\alpha$')\n",
    "    plt.ylabel('criterion')\n",
    "\n",
    "plt.figure(figsize = (12,8))\n",
    "plot_ic_criterion(model_aic, 'AIC', 'b')\n",
    "plot_ic_criterion(model_bic, 'BIC', 'r')\n",
    "plt.legend()\n",
    "\n",
    "plt.title('Information-criterion for model selection')\n",
    "\n",
    "plt.savefig('lasso_aicbic.pdf')"
   ]
  },
  {
   "cell_type": "code",
   "execution_count": null,
   "metadata": {},
   "outputs": [],
   "source": [
    "from sklearn.model_selection import RepeatedKFold\n",
    "cva = RepeatedKFold(n_splits=5,n_repeats = 10, random_state=42)\n",
    "model = LassoCV(cv=cva,alphas = np.linspace(1e-4,1e+1,1000),random_state = 1000, max_iter=10000,selection='random')\n",
    "model.fit(X_scaled, y_scaled)\n",
    "\n",
    "alpha_ = model.alpha_\n",
    "\n",
    "alpha = list(model.alphas_).index(model.alpha_)\n",
    "\n",
    "mse_1se = np.std(model.mse_path_[alpha])/np.sqrt(len(model.mse_path_[alpha]))+np.mean(model.mse_path_[alpha])\n",
    "i = alpha\n",
    "for i in range(alpha,0,-1):\n",
    "    if np.mean(model.mse_path_[i-1]) > mse_1se:\n",
    "        break\n",
    "        \n",
    "plt.figure(figsize = (12,8))\n",
    "plt.semilogx(model.alphas_ , model.mse_path_.mean(axis=-1), 'k',\n",
    "         label='Average across the folds', linewidth=2)\n",
    "plt.axvline(model.alpha_, linestyle='--', color='b',\n",
    "            label='alpha: CV estimate')\n",
    "plt.axvline(model.alphas_[i], linestyle='--', color='r',\n",
    "            label='alpha: 1se rule')\n",
    "plt.legend()\n",
    "\n",
    " \n",
    "\n",
    "plt.xlabel(r'$\\alpha$')\n",
    "plt.ylabel('mean squared error')"
   ]
  },
  {
   "cell_type": "code",
   "execution_count": null,
   "metadata": {},
   "outputs": [],
   "source": [
    "plt.savefig('lasso_mse.pdf')"
   ]
  }
 ],
 "metadata": {
  "kernelspec": {
   "display_name": "Python 3",
   "language": "python",
   "name": "python3"
  },
  "language_info": {
   "codemirror_mode": {
    "name": "ipython",
    "version": 3
   },
   "file_extension": ".py",
   "mimetype": "text/x-python",
   "name": "python",
   "nbconvert_exporter": "python",
   "pygments_lexer": "ipython3",
   "version": "3.6.8"
  }
 },
 "nbformat": 4,
 "nbformat_minor": 5
}
