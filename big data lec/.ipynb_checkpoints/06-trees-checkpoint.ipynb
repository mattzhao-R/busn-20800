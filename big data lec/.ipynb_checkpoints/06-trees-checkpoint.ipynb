{
 "cells": [
  {
   "cell_type": "code",
   "execution_count": null,
   "metadata": {},
   "outputs": [],
   "source": [
    "import numpy as np\n",
    "import pandas as pd\n",
    "import warnings\n",
    "warnings.filterwarnings('ignore')\n",
    "from collections import Counter\n",
    "from tqdm.notebook import tqdm\n",
    "\n",
    "import matplotlib.pyplot as plt\n",
    "plt.rc('font', size=14)\n",
    "import seaborn as sns\n",
    "sns.set(style='whitegrid', color_codes=True, rc={'figure.figsize':(11,8)}, font_scale=2)\n",
    "\n",
    "from sklearn import tree\n",
    "from sklearn.tree import plot_tree\n",
    "from sklearn.datasets import make_blobs\n",
    "from sklearn.metrics import roc_curve, auc, confusion_matrix"
   ]
  },
  {
   "cell_type": "code",
   "execution_count": null,
   "metadata": {},
   "outputs": [],
   "source": [
    "_DATA_DIR = '/classes/2080001_spr2022/Data/'"
   ]
  },
  {
   "cell_type": "markdown",
   "metadata": {},
   "source": [
    "# Toy example"
   ]
  },
  {
   "cell_type": "code",
   "execution_count": null,
   "metadata": {},
   "outputs": [],
   "source": [
    "from sklearn.tree import DecisionTreeClassifier\n",
    "from matplotlib import cm\n",
    "N = 500\n",
    "np.random.seed(0)\n",
    "Xg =  np.random.uniform(low=[0,0], high=[1,1], size=(N,2))\n",
    "y = np.zeros(N)\n",
    "for i in range(N):\n",
    "    if (Xg[i][0]<0.4 and Xg[i][1]>0.6) or (Xg[i][0]>0.6 and Xg[i][1]>0.1 and  Xg[i][1]<0.5):\n",
    "        y[i] = 1\n",
    "edgecolor=['black','red']\n",
    "plt.figure(figsize = (8,6))\n",
    "plt.xlim((0,1))\n",
    "plt.ylim((0,1))\n",
    "plt.xlabel(\"X1\")\n",
    "plt.ylabel(\"X2\")\n",
    "plt.plot(Xg[:,0],Xg[:,1],'o',markerfacecolor=\"none\", markeredgecolor='black',markersize=6)\n",
    "for i in range(2):\n",
    "        plt.plot(Xg[y==i,0],Xg[y==i,1],'o',markerfacecolor=\"none\", markeredgecolor=edgecolor[i],markersize=6)  "
   ]
  },
  {
   "cell_type": "code",
   "execution_count": null,
   "metadata": {},
   "outputs": [],
   "source": [
    "plt.figure(figsize = (8,6))\n",
    "plt.xlim((0,1))\n",
    "plt.ylim((0,1))\n",
    "plt.xlabel(\"X1\")\n",
    "plt.ylabel(\"X2\")\n",
    "plt.plot(Xg[:,0],Xg[:,1],'o',markerfacecolor=\"none\", markeredgecolor='black',markersize=6)\n",
    "for i in range(2):\n",
    "        plt.plot(Xg[y==i,0],Xg[y==i,1],'o',markerfacecolor=\"none\", markeredgecolor=edgecolor[i],markersize=6)  \n",
    "plt.axhline(y=0.1, color='k', linestyle='-', linewidth=2)  \n",
    "plt.axvline(x = 0.6,ymin=0.1, color='k', linestyle='-', linewidth=2) \n",
    "plt.axhline(y=0.5, xmin=0.6,color='k', linestyle='-', linewidth=2) \n",
    "plt.axhline(y=0.6, xmax=0.6,color='k', linestyle='-', linewidth=2) \n",
    "plt.axvline(x = 0.4,ymin=0.6, color='k', linestyle='-', linewidth=2) "
   ]
  },
  {
   "cell_type": "code",
   "execution_count": null,
   "metadata": {},
   "outputs": [],
   "source": [
    "clf = DecisionTreeClassifier().fit(Xg, y)\n",
    "plot_step = 0.001\n",
    "xx, yy = np.meshgrid(np.arange(0, 1, plot_step), np.arange(0, 1, plot_step))\n",
    "plt.tight_layout(h_pad=0.5, w_pad=0.5, pad=2.5)\n",
    "Z = clf.predict(np.c_[xx.ravel(), yy.ravel()])\n",
    "Z = Z.reshape(xx.shape)\n",
    "plt.figure(figsize = (8,6))\n",
    "plt.xlabel(\"X1\")\n",
    "plt.ylabel(\"X2\")\n",
    "plt.xlim((0,1))\n",
    "plt.ylim((0,1))\n",
    "cs = plt.contourf(xx, yy, Z,cmap=plt.cm.RdYlBu, alpha=0.1)\n",
    "plt.plot(Xg[:,0],Xg[:,1],'o',markerfacecolor=\"none\", markeredgecolor='black',markersize=6)\n",
    "for i in range(2):\n",
    "        plt.plot(Xg[y==i,0],Xg[y==i,1],'o',markerfacecolor=\"none\", markeredgecolor=edgecolor[i],markersize=6)  \n",
    "\n"
   ]
  },
  {
   "cell_type": "code",
   "execution_count": null,
   "metadata": {},
   "outputs": [],
   "source": [
    "print(tree.export_text(clf))"
   ]
  },
  {
   "cell_type": "code",
   "execution_count": null,
   "metadata": {},
   "outputs": [],
   "source": [
    "plot_tree(clf)"
   ]
  },
  {
   "cell_type": "markdown",
   "metadata": {},
   "source": [
    "# NBC"
   ]
  },
  {
   "cell_type": "code",
   "execution_count": null,
   "metadata": {},
   "outputs": [],
   "source": [
    "nbc = pd.read_csv(_DATA_DIR+'nbc_showdetails.csv')\n",
    "demos = pd.read_csv(_DATA_DIR+\"nbc_demographics.csv\")"
   ]
  },
  {
   "cell_type": "code",
   "execution_count": null,
   "metadata": {},
   "outputs": [],
   "source": [
    "X = demos.iloc[:,1:]\n",
    "y = nbc.Genre\n",
    "clf = tree.DecisionTreeClassifier(random_state = 0).fit(X, y)"
   ]
  },
  {
   "cell_type": "code",
   "execution_count": null,
   "metadata": {},
   "outputs": [],
   "source": [
    "print(tree.export_text(clf,feature_names=list(X.columns)))\n"
   ]
  },
  {
   "cell_type": "code",
   "execution_count": null,
   "metadata": {},
   "outputs": [],
   "source": [
    "# tree\n",
    "plt.figure(figsize = (16,8))\n",
    "plot_tree(clf, filled=True,feature_names=list(X.columns))\n",
    "plt.show()\n",
    "#plt.savefig('nbc.pdf')"
   ]
  },
  {
   "cell_type": "code",
   "execution_count": null,
   "metadata": {},
   "outputs": [],
   "source": [
    "X = pd.concat([nbc.GRP,pd.get_dummies(nbc.Genre)], axis=1)\n",
    "\n",
    "y = nbc.PE\n",
    "\n",
    "clf = tree.DecisionTreeRegressor(max_depth = 3).fit(X, y)\n",
    "\n",
    "plt.figure(figsize = (12,8))\n",
    "\n",
    "#text_representation = tree.export_text(clf,feature_names=list(X.columns))\n",
    "\n",
    "# tree\n",
    "plot_tree(clf, filled=True,feature_names=list(X.columns),fontsize =12)\n",
    "#plt.show()\n",
    "\n",
    "# prediction\n",
    "reality = pd.concat([X.GRP,pd.DataFrame(np.tile(np.array([0,0,1]), (len(nbc), 1)))], axis=1)\n",
    "pred = pd.DataFrame(clf.predict(reality))\n",
    "reality_pred = pd.concat([X.GRP,pred], axis=1).sort_values(['GRP'], ascending=True).reset_index(drop=True)\n",
    "reality_pred.columns = ['GRP','pred']\n",
    "\n",
    "comedy = pd.concat([X.GRP,pd.DataFrame(np.tile(np.array([0,1,0]), (len(nbc), 1)))], axis=1)\n",
    "pred = pd.DataFrame(clf.predict(comedy))\n",
    "comedy_pred = pd.concat([X.GRP,pred], axis=1).sort_values(['GRP'], ascending=True).reset_index(drop=True)\n",
    "comedy_pred.columns = ['GRP','pred']\n",
    "\n",
    "drama = pd.concat([X.GRP,pd.DataFrame(np.tile(np.array([1,0,0]), (len(nbc), 1)))], axis=1)\n",
    "pred = pd.DataFrame(clf.predict(drama))\n",
    "drama_pred = pd.concat([X.GRP,pred], axis=1).sort_values(['GRP'], ascending=True).reset_index(drop=True)\n",
    "drama_pred.columns = ['GRP','pred']\n",
    "\n",
    "\n",
    "plt.savefig('nbc_engagement_1.pdf')"
   ]
  },
  {
   "cell_type": "code",
   "execution_count": null,
   "metadata": {},
   "outputs": [],
   "source": [
    "plt.figure(figsize = (12,8))\n",
    "\n",
    "sns.scatterplot(x='GRP',y='PE',hue='Genre', data = nbc)\n",
    "plt.plot(reality_pred.GRP,reality_pred.pred , '-')\n",
    "plt.plot(comedy_pred.GRP,comedy_pred.pred , '-')\n",
    "plt.plot(drama_pred.GRP,drama_pred.pred , '-')\n",
    "plt.xlabel('GRP')\n",
    "plt.ylabel('PE')\n",
    "\n",
    "plt.savefig('nbc_engagement_2.pdf')\n",
    "\n",
    "plt.show()\n"
   ]
  },
  {
   "cell_type": "markdown",
   "metadata": {},
   "source": [
    "# Social Network Ads"
   ]
  },
  {
   "cell_type": "code",
   "execution_count": null,
   "metadata": {},
   "outputs": [],
   "source": [
    "AD = pd.read_csv(_DATA_DIR + 'Social_Network_Ads.csv')\n",
    "\n",
    "# Change predicted value into binary numerical value 0,1\n",
    "Gender_values = {'Male': 1, 'Female': 0}\n",
    "AD['Gender'] = AD.Gender.map(Gender_values)"
   ]
  },
  {
   "cell_type": "code",
   "execution_count": null,
   "metadata": {},
   "outputs": [],
   "source": [
    "X = AD[['Age','EstimatedSalary','Gender']]\n",
    "Y = AD.Purchased"
   ]
  },
  {
   "cell_type": "code",
   "execution_count": null,
   "metadata": {},
   "outputs": [],
   "source": [
    "clf = tree.DecisionTreeClassifier(random_state = 0).fit(X, Y)\n",
    "#text_representation = tree.export_text(clf,feature_names=list(X.columns))"
   ]
  },
  {
   "cell_type": "code",
   "execution_count": null,
   "metadata": {},
   "outputs": [],
   "source": [
    "plt.figure(figsize = (30,20))\n",
    "# tree\n",
    "plot_tree(clf, filled=True,feature_names=list(X.columns))\n",
    "\n",
    "plt.show()"
   ]
  },
  {
   "cell_type": "code",
   "execution_count": null,
   "metadata": {},
   "outputs": [],
   "source": [
    "clf = tree.DecisionTreeClassifier(random_state = 0,max_depth=2).fit(X, Y)\n",
    "text_representation = tree.export_text(clf,feature_names=list(X.columns))\n",
    "plt.figure(figsize = (16,8))\n",
    "# tree\n",
    "plot_tree(clf, filled=True,feature_names=list(X.columns))\n",
    "plt.show()"
   ]
  },
  {
   "cell_type": "code",
   "execution_count": null,
   "metadata": {},
   "outputs": [],
   "source": [
    "X = np.array(AD[['Age','EstimatedSalary']])\n",
    "y = np.array(AD.Purchased)\n",
    "plt.figure(figsize = (8,8))\n",
    "for class_value in range(2):\n",
    "    # get row indexes for samples with this class\n",
    "    row_ix = np.where(y == class_value)\n",
    "    # create scatter of these samples\n",
    "    plt.scatter(X[row_ix, 0], X[row_ix, 1])"
   ]
  },
  {
   "cell_type": "code",
   "execution_count": null,
   "metadata": {},
   "outputs": [],
   "source": [
    "clf = tree.DecisionTreeClassifier(random_state = 0,max_leaf_nodes=3).fit(X, y)\n",
    "# decision surfaces\n",
    "plt.figure(figsize = (8,8))\n",
    "plot_step = 1\n",
    "x_min, x_max = X[:, 0].min() - 1, X[:, 0].max() + 1\n",
    "y_min, y_max = X[:, 1].min() - 1, X[:, 1].max() + 1\n",
    "xx, yy = np.meshgrid(\n",
    "    np.arange(x_min, x_max,plot_step), np.arange(y_min, y_max,plot_step))\n",
    "plt.tight_layout(h_pad=0.5, w_pad=0.5, pad=2.5)\n",
    "\n",
    "Z = clf.predict(np.c_[xx.ravel(), yy.ravel()])\n",
    "Z = Z.reshape(xx.shape)\n",
    "cs = plt.contourf(xx, yy, Z, cmap=plt.cm.RdYlBu, alpha=0.1)\n",
    "\n",
    "for class_value in range(2):\n",
    "    # get row indexes for samples with this class\n",
    "    row_ix = np.where(y == class_value)\n",
    "    # create scatter of these samples\n",
    "    plt.scatter(X[row_ix, 0], X[row_ix, 1])\n",
    "\n",
    "plt.xlabel('age')\n",
    "plt.ylabel('estimated salary')\n",
    "plt.savefig('snads.pdf')"
   ]
  },
  {
   "cell_type": "markdown",
   "metadata": {},
   "source": [
    "### Minimal cost-complexity pruning"
   ]
  },
  {
   "cell_type": "code",
   "execution_count": null,
   "metadata": {},
   "outputs": [],
   "source": [
    "np.random.seed(0)\n",
    "from sklearn.model_selection import train_test_split\n",
    "X_train, X_test, y_train, y_test = train_test_split(X, y, random_state=0)"
   ]
  },
  {
   "cell_type": "code",
   "execution_count": null,
   "metadata": {},
   "outputs": [],
   "source": [
    "clf = tree.DecisionTreeClassifier(random_state=0)\n",
    "path = clf.cost_complexity_pruning_path(X_train, y_train)\n",
    "ccp_alphas, impurities = path.ccp_alphas, path.impurities"
   ]
  },
  {
   "cell_type": "code",
   "execution_count": null,
   "metadata": {},
   "outputs": [],
   "source": [
    "ccp_alphas"
   ]
  },
  {
   "cell_type": "code",
   "execution_count": null,
   "metadata": {},
   "outputs": [],
   "source": [
    "clfs = []\n",
    "for ccp_alpha in ccp_alphas:\n",
    "    clf = tree.DecisionTreeClassifier(random_state=0, ccp_alpha=ccp_alpha)\n",
    "    clf.fit(X_train, y_train)\n",
    "    clfs.append(clf)"
   ]
  },
  {
   "cell_type": "code",
   "execution_count": null,
   "metadata": {},
   "outputs": [],
   "source": [
    "node_counts = [clf.tree_.node_count for clf in clfs]\n",
    "depth = [clf.tree_.max_depth for clf in clfs]\n",
    "plt.figure(figsize = (15,6))\n",
    "plt.subplot(1,2,1)\n",
    "plt.plot(ccp_alphas, node_counts, marker=\"o\", drawstyle=\"steps-post\")\n",
    "plt.xlabel(\"alpha\")\n",
    "plt.ylabel(\"number of nodes\")\n",
    "plt.title(\"Number of nodes vs alpha\")\n",
    "plt.subplot(1,2,2)\n",
    "\n",
    "plt.plot(ccp_alphas, depth, marker=\"o\", drawstyle=\"steps-post\")\n",
    "plt.xlabel(\"alpha\")\n",
    "plt.ylabel(\"depth of tree\")\n",
    "plt.title(\"Depth vs alpha\")\n",
    "plt.savefig('in_accuracy.pdf')\n",
    "plt.show()\n",
    "#fig.tight_layout()"
   ]
  },
  {
   "cell_type": "code",
   "execution_count": null,
   "metadata": {},
   "outputs": [],
   "source": [
    "train_scores = [clf.score(X_train, y_train) for clf in clfs]\n",
    "test_scores = [clf.score(X_test, y_test) for clf in clfs]\n",
    "\n",
    "plt.figure(figsize = (8,6))\n",
    "plt.xlabel(\"alpha\")\n",
    "plt.ylabel(\"accuracy\")\n",
    "plt.title(\"Accuracy vs alpha for training and testing sets\")\n",
    "plt.plot(ccp_alphas, train_scores, marker=\"o\", label=\"train\", drawstyle=\"steps-post\")\n",
    "plt.plot(ccp_alphas, test_scores, marker=\"o\", label=\"test\", drawstyle=\"steps-post\")\n",
    "plt.legend()\n",
    "plt.savefig('accuracy.pdf')\n",
    "plt.show()"
   ]
  },
  {
   "cell_type": "markdown",
   "metadata": {},
   "source": [
    "# Motorcycle example"
   ]
  },
  {
   "cell_type": "code",
   "execution_count": null,
   "metadata": {},
   "outputs": [],
   "source": [
    "motorcycle = pd.read_csv(_DATA_DIR + 'motorcycle.csv')"
   ]
  },
  {
   "cell_type": "code",
   "execution_count": null,
   "metadata": {},
   "outputs": [],
   "source": [
    "from sklearn.tree import DecisionTreeRegressor\n",
    "from sklearn.model_selection import train_test_split\n",
    "\n",
    "X = np.array(motorcycle.times).reshape(-1, 1)\n",
    "y = motorcycle.accel\n",
    "\n",
    "# Fit a single tree\n",
    "\n",
    "reg = DecisionTreeRegressor(max_depth = 5).fit(X, y)\n",
    "y_pred = reg.predict(X)\n",
    "                    \n",
    "plt.figure(figsize = (10,6))\n",
    "ax = plt.gca()\n",
    "ax.plot(X, y,'o')\n",
    "ax.plot(X,y_pred,linewidth= 3)\n",
    "plt.xlabel('times',size =20)\n",
    "plt.ylabel('accels', size =20)\n",
    "\n",
    "plt.show()\n",
    "\n"
   ]
  },
  {
   "cell_type": "code",
   "execution_count": null,
   "metadata": {},
   "outputs": [],
   "source": [
    "plt.figure(figsize = (36,12))\n",
    "plot_tree(reg, filled=True, fontsize = 12)\n",
    "\n",
    "#plt.savefig('rf_tree.pdf')\n",
    "plt.show()"
   ]
  },
  {
   "cell_type": "code",
   "execution_count": null,
   "metadata": {},
   "outputs": [],
   "source": [
    "# Samlping\n",
    "import random\n",
    "\n",
    "col_ = [f\"Simu {i}\" for i in range(5)]\n",
    "RF_result = pd.DataFrame(columns = col_)\n",
    "\n",
    "plt.figure(figsize = (10,6))\n",
    "ax = plt.gca()\n",
    "ax.plot(X, y,'o')\n",
    "plt.xlabel('times',size =20)\n",
    "plt.ylabel('accels', size =20)\n",
    "\n",
    "for i in range(5):\n",
    "\n",
    "    idx =  random.sample(range(len(X)),60)\n",
    "\n",
    "    X_sub = X[idx]\n",
    "    y_sub = y[idx]\n",
    "\n",
    "    reg = DecisionTreeRegressor(max_depth = 4).fit(X_sub, y_sub)\n",
    "    y_pred = reg.predict(X)\n",
    "    \n",
    "    RF_result.iloc[:,i] = y_pred\n",
    "\n",
    "    ax.plot(X,y_pred, linewidth = 3)"
   ]
  },
  {
   "cell_type": "code",
   "execution_count": null,
   "metadata": {},
   "outputs": [],
   "source": [
    "# Average\n",
    "\n",
    "plt.figure(figsize = (10,6))\n",
    "ax = plt.gca()\n",
    "plt.xlabel('times',size =20)\n",
    "plt.ylabel('accels', size =20)\n",
    "ax.plot(X, y,'o')\n",
    "ax.plot(X,RF_result.mean(axis = 1), linewidth = 3)\n",
    "\n",
    "plt.show()"
   ]
  },
  {
   "cell_type": "code",
   "execution_count": null,
   "metadata": {},
   "outputs": [],
   "source": [
    "# Random Forest with package\n",
    "from sklearn.ensemble import RandomForestRegressor\n",
    "\n",
    "reg = RandomForestRegressor().fit(X, y)\n",
    "y_pred = reg.predict(X)\n",
    "                    \n",
    "plt.figure(figsize = (10,6))\n",
    "ax = plt.gca()\n",
    "ax.plot(X, y,'o')\n",
    "ax.plot(X,y_pred,linewidth= 3)\n",
    "plt.xlabel('times',size =20)\n",
    "plt.ylabel('accels', size =20)\n",
    "plt.show()"
   ]
  },
  {
   "cell_type": "code",
   "execution_count": null,
   "metadata": {},
   "outputs": [],
   "source": [
    "from sklearn.metrics import mean_squared_error\n",
    "tree_num = range(10,300)\n",
    "\n",
    "MSE = []\n",
    "\n",
    "for i in tree_num:\n",
    "    reg = RandomForestRegressor(n_estimators = i).fit(X, y)\n",
    "    y_pred = reg.predict(X)\n",
    "    \n",
    "    MSE.append(mean_squared_error(y,y_pred))"
   ]
  },
  {
   "cell_type": "code",
   "execution_count": null,
   "metadata": {},
   "outputs": [],
   "source": [
    "plt.plot(range(10,300),MSE)"
   ]
  },
  {
   "cell_type": "markdown",
   "metadata": {},
   "source": [
    "# CA housing"
   ]
  },
  {
   "cell_type": "code",
   "execution_count": null,
   "metadata": {},
   "outputs": [],
   "source": [
    "CAhousing = pd.read_csv(_DATA_DIR+'CAhousing.csv')"
   ]
  },
  {
   "cell_type": "code",
   "execution_count": null,
   "metadata": {},
   "outputs": [],
   "source": [
    "CAhousing"
   ]
  },
  {
   "cell_type": "code",
   "execution_count": null,
   "metadata": {},
   "outputs": [],
   "source": [
    "CAhousing['AveBedrms'] = CAhousing.totalBedrooms / CAhousing.households\n",
    "CAhousing['AveRooms'] = CAhousing.totalRooms / CAhousing.households\n",
    "CAhousing['AveOccupancy'] = CAhousing.population / CAhousing.households\n",
    "CAhousing['logMedVal'] = CAhousing['medianHouseValue'].apply(lambda x: np.log(x))\n",
    "CAhousing = CAhousing.drop(columns = ['totalRooms','totalBedrooms','medianHouseValue'])"
   ]
  },
  {
   "cell_type": "code",
   "execution_count": null,
   "metadata": {},
   "outputs": [],
   "source": [
    "X = CAhousing.drop(columns='logMedVal')\n",
    "y = CAhousing['logMedVal']"
   ]
  },
  {
   "cell_type": "markdown",
   "metadata": {},
   "source": [
    "## decision tree"
   ]
  },
  {
   "cell_type": "code",
   "execution_count": null,
   "metadata": {},
   "outputs": [],
   "source": [
    "CART = tree.DecisionTreeRegressor(max_leaf_nodes=12).fit(X, y)\n",
    "text_representation = tree.export_text(CART,feature_names=list(X.columns))\n",
    "plt.figure(figsize = (16,8))\n",
    "# tree\n",
    "plot_tree(CART, filled=True,feature_names=list(X.columns))\n",
    "plt.show()"
   ]
  },
  {
   "cell_type": "markdown",
   "metadata": {},
   "source": [
    "## random forest"
   ]
  },
  {
   "cell_type": "code",
   "execution_count": null,
   "metadata": {},
   "outputs": [],
   "source": [
    "from sklearn.ensemble import RandomForestClassifier, RandomForestRegressor\n",
    "\n",
    "RF=RandomForestRegressor(n_estimators=100).fit(X, y)"
   ]
  },
  {
   "cell_type": "code",
   "execution_count": null,
   "metadata": {},
   "outputs": [],
   "source": [
    "feature_names = X.columns\n",
    "importances = RF.feature_importances_\n",
    "std = np.std([tree.feature_importances_ for tree in RF.estimators_], axis=0)\n",
    "forest_importances = pd.Series(importances, index=feature_names)\n",
    "\n",
    "\n",
    "fig, ax = plt.subplots(figsize =(16, 9))\n",
    "forest_importances.plot.bar(yerr=std, ax=ax)\n",
    "ax.set_title(\"Feature importances\")\n",
    "ax.set_ylabel(\"Mean decrease in impurity\")\n",
    "fig.tight_layout()\n"
   ]
  },
  {
   "cell_type": "markdown",
   "metadata": {},
   "source": [
    "## LASSO"
   ]
  },
  {
   "cell_type": "code",
   "execution_count": null,
   "metadata": {},
   "outputs": [],
   "source": [
    "from sklearn.linear_model import LassoCV, Lasso\n",
    "from sklearn.preprocessing import StandardScaler"
   ]
  },
  {
   "cell_type": "code",
   "execution_count": null,
   "metadata": {},
   "outputs": [],
   "source": [
    "Xscaler = StandardScaler().fit(X) \n",
    "\n",
    "X_scaled = Xscaler.transform(X)\n"
   ]
  },
  {
   "cell_type": "code",
   "execution_count": null,
   "metadata": {},
   "outputs": [],
   "source": [
    "model = LassoCV(cv=5, random_state = 0, max_iter=10000)\n",
    "\n",
    "model.fit(X_scaled, y)\n",
    "\n",
    "# Show best value of penalization chosen by CV\n",
    "alpha_ = model.alpha_\n",
    "print(alpha_)\n",
    "\n",
    "# refit\n",
    "lasso = Lasso(max_iter=10000)\n",
    "LASSO = lasso.set_params(alpha=alpha_).fit(X_scaled, y)"
   ]
  },
  {
   "cell_type": "code",
   "execution_count": null,
   "metadata": {},
   "outputs": [],
   "source": [
    "pred_CART = CART.predict(X)\n",
    "pred_RF = RF.predict(X)\n",
    "pred_LASSO = LASSO.predict(X_scaled)\n",
    "\n",
    "resid_CART = pred_CART-y\n",
    "resid_RF = pred_RF-y\n",
    "resid_LASSO = pred_LASSO-y"
   ]
  },
  {
   "cell_type": "markdown",
   "metadata": {},
   "source": [
    "## visualization"
   ]
  },
  {
   "cell_type": "code",
   "execution_count": null,
   "metadata": {},
   "outputs": [],
   "source": [
    "def residmap(y):\n",
    "    \n",
    "    y = pd.DataFrame(y)\n",
    "    \n",
    "    df = pd.concat([y,CAhousing[['longitude','latitude']]],axis=1)\n",
    "    df.columns = ['resid','longitude','latitude']\n",
    "    \n",
    "    df.loc[df['resid']<=-2,'residuals'] = -2\n",
    "    df.loc[((df['resid']>-2) & (df['resid']<=2)),'residuals'] = 0\n",
    "    df.loc[df['resid']>2,'residuals'] = 2\n",
    "\n",
    "    geo_df = gpd.GeoDataFrame(df, geometry=gpd.points_from_xy(df.longitude, df.latitude))\n",
    "\n",
    "    ax = usa.boundary.plot(edgecolor = 'black', figsize= (16,9))\n",
    "\n",
    "    geo_df[geo_df.residuals == -2].plot(ax=ax, color = 'red',label = '-2',markersize=50)\n",
    "    geo_df[geo_df.residuals == 0].plot(ax=ax, color = '#fffaea',label = '0',markersize=10)\n",
    "    geo_df[geo_df.residuals == 2].plot(ax=ax, color = 'blue',label = '2',markersize=50)\n",
    "\n",
    "    plt.legend()\n",
    "    plt.title('residuals')\n",
    "    plt.axis('off')\n",
    "    return plt"
   ]
  },
  {
   "cell_type": "code",
   "execution_count": null,
   "metadata": {},
   "outputs": [],
   "source": [
    "def predmap(y):\n",
    "    \n",
    "    y = pd.DataFrame(y)\n",
    "    \n",
    "    df = pd.concat([y,CAhousing[['longitude','latitude']]],axis=1)\n",
    "    df.columns = ['pred','longitude','latitude']\n",
    "    \n",
    "    df.loc[df['pred']<=np.log(20000),'prediction'] = 20\n",
    "    df.loc[((df['pred']>np.log(20000)) & (df['pred']<=np.log(100000))),'prediction'] = 100\n",
    "    df.loc[((df['pred']>np.log(100000)) & (df['pred']<=np.log(400000))),'prediction'] = 400\n",
    "    df.loc[((df['pred']>np.log(400000)) & (df['pred']<=np.log(1000000))),'prediction'] = 1000\n",
    "\n",
    "    geo_df = gpd.GeoDataFrame(df, geometry=gpd.points_from_xy(df.longitude, df.latitude))\n",
    "\n",
    "    ax = usa.boundary.plot(edgecolor = 'black', figsize= (16,9))\n",
    "\n",
    "    geo_df[geo_df.prediction == 20].plot(ax=ax, color = '#fffaea',label = '20k',markersize=4)\n",
    "    geo_df[geo_df.prediction == 100].plot(ax=ax, color = 'yellow',label = '100k',markersize=4)\n",
    "    geo_df[geo_df.prediction == 400].plot(ax=ax, color = 'orange',label = '400k',markersize=4)\n",
    "    geo_df[geo_df.prediction == 1000].plot(ax=ax, color = 'red',label = '1 mil',markersize=4)\n",
    "\n",
    "    plt.legend()\n",
    "    plt.title('prediction')\n",
    "    plt.axis('off')\n",
    "    return plt"
   ]
  },
  {
   "cell_type": "code",
   "execution_count": null,
   "metadata": {},
   "outputs": [],
   "source": [
    "import geopandas as gpd\n",
    "# Get the USA map\n",
    "usa_map = gpd.read_file(\"%s/cb_2018_us_state_20m.shp\"%(_DATA_DIR))\n",
    "#usa = usa_map[~usa_map.NAME.isin(['Alaska','Hawaii','Puerto Rico'])]\n",
    "usa = usa_map[usa_map.index.isin([12])] #CA"
   ]
  },
  {
   "cell_type": "code",
   "execution_count": null,
   "metadata": {},
   "outputs": [],
   "source": [
    "pred_CART_plot = predmap(pred_CART)\n",
    "pred_CART_plot.savefig('pred_CART_plot.pdf')"
   ]
  },
  {
   "cell_type": "code",
   "execution_count": null,
   "metadata": {},
   "outputs": [],
   "source": [
    "pred_RF_plot = predmap(pred_RF)\n",
    "pred_RF_plot.savefig('pred_RF_plot.pdf')"
   ]
  },
  {
   "cell_type": "code",
   "execution_count": null,
   "metadata": {},
   "outputs": [],
   "source": [
    "pred_LASSO_plot = predmap(pred_LASSO)\n",
    "pred_LASSO_plot.savefig('pred_LASSO_plot.pdf')"
   ]
  },
  {
   "cell_type": "code",
   "execution_count": null,
   "metadata": {},
   "outputs": [],
   "source": [
    "resid_CART_plot = residmap(resid_CART)\n",
    "resid_CART_plot.savefig('resid_CART_plot.pdf')"
   ]
  },
  {
   "cell_type": "code",
   "execution_count": null,
   "metadata": {},
   "outputs": [],
   "source": [
    "resid_RF_plot = residmap(resid_RF)\n",
    "resid_RF_plot.savefig('resid_RF_plot.pdf')"
   ]
  },
  {
   "cell_type": "code",
   "execution_count": null,
   "metadata": {},
   "outputs": [],
   "source": [
    "resid_LASSO_plot = residmap(resid_LASSO)\n",
    "resid_LASSO_plot.savefig('resid_LASSO_plot.pdf')"
   ]
  },
  {
   "cell_type": "markdown",
   "metadata": {},
   "source": [
    "## OOS"
   ]
  },
  {
   "cell_type": "code",
   "execution_count": null,
   "metadata": {},
   "outputs": [],
   "source": [
    "from sklearn.metrics import mean_squared_error\n",
    "from sklearn.model_selection import cross_val_score\n",
    "# setup the experimente\n",
    "n = X.shape[0]  # the number of observations\n",
    "np.random.seed(0)\n",
    "CAhousing = CAhousing.sample(frac=1).reset_index(drop=True)\n",
    "K = 5  # the number of `folds'\n",
    "# create a vector of fold memberships\n",
    "tmp = np.repeat(np.array(range(1,K+1)), np.ceil(n/K))[0:n]\n",
    "\n",
    "# foldid = pd.DataFrame(sample(list(tmp), n)) # cross-validation\n",
    "foldid = pd.DataFrame(tmp)\n",
    "foldid.columns= ['foldid']"
   ]
  },
  {
   "cell_type": "code",
   "execution_count": null,
   "metadata": {},
   "outputs": [],
   "source": [
    "def deviance(y, pred, family):\n",
    "    if family == 'gaussian':\n",
    "        return np.sum((y - pred)**2)\n",
    "    if family == 'binomial':\n",
    "        return -2 * np.sum(y * np.log(pred) + (1-y) * np.log(1-pred))"
   ]
  },
  {
   "cell_type": "code",
   "execution_count": null,
   "metadata": {
    "scrolled": true
   },
   "outputs": [],
   "source": [
    "# CART\n",
    "np.random.seed(0)\n",
    "r_2_CART = []\n",
    "MSE_CART = []\n",
    "\n",
    "for k in range(K):\n",
    "    train_idx = foldid[foldid.foldid != (k+1)].index.tolist()\n",
    "    valid_idx = foldid[foldid.foldid == (k+1)].index.tolist()\n",
    "    train = CAhousing.iloc[train_idx,:]\n",
    "    valid = CAhousing.iloc[valid_idx,:]\n",
    "    X_train = train.drop(columns = 'logMedVal')\n",
    "    y_train = train.logMedVal\n",
    "    X_valid = valid.drop(columns = 'logMedVal')\n",
    "    y_valid = valid.logMedVal\n",
    "    scores = []\n",
    "    np.random.seed(0)\n",
    "    for i in range(10,200,5):\n",
    "        clf = tree.DecisionTreeRegressor(max_leaf_nodes=i)\n",
    "        score = cross_val_score(clf, X_train, y=y_train, cv=5)\n",
    "        scores.append(score.mean())\n",
    "    Ns = np.arange(10,200,5)\n",
    "    N = Ns[np.argmax(scores)]\n",
    "    #plt.figure(figsize=(8,6))\n",
    "    #plt.plot(Ns,scores)\n",
    "    #plt.show()\n",
    "    CART = tree.DecisionTreeRegressor(max_leaf_nodes=N).fit(X_train, y_train)\n",
    "    y_pred = CART.predict(X_valid)\n",
    "    dev0 = deviance(y_valid,y_valid.mean(), family = 'gaussian')\n",
    "    dev = deviance(y_valid, y_pred, family = 'gaussian')\n",
    "    r_2_CART.append(1-dev/dev0)\n",
    "    MSE_CART.append(mean_squared_error(y_valid,y_pred))"
   ]
  },
  {
   "cell_type": "code",
   "execution_count": null,
   "metadata": {},
   "outputs": [],
   "source": [
    "# RF\n",
    "r_2_RF = []\n",
    "MSE_RF = []\n",
    "\n",
    "for k in range(K):\n",
    "    train_idx = foldid[foldid.foldid != (k+1)].index.tolist()\n",
    "    valid_idx = foldid[foldid.foldid == (k+1)].index.tolist()\n",
    "    train = CAhousing.iloc[train_idx,:]\n",
    "    valid = CAhousing.iloc[valid_idx,:]\n",
    "    X_train = train.drop(columns = 'logMedVal')\n",
    "    y_train = train.logMedVal\n",
    "    X_valid = valid.drop(columns = 'logMedVal')\n",
    "    y_valid = valid.logMedVal\n",
    "\n",
    "\n",
    "    RF = RandomForestRegressor(n_estimators=100).fit(X_train, y_train)\n",
    "    y_pred = RF.predict(X_valid)\n",
    "\n",
    "\n",
    "    dev0 = deviance(y_valid,y_valid.mean(), family = 'gaussian')\n",
    "    dev = deviance(y_valid, y_pred, family = 'gaussian')\n",
    "\n",
    "    r_2_RF.append(1-dev/dev0)\n",
    "    MSE_RF.append(mean_squared_error(y_valid,y_pred))"
   ]
  },
  {
   "cell_type": "code",
   "execution_count": null,
   "metadata": {},
   "outputs": [],
   "source": [
    "# LASSO\n",
    "r_2_LASSO = []\n",
    "MSE_LASSO = []\n",
    "\n",
    "for k in range(K):\n",
    "    train_idx = foldid[foldid.foldid != (k+1)].index.tolist()\n",
    "    valid_idx = foldid[foldid.foldid == (k+1)].index.tolist()\n",
    "    train = CAhousing.iloc[train_idx,:]\n",
    "    valid = CAhousing.iloc[valid_idx,:]\n",
    "    X_train = train.drop(columns = 'logMedVal')\n",
    "    y_train = train.logMedVal\n",
    "    X_valid = valid.drop(columns = 'logMedVal')\n",
    "    y_valid = valid.logMedVal\n",
    "\n",
    "\n",
    "    model = LassoCV(cv=5, random_state = 0, max_iter=10000).fit(X_train, y_train)\n",
    "    alpha_ = model.alpha_\n",
    "    \n",
    "    lasso = Lasso(max_iter=10000)\n",
    "    LASSO = lasso.set_params(alpha=alpha_).fit(X_train, y_train)\n",
    "    y_pred = LASSO.predict(X_valid)\n",
    "\n",
    "\n",
    "    dev0 = deviance(y_valid,y_valid.mean(), family = 'gaussian')\n",
    "    dev = deviance(y_valid, y_pred, family = 'gaussian')\n",
    "\n",
    "    r_2_LASSO.append(1-dev/dev0)\n",
    "    MSE_LASSO.append(mean_squared_error(y_valid,y_pred))"
   ]
  },
  {
   "cell_type": "code",
   "execution_count": null,
   "metadata": {},
   "outputs": [],
   "source": [
    "OOS_R2 = pd.DataFrame({'CART':r_2_CART,'RF': r_2_RF, 'LASSO': r_2_LASSO})\n",
    "OOS_R2"
   ]
  },
  {
   "cell_type": "code",
   "execution_count": null,
   "metadata": {},
   "outputs": [],
   "source": [
    "OOS_MSE = pd.DataFrame({'CART':MSE_CART,'RF': MSE_RF, 'LASSO': MSE_LASSO})\n",
    "OOS_MSE"
   ]
  },
  {
   "cell_type": "code",
   "execution_count": null,
   "metadata": {},
   "outputs": [],
   "source": [
    "plt.figure(figsize = (16,8))\n",
    "\n",
    "plt.subplot(1, 2, 1)\n",
    "\n",
    "sns.boxplot(data=OOS_R2 )\n",
    "plt.xlabel('model')\n",
    "plt.ylabel('R2')\n",
    "plt.title('OOS R2')\n",
    "\n",
    "plt.subplot(1, 2, 2)\n",
    "\n",
    "sns.boxplot(data=OOS_MSE )\n",
    "plt.xlabel('model')\n",
    "plt.ylabel('MSE')\n",
    "plt.title('OOS MSE')\n",
    "plt.savefig('oos.pdf')"
   ]
  },
  {
   "cell_type": "code",
   "execution_count": null,
   "metadata": {},
   "outputs": [],
   "source": []
  }
 ],
 "metadata": {
  "kernelspec": {
   "display_name": "Python 3",
   "language": "python",
   "name": "python3"
  },
  "language_info": {
   "codemirror_mode": {
    "name": "ipython",
    "version": 3
   },
   "file_extension": ".py",
   "mimetype": "text/x-python",
   "name": "python",
   "nbconvert_exporter": "python",
   "pygments_lexer": "ipython3",
   "version": "3.6.8"
  }
 },
 "nbformat": 4,
 "nbformat_minor": 4
}
